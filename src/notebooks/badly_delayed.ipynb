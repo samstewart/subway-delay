{
 "cells": [
  {
   "cell_type": "code",
   "execution_count": null,
   "metadata": {
    "collapsed": true
   },
   "outputs": [],
   "source": []
  },
  {
   "cell_type": "code",
   "execution_count": 2,
   "outputs": [],
   "source": [
    "import pandas as pd\n",
    "import dill\n",
    "import plotly.express as px\n",
    "pd.options.plotting.backend = \"plotly\"\n",
    "\n",
    "diffs = pd.read_pickle('diff_from_schedule.pkl')"
   ],
   "metadata": {
    "collapsed": false,
    "pycharm": {
     "name": "#%%\n"
    }
   }
  },
  {
   "cell_type": "code",
   "execution_count": null,
   "outputs": [],
   "source": [
    "# what part of delay is explained by overcrowding vs waiting on the train in front of you?\n",
    "# how to tell if train is waiting on train at next station?\n",
    "# what is the buffer baked into the schedule? Can we lower it safely?\n",
    "# markov model for joint distribution (I think the problem has a natural markov structure since the last\n",
    "# delay will include the only part of the total delay we care about)\n",
    "# what is the operating advice we can give MTA?\n",
    "# can we compare performance to post covid?\n",
    "# can we estimate arrival time of next train?\n",
    "# P(Arrival = T | station, last train arrival). Also should be markov?\n",
    "# what is difference between markov and renewal process?\n",
    "# renewal process have to have IID dist inter event intervals?\n"
   ],
   "metadata": {
    "collapsed": false,
    "pycharm": {
     "name": "#%%\n"
    }
   }
  },
  {
   "cell_type": "code",
   "execution_count": 224,
   "outputs": [
    {
     "data": {
      "application/vnd.plotly.v1+json": {
       "config": {
        "plotlyServerURL": "https://plot.ly"
       },
       "data": [
        {
         "hovertemplate": "variable=2020-01-16 11:51:00<br>index=%{x}<br>value=%{y}<extra></extra>",
         "legendgroup": "2020-01-16 11:51:00",
         "line": {
          "color": "#636efa",
          "dash": "solid"
         },
         "mode": "lines",
         "name": "2020-01-16 11:51:00",
         "orientation": "v",
         "showlegend": true,
         "type": "scatter",
         "x": [
          1,
          2,
          3,
          4,
          5,
          6,
          7,
          8,
          9,
          10,
          11,
          12,
          13,
          14,
          15,
          16,
          17,
          18,
          19,
          20,
          21,
          22,
          23,
          24,
          25,
          26,
          27,
          28,
          29,
          30,
          31,
          32,
          33,
          34,
          35,
          36,
          37
         ],
         "xaxis": "x",
         "y": [
          null,
          null,
          null,
          null,
          null,
          null,
          null,
          null,
          "2020-01-16T12:02:49",
          "2020-01-16T12:03:56",
          "2020-01-16T12:05:00",
          "2020-01-16T12:06:10",
          "2020-01-16T12:07:38",
          "2020-01-16T12:09:56",
          "2020-01-16T12:11:37",
          "2020-01-16T12:13:00",
          "2020-01-16T12:14:21",
          "2020-01-16T12:16:06",
          "2020-01-16T12:17:28",
          "2020-01-16T12:19:02",
          "2020-01-16T12:20:42",
          "2020-01-16T12:22:01",
          "2020-01-16T12:23:14",
          "2020-01-16T12:24:53",
          "2020-01-16T12:26:42",
          "2020-01-16T12:28:12",
          "2020-01-16T12:29:57",
          "2020-01-16T12:31:32",
          "2020-01-16T12:33:22",
          "2020-01-16T12:34:51",
          "2020-01-16T12:36:15",
          "2020-01-16T12:37:51",
          "2020-01-16T12:39:16",
          null,
          null,
          null,
          "2020-01-16T12:51:33"
         ],
         "yaxis": "y"
        },
        {
         "hovertemplate": "variable=2020-01-16 11:57:00<br>index=%{x}<br>value=%{y}<extra></extra>",
         "legendgroup": "2020-01-16 11:57:00",
         "line": {
          "color": "#EF553B",
          "dash": "solid"
         },
         "mode": "lines",
         "name": "2020-01-16 11:57:00",
         "orientation": "v",
         "showlegend": true,
         "type": "scatter",
         "x": [
          1,
          2,
          3,
          4,
          5,
          6,
          7,
          8,
          9,
          10,
          11,
          12,
          13,
          14,
          15,
          16,
          17,
          18,
          19,
          20,
          21,
          22,
          23,
          24,
          25,
          26,
          27,
          28,
          29,
          30,
          31,
          32,
          33,
          34,
          35,
          36,
          37
         ],
         "xaxis": "x",
         "y": [
          null,
          null,
          null,
          "2020-01-16T12:02:12",
          "2020-01-16T12:03:20",
          "2020-01-16T12:04:35",
          "2020-01-16T12:05:55",
          "2020-01-16T12:07:10",
          "2020-01-16T12:08:21",
          "2020-01-16T12:09:29",
          "2020-01-16T12:10:44",
          "2020-01-16T12:11:53",
          "2020-01-16T12:13:25",
          "2020-01-16T12:15:33",
          "2020-01-16T12:17:11",
          "2020-01-16T12:18:52",
          "2020-01-16T12:20:17",
          "2020-01-16T12:21:48",
          "2020-01-16T12:23:12",
          "2020-01-16T12:24:45",
          "2020-01-16T12:27:05",
          "2020-01-16T12:28:24",
          "2020-01-16T12:29:39",
          "2020-01-16T12:31:21",
          "2020-01-16T12:33:05",
          "2020-01-16T12:34:33",
          "2020-01-16T12:36:22",
          "2020-01-16T12:38:01",
          "2020-01-16T12:39:52",
          "2020-01-16T12:41:21",
          "2020-01-16T12:42:50",
          "2020-01-16T12:44:33",
          "2020-01-16T12:45:58",
          null,
          null,
          null,
          "2020-01-16T12:57:13"
         ],
         "yaxis": "y"
        },
        {
         "hovertemplate": "variable=2020-01-16 12:03:00<br>index=%{x}<br>value=%{y}<extra></extra>",
         "legendgroup": "2020-01-16 12:03:00",
         "line": {
          "color": "#00cc96",
          "dash": "solid"
         },
         "mode": "lines",
         "name": "2020-01-16 12:03:00",
         "orientation": "v",
         "showlegend": true,
         "type": "scatter",
         "x": [
          1,
          2,
          3,
          4,
          5,
          6,
          7,
          8,
          9,
          10,
          11,
          12,
          13,
          14,
          15,
          16,
          17,
          18,
          19,
          20,
          21,
          22,
          23,
          24,
          25,
          26,
          27,
          28,
          29,
          30,
          31,
          32,
          33,
          34,
          35,
          36,
          37
         ],
         "xaxis": "x",
         "y": [
          "2020-01-16T12:04:40",
          "2020-01-16T12:06:00",
          "2020-01-16T12:07:20",
          "2020-01-16T12:08:46",
          "2020-01-16T12:09:53",
          "2020-01-16T12:11:24",
          "2020-01-16T12:12:52",
          "2020-01-16T12:14:18",
          "2020-01-16T12:15:32",
          "2020-01-16T12:16:40",
          "2020-01-16T12:17:49",
          "2020-01-16T12:19:14",
          "2020-01-16T12:20:49",
          "2020-01-16T12:23:01",
          "2020-01-16T12:24:43",
          "2020-01-16T12:26:15",
          "2020-01-16T12:27:38",
          "2020-01-16T12:29:21",
          "2020-01-16T12:30:52",
          "2020-01-16T12:32:24",
          "2020-01-16T12:34:08",
          "2020-01-16T12:35:32",
          "2020-01-16T12:36:53",
          "2020-01-16T12:38:33",
          "2020-01-16T12:40:14",
          "2020-01-16T12:41:48",
          "2020-01-16T12:43:44",
          "2020-01-16T12:45:28",
          "2020-01-16T12:47:31",
          "2020-01-16T12:49:05",
          "2020-01-16T12:50:32",
          "2020-01-16T12:52:13",
          "2020-01-16T12:53:41",
          null,
          null,
          null,
          "2020-01-16T13:03:48"
         ],
         "yaxis": "y"
        },
        {
         "hovertemplate": "variable=2020-01-16 12:09:00<br>index=%{x}<br>value=%{y}<extra></extra>",
         "legendgroup": "2020-01-16 12:09:00",
         "line": {
          "color": "#ab63fa",
          "dash": "solid"
         },
         "mode": "lines",
         "name": "2020-01-16 12:09:00",
         "orientation": "v",
         "showlegend": true,
         "type": "scatter",
         "x": [
          1,
          2,
          3,
          4,
          5,
          6,
          7,
          8,
          9,
          10,
          11,
          12,
          13,
          14,
          15,
          16,
          17,
          18,
          19,
          20,
          21,
          22,
          23,
          24,
          25,
          26,
          27,
          28,
          29,
          30,
          31,
          32,
          33,
          34,
          35,
          36,
          37
         ],
         "xaxis": "x",
         "y": [
          "2020-01-16T12:09:46",
          "2020-01-16T12:11:00",
          "2020-01-16T12:12:13",
          "2020-01-16T12:13:29",
          "2020-01-16T12:14:38",
          "2020-01-16T12:15:55",
          "2020-01-16T12:17:16",
          "2020-01-16T12:18:33",
          "2020-01-16T12:20:02",
          "2020-01-16T12:21:04",
          "2020-01-16T12:22:27",
          "2020-01-16T12:23:37",
          "2020-01-16T12:25:05",
          "2020-01-16T12:27:25",
          "2020-01-16T12:29:01",
          "2020-01-16T12:30:26",
          "2020-01-16T12:31:46",
          "2020-01-16T12:33:18",
          "2020-01-16T12:34:39",
          "2020-01-16T12:36:10",
          "2020-01-16T12:39:28",
          "2020-01-16T12:41:11",
          "2020-01-16T12:42:34",
          "2020-01-16T12:44:13",
          "2020-01-16T12:46:01",
          "2020-01-16T12:47:29",
          "2020-01-16T12:49:22",
          "2020-01-16T12:51:09",
          "2020-01-16T12:53:01",
          "2020-01-16T12:54:29",
          "2020-01-16T12:55:56",
          "2020-01-16T12:57:36",
          "2020-01-16T12:58:58",
          null,
          null,
          null,
          "2020-01-16T13:08:05"
         ],
         "yaxis": "y"
        },
        {
         "hovertemplate": "variable=2020-01-16 12:15:00<br>index=%{x}<br>value=%{y}<extra></extra>",
         "legendgroup": "2020-01-16 12:15:00",
         "line": {
          "color": "#FFA15A",
          "dash": "solid"
         },
         "mode": "lines",
         "name": "2020-01-16 12:15:00",
         "orientation": "v",
         "showlegend": true,
         "type": "scatter",
         "x": [
          1,
          2,
          3,
          4,
          5,
          6,
          7,
          8,
          9,
          10,
          11,
          12,
          13,
          14,
          15,
          16,
          17,
          18,
          19,
          20,
          21,
          22,
          23,
          24,
          25,
          26,
          27,
          28,
          29,
          30,
          31,
          32,
          33,
          34,
          35,
          36,
          37
         ],
         "xaxis": "x",
         "y": [
          "2020-01-16T12:16:47",
          "2020-01-16T12:18:03",
          "2020-01-16T12:19:18",
          "2020-01-16T12:20:41",
          "2020-01-16T12:21:51",
          "2020-01-16T12:23:16",
          "2020-01-16T12:24:42",
          "2020-01-16T12:26:02",
          "2020-01-16T12:27:22",
          "2020-01-16T12:28:35",
          "2020-01-16T12:29:53",
          "2020-01-16T12:31:12",
          "2020-01-16T12:32:47",
          "2020-01-16T12:35:03",
          "2020-01-16T12:36:48",
          "2020-01-16T12:38:22",
          "2020-01-16T12:39:51",
          "2020-01-16T12:41:29",
          "2020-01-16T12:42:53",
          "2020-01-16T12:44:26",
          "2020-01-16T12:46:09",
          "2020-01-16T12:47:35",
          "2020-01-16T12:48:54",
          "2020-01-16T12:50:38",
          "2020-01-16T12:52:18",
          "2020-01-16T12:53:54",
          "2020-01-16T12:55:43",
          "2020-01-16T12:57:29",
          "2020-01-16T12:59:24",
          "2020-01-16T13:00:57",
          "2020-01-16T13:02:30",
          "2020-01-16T13:04:09",
          "2020-01-16T13:05:39",
          null,
          null,
          null,
          "2020-01-16T13:11:50"
         ],
         "yaxis": "y"
        },
        {
         "hovertemplate": "variable=2020-01-16 12:21:00<br>index=%{x}<br>value=%{y}<extra></extra>",
         "legendgroup": "2020-01-16 12:21:00",
         "line": {
          "color": "#19d3f3",
          "dash": "solid"
         },
         "mode": "lines",
         "name": "2020-01-16 12:21:00",
         "orientation": "v",
         "showlegend": true,
         "type": "scatter",
         "x": [
          1,
          2,
          3,
          4,
          5,
          6,
          7,
          8,
          9,
          10,
          11,
          12,
          13,
          14,
          15,
          16,
          17,
          18,
          19,
          20,
          21,
          22,
          23,
          24,
          25,
          26,
          27,
          28,
          29,
          30,
          31,
          32,
          33,
          34,
          35,
          36,
          37
         ],
         "xaxis": "x",
         "y": [
          "2020-01-16T12:22:15",
          "2020-01-16T12:23:27",
          "2020-01-16T12:24:36",
          "2020-01-16T12:25:49",
          "2020-01-16T12:26:51",
          "2020-01-16T12:28:09",
          "2020-01-16T12:29:25",
          "2020-01-16T12:30:41",
          "2020-01-16T12:31:46",
          "2020-01-16T12:32:52",
          "2020-01-16T12:33:54",
          "2020-01-16T12:35:05",
          "2020-01-16T12:36:32",
          "2020-01-16T12:38:38",
          "2020-01-16T12:40:14",
          "2020-01-16T12:41:31",
          "2020-01-16T12:42:52",
          "2020-01-16T12:44:21",
          "2020-01-16T12:45:40",
          "2020-01-16T12:47:05",
          "2020-01-16T12:50:51",
          "2020-01-16T12:52:06",
          "2020-01-16T12:53:19",
          "2020-01-16T12:54:55",
          "2020-01-16T12:56:32",
          "2020-01-16T12:57:57",
          "2020-01-16T12:59:52",
          "2020-01-16T13:01:25",
          "2020-01-16T13:03:13",
          "2020-01-16T13:04:43",
          "2020-01-16T13:06:06",
          "2020-01-16T13:07:40",
          "2020-01-16T13:09:13",
          null,
          null,
          null,
          "2020-01-16T13:19:05"
         ],
         "yaxis": "y"
        },
        {
         "hovertemplate": "variable=2020-01-16 12:27:00<br>index=%{x}<br>value=%{y}<extra></extra>",
         "legendgroup": "2020-01-16 12:27:00",
         "line": {
          "color": "#FF6692",
          "dash": "solid"
         },
         "mode": "lines",
         "name": "2020-01-16 12:27:00",
         "orientation": "v",
         "showlegend": true,
         "type": "scatter",
         "x": [
          1,
          2,
          3,
          4,
          5,
          6,
          7,
          8,
          9,
          10,
          11,
          12,
          13,
          14,
          15,
          16,
          17,
          18,
          19,
          20,
          21,
          22,
          23,
          24,
          25,
          26,
          27,
          28,
          29,
          30,
          31,
          32,
          33,
          34,
          35,
          36,
          37
         ],
         "xaxis": "x",
         "y": [
          "2020-01-16T12:28:29",
          "2020-01-16T12:29:38",
          "2020-01-16T12:30:52",
          "2020-01-16T12:32:13",
          "2020-01-16T12:33:25",
          "2020-01-16T12:34:43",
          "2020-01-16T12:36:03",
          "2020-01-16T12:37:27",
          "2020-01-16T12:38:42",
          "2020-01-16T12:39:45",
          "2020-01-16T12:40:58",
          "2020-01-16T12:42:13",
          "2020-01-16T12:43:43",
          "2020-01-16T12:45:54",
          "2020-01-16T12:47:31",
          "2020-01-16T12:48:56",
          "2020-01-16T12:50:18",
          "2020-01-16T12:51:48",
          "2020-01-16T12:53:15",
          "2020-01-16T12:54:49",
          "2020-01-16T12:57:02",
          "2020-01-16T12:58:20",
          "2020-01-16T12:59:35",
          "2020-01-16T13:01:14",
          "2020-01-16T13:02:54",
          "2020-01-16T13:04:18",
          "2020-01-16T13:06:02",
          "2020-01-16T13:07:43",
          "2020-01-16T13:09:36",
          "2020-01-16T13:11:10",
          "2020-01-16T13:12:39",
          "2020-01-16T13:14:07",
          "2020-01-16T13:15:31",
          null,
          null,
          null,
          "2020-01-16T13:26:29"
         ],
         "yaxis": "y"
        },
        {
         "hovertemplate": "variable=2020-01-16 12:39:00<br>index=%{x}<br>value=%{y}<extra></extra>",
         "legendgroup": "2020-01-16 12:39:00",
         "line": {
          "color": "#B6E880",
          "dash": "solid"
         },
         "mode": "lines",
         "name": "2020-01-16 12:39:00",
         "orientation": "v",
         "showlegend": true,
         "type": "scatter",
         "x": [
          1,
          2,
          3,
          4,
          5,
          6,
          7,
          8,
          9,
          10,
          11,
          12,
          13,
          14,
          15,
          16,
          17,
          18,
          19,
          20,
          21,
          22,
          23,
          24,
          25,
          26,
          27,
          28,
          29,
          30,
          31,
          32,
          33,
          34,
          35,
          36,
          37
         ],
         "xaxis": "x",
         "y": [
          "2020-01-16T12:38:10",
          "2020-01-16T12:39:23",
          "2020-01-16T12:40:38",
          "2020-01-16T12:41:56",
          "2020-01-16T12:43:04",
          "2020-01-16T12:44:33",
          "2020-01-16T12:45:58",
          "2020-01-16T12:47:15",
          "2020-01-16T12:48:44",
          "2020-01-16T12:50:00",
          "2020-01-16T12:51:08",
          "2020-01-16T12:52:29",
          "2020-01-16T12:54:13",
          "2020-01-16T12:56:44",
          "2020-01-16T12:58:28",
          "2020-01-16T13:00:05",
          "2020-01-16T13:01:33",
          "2020-01-16T13:03:11",
          "2020-01-16T13:04:42",
          "2020-01-16T13:06:14",
          "2020-01-16T13:09:15",
          "2020-01-16T13:10:45",
          "2020-01-16T13:12:05",
          "2020-01-16T13:13:47",
          "2020-01-16T13:15:35",
          "2020-01-16T13:17:05",
          "2020-01-16T13:19:02",
          "2020-01-16T13:20:44",
          "2020-01-16T13:22:44",
          "2020-01-16T13:24:21",
          "2020-01-16T13:25:49",
          "2020-01-16T13:27:23",
          "2020-01-16T13:28:49",
          null,
          null,
          null,
          "2020-01-16T13:35:07"
         ],
         "yaxis": "y"
        }
       ],
       "layout": {
        "legend": {
         "title": {
          "text": "variable"
         },
         "tracegroupgap": 0
        },
        "margin": {
         "t": 60
        },
        "template": {
         "data": {
          "bar": [
           {
            "error_x": {
             "color": "#2a3f5f"
            },
            "error_y": {
             "color": "#2a3f5f"
            },
            "marker": {
             "line": {
              "color": "#E5ECF6",
              "width": 0.5
             }
            },
            "type": "bar"
           }
          ],
          "barpolar": [
           {
            "marker": {
             "line": {
              "color": "#E5ECF6",
              "width": 0.5
             }
            },
            "type": "barpolar"
           }
          ],
          "carpet": [
           {
            "aaxis": {
             "endlinecolor": "#2a3f5f",
             "gridcolor": "white",
             "linecolor": "white",
             "minorgridcolor": "white",
             "startlinecolor": "#2a3f5f"
            },
            "baxis": {
             "endlinecolor": "#2a3f5f",
             "gridcolor": "white",
             "linecolor": "white",
             "minorgridcolor": "white",
             "startlinecolor": "#2a3f5f"
            },
            "type": "carpet"
           }
          ],
          "choropleth": [
           {
            "colorbar": {
             "outlinewidth": 0,
             "ticks": ""
            },
            "type": "choropleth"
           }
          ],
          "contour": [
           {
            "colorbar": {
             "outlinewidth": 0,
             "ticks": ""
            },
            "colorscale": [
             [
              0.0,
              "#0d0887"
             ],
             [
              0.1111111111111111,
              "#46039f"
             ],
             [
              0.2222222222222222,
              "#7201a8"
             ],
             [
              0.3333333333333333,
              "#9c179e"
             ],
             [
              0.4444444444444444,
              "#bd3786"
             ],
             [
              0.5555555555555556,
              "#d8576b"
             ],
             [
              0.6666666666666666,
              "#ed7953"
             ],
             [
              0.7777777777777778,
              "#fb9f3a"
             ],
             [
              0.8888888888888888,
              "#fdca26"
             ],
             [
              1.0,
              "#f0f921"
             ]
            ],
            "type": "contour"
           }
          ],
          "contourcarpet": [
           {
            "colorbar": {
             "outlinewidth": 0,
             "ticks": ""
            },
            "type": "contourcarpet"
           }
          ],
          "heatmap": [
           {
            "colorbar": {
             "outlinewidth": 0,
             "ticks": ""
            },
            "colorscale": [
             [
              0.0,
              "#0d0887"
             ],
             [
              0.1111111111111111,
              "#46039f"
             ],
             [
              0.2222222222222222,
              "#7201a8"
             ],
             [
              0.3333333333333333,
              "#9c179e"
             ],
             [
              0.4444444444444444,
              "#bd3786"
             ],
             [
              0.5555555555555556,
              "#d8576b"
             ],
             [
              0.6666666666666666,
              "#ed7953"
             ],
             [
              0.7777777777777778,
              "#fb9f3a"
             ],
             [
              0.8888888888888888,
              "#fdca26"
             ],
             [
              1.0,
              "#f0f921"
             ]
            ],
            "type": "heatmap"
           }
          ],
          "heatmapgl": [
           {
            "colorbar": {
             "outlinewidth": 0,
             "ticks": ""
            },
            "colorscale": [
             [
              0.0,
              "#0d0887"
             ],
             [
              0.1111111111111111,
              "#46039f"
             ],
             [
              0.2222222222222222,
              "#7201a8"
             ],
             [
              0.3333333333333333,
              "#9c179e"
             ],
             [
              0.4444444444444444,
              "#bd3786"
             ],
             [
              0.5555555555555556,
              "#d8576b"
             ],
             [
              0.6666666666666666,
              "#ed7953"
             ],
             [
              0.7777777777777778,
              "#fb9f3a"
             ],
             [
              0.8888888888888888,
              "#fdca26"
             ],
             [
              1.0,
              "#f0f921"
             ]
            ],
            "type": "heatmapgl"
           }
          ],
          "histogram": [
           {
            "marker": {
             "colorbar": {
              "outlinewidth": 0,
              "ticks": ""
             }
            },
            "type": "histogram"
           }
          ],
          "histogram2d": [
           {
            "colorbar": {
             "outlinewidth": 0,
             "ticks": ""
            },
            "colorscale": [
             [
              0.0,
              "#0d0887"
             ],
             [
              0.1111111111111111,
              "#46039f"
             ],
             [
              0.2222222222222222,
              "#7201a8"
             ],
             [
              0.3333333333333333,
              "#9c179e"
             ],
             [
              0.4444444444444444,
              "#bd3786"
             ],
             [
              0.5555555555555556,
              "#d8576b"
             ],
             [
              0.6666666666666666,
              "#ed7953"
             ],
             [
              0.7777777777777778,
              "#fb9f3a"
             ],
             [
              0.8888888888888888,
              "#fdca26"
             ],
             [
              1.0,
              "#f0f921"
             ]
            ],
            "type": "histogram2d"
           }
          ],
          "histogram2dcontour": [
           {
            "colorbar": {
             "outlinewidth": 0,
             "ticks": ""
            },
            "colorscale": [
             [
              0.0,
              "#0d0887"
             ],
             [
              0.1111111111111111,
              "#46039f"
             ],
             [
              0.2222222222222222,
              "#7201a8"
             ],
             [
              0.3333333333333333,
              "#9c179e"
             ],
             [
              0.4444444444444444,
              "#bd3786"
             ],
             [
              0.5555555555555556,
              "#d8576b"
             ],
             [
              0.6666666666666666,
              "#ed7953"
             ],
             [
              0.7777777777777778,
              "#fb9f3a"
             ],
             [
              0.8888888888888888,
              "#fdca26"
             ],
             [
              1.0,
              "#f0f921"
             ]
            ],
            "type": "histogram2dcontour"
           }
          ],
          "mesh3d": [
           {
            "colorbar": {
             "outlinewidth": 0,
             "ticks": ""
            },
            "type": "mesh3d"
           }
          ],
          "parcoords": [
           {
            "line": {
             "colorbar": {
              "outlinewidth": 0,
              "ticks": ""
             }
            },
            "type": "parcoords"
           }
          ],
          "pie": [
           {
            "automargin": true,
            "type": "pie"
           }
          ],
          "scatter": [
           {
            "marker": {
             "colorbar": {
              "outlinewidth": 0,
              "ticks": ""
             }
            },
            "type": "scatter"
           }
          ],
          "scatter3d": [
           {
            "line": {
             "colorbar": {
              "outlinewidth": 0,
              "ticks": ""
             }
            },
            "marker": {
             "colorbar": {
              "outlinewidth": 0,
              "ticks": ""
             }
            },
            "type": "scatter3d"
           }
          ],
          "scattercarpet": [
           {
            "marker": {
             "colorbar": {
              "outlinewidth": 0,
              "ticks": ""
             }
            },
            "type": "scattercarpet"
           }
          ],
          "scattergeo": [
           {
            "marker": {
             "colorbar": {
              "outlinewidth": 0,
              "ticks": ""
             }
            },
            "type": "scattergeo"
           }
          ],
          "scattergl": [
           {
            "marker": {
             "colorbar": {
              "outlinewidth": 0,
              "ticks": ""
             }
            },
            "type": "scattergl"
           }
          ],
          "scattermapbox": [
           {
            "marker": {
             "colorbar": {
              "outlinewidth": 0,
              "ticks": ""
             }
            },
            "type": "scattermapbox"
           }
          ],
          "scatterpolar": [
           {
            "marker": {
             "colorbar": {
              "outlinewidth": 0,
              "ticks": ""
             }
            },
            "type": "scatterpolar"
           }
          ],
          "scatterpolargl": [
           {
            "marker": {
             "colorbar": {
              "outlinewidth": 0,
              "ticks": ""
             }
            },
            "type": "scatterpolargl"
           }
          ],
          "scatterternary": [
           {
            "marker": {
             "colorbar": {
              "outlinewidth": 0,
              "ticks": ""
             }
            },
            "type": "scatterternary"
           }
          ],
          "surface": [
           {
            "colorbar": {
             "outlinewidth": 0,
             "ticks": ""
            },
            "colorscale": [
             [
              0.0,
              "#0d0887"
             ],
             [
              0.1111111111111111,
              "#46039f"
             ],
             [
              0.2222222222222222,
              "#7201a8"
             ],
             [
              0.3333333333333333,
              "#9c179e"
             ],
             [
              0.4444444444444444,
              "#bd3786"
             ],
             [
              0.5555555555555556,
              "#d8576b"
             ],
             [
              0.6666666666666666,
              "#ed7953"
             ],
             [
              0.7777777777777778,
              "#fb9f3a"
             ],
             [
              0.8888888888888888,
              "#fdca26"
             ],
             [
              1.0,
              "#f0f921"
             ]
            ],
            "type": "surface"
           }
          ],
          "table": [
           {
            "cells": {
             "fill": {
              "color": "#EBF0F8"
             },
             "line": {
              "color": "white"
             }
            },
            "header": {
             "fill": {
              "color": "#C8D4E3"
             },
             "line": {
              "color": "white"
             }
            },
            "type": "table"
           }
          ]
         },
         "layout": {
          "annotationdefaults": {
           "arrowcolor": "#2a3f5f",
           "arrowhead": 0,
           "arrowwidth": 1
          },
          "coloraxis": {
           "colorbar": {
            "outlinewidth": 0,
            "ticks": ""
           }
          },
          "colorscale": {
           "diverging": [
            [
             0,
             "#8e0152"
            ],
            [
             0.1,
             "#c51b7d"
            ],
            [
             0.2,
             "#de77ae"
            ],
            [
             0.3,
             "#f1b6da"
            ],
            [
             0.4,
             "#fde0ef"
            ],
            [
             0.5,
             "#f7f7f7"
            ],
            [
             0.6,
             "#e6f5d0"
            ],
            [
             0.7,
             "#b8e186"
            ],
            [
             0.8,
             "#7fbc41"
            ],
            [
             0.9,
             "#4d9221"
            ],
            [
             1,
             "#276419"
            ]
           ],
           "sequential": [
            [
             0.0,
             "#0d0887"
            ],
            [
             0.1111111111111111,
             "#46039f"
            ],
            [
             0.2222222222222222,
             "#7201a8"
            ],
            [
             0.3333333333333333,
             "#9c179e"
            ],
            [
             0.4444444444444444,
             "#bd3786"
            ],
            [
             0.5555555555555556,
             "#d8576b"
            ],
            [
             0.6666666666666666,
             "#ed7953"
            ],
            [
             0.7777777777777778,
             "#fb9f3a"
            ],
            [
             0.8888888888888888,
             "#fdca26"
            ],
            [
             1.0,
             "#f0f921"
            ]
           ],
           "sequentialminus": [
            [
             0.0,
             "#0d0887"
            ],
            [
             0.1111111111111111,
             "#46039f"
            ],
            [
             0.2222222222222222,
             "#7201a8"
            ],
            [
             0.3333333333333333,
             "#9c179e"
            ],
            [
             0.4444444444444444,
             "#bd3786"
            ],
            [
             0.5555555555555556,
             "#d8576b"
            ],
            [
             0.6666666666666666,
             "#ed7953"
            ],
            [
             0.7777777777777778,
             "#fb9f3a"
            ],
            [
             0.8888888888888888,
             "#fdca26"
            ],
            [
             1.0,
             "#f0f921"
            ]
           ]
          },
          "colorway": [
           "#636efa",
           "#EF553B",
           "#00cc96",
           "#ab63fa",
           "#FFA15A",
           "#19d3f3",
           "#FF6692",
           "#B6E880",
           "#FF97FF",
           "#FECB52"
          ],
          "font": {
           "color": "#2a3f5f"
          },
          "geo": {
           "bgcolor": "white",
           "lakecolor": "white",
           "landcolor": "#E5ECF6",
           "showlakes": true,
           "showland": true,
           "subunitcolor": "white"
          },
          "hoverlabel": {
           "align": "left"
          },
          "hovermode": "closest",
          "mapbox": {
           "style": "light"
          },
          "paper_bgcolor": "white",
          "plot_bgcolor": "#E5ECF6",
          "polar": {
           "angularaxis": {
            "gridcolor": "white",
            "linecolor": "white",
            "ticks": ""
           },
           "bgcolor": "#E5ECF6",
           "radialaxis": {
            "gridcolor": "white",
            "linecolor": "white",
            "ticks": ""
           }
          },
          "scene": {
           "xaxis": {
            "backgroundcolor": "#E5ECF6",
            "gridcolor": "white",
            "gridwidth": 2,
            "linecolor": "white",
            "showbackground": true,
            "ticks": "",
            "zerolinecolor": "white"
           },
           "yaxis": {
            "backgroundcolor": "#E5ECF6",
            "gridcolor": "white",
            "gridwidth": 2,
            "linecolor": "white",
            "showbackground": true,
            "ticks": "",
            "zerolinecolor": "white"
           },
           "zaxis": {
            "backgroundcolor": "#E5ECF6",
            "gridcolor": "white",
            "gridwidth": 2,
            "linecolor": "white",
            "showbackground": true,
            "ticks": "",
            "zerolinecolor": "white"
           }
          },
          "shapedefaults": {
           "line": {
            "color": "#2a3f5f"
           }
          },
          "ternary": {
           "aaxis": {
            "gridcolor": "white",
            "linecolor": "white",
            "ticks": ""
           },
           "baxis": {
            "gridcolor": "white",
            "linecolor": "white",
            "ticks": ""
           },
           "bgcolor": "#E5ECF6",
           "caxis": {
            "gridcolor": "white",
            "linecolor": "white",
            "ticks": ""
           }
          },
          "title": {
           "x": 0.05
          },
          "xaxis": {
           "automargin": true,
           "gridcolor": "white",
           "linecolor": "white",
           "ticks": "",
           "title": {
            "standoff": 15
           },
           "zerolinecolor": "white",
           "zerolinewidth": 2
          },
          "yaxis": {
           "automargin": true,
           "gridcolor": "white",
           "linecolor": "white",
           "ticks": "",
           "title": {
            "standoff": 15
           },
           "zerolinecolor": "white",
           "zerolinewidth": 2
          }
         }
        },
        "xaxis": {
         "anchor": "y",
         "domain": [
          0.0,
          1.0
         ],
         "title": {
          "text": "index"
         }
        },
        "yaxis": {
         "anchor": "x",
         "domain": [
          0.0,
          1.0
         ],
         "title": {
          "text": "value"
         }
        }
       }
      },
      "text/html": "<div>\n        \n        \n            <div id=\"0af2f0e6-5958-4f1a-8332-1ec4a1166534\" class=\"plotly-graph-div\" style=\"height:525px; width:100%;\"></div>\n            <script type=\"text/javascript\">\n                require([\"plotly\"], function(Plotly) {\n                    window.PLOTLYENV=window.PLOTLYENV || {};\n                    \n                if (document.getElementById(\"0af2f0e6-5958-4f1a-8332-1ec4a1166534\")) {\n                    Plotly.newPlot(\n                        '0af2f0e6-5958-4f1a-8332-1ec4a1166534',\n                        [{\"hovertemplate\": \"variable=2020-01-16 11:51:00<br>index=%{x}<br>value=%{y}<extra></extra>\", \"legendgroup\": \"2020-01-16 11:51:00\", \"line\": {\"color\": \"#636efa\", \"dash\": \"solid\"}, \"mode\": \"lines\", \"name\": \"2020-01-16 11:51:00\", \"orientation\": \"v\", \"showlegend\": true, \"type\": \"scatter\", \"x\": [1, 2, 3, 4, 5, 6, 7, 8, 9, 10, 11, 12, 13, 14, 15, 16, 17, 18, 19, 20, 21, 22, 23, 24, 25, 26, 27, 28, 29, 30, 31, 32, 33, 34, 35, 36, 37], \"xaxis\": \"x\", \"y\": [null, null, null, null, null, null, null, null, \"2020-01-16T12:02:49\", \"2020-01-16T12:03:56\", \"2020-01-16T12:05:00\", \"2020-01-16T12:06:10\", \"2020-01-16T12:07:38\", \"2020-01-16T12:09:56\", \"2020-01-16T12:11:37\", \"2020-01-16T12:13:00\", \"2020-01-16T12:14:21\", \"2020-01-16T12:16:06\", \"2020-01-16T12:17:28\", \"2020-01-16T12:19:02\", \"2020-01-16T12:20:42\", \"2020-01-16T12:22:01\", \"2020-01-16T12:23:14\", \"2020-01-16T12:24:53\", \"2020-01-16T12:26:42\", \"2020-01-16T12:28:12\", \"2020-01-16T12:29:57\", \"2020-01-16T12:31:32\", \"2020-01-16T12:33:22\", \"2020-01-16T12:34:51\", \"2020-01-16T12:36:15\", \"2020-01-16T12:37:51\", \"2020-01-16T12:39:16\", null, null, null, \"2020-01-16T12:51:33\"], \"yaxis\": \"y\"}, {\"hovertemplate\": \"variable=2020-01-16 11:57:00<br>index=%{x}<br>value=%{y}<extra></extra>\", \"legendgroup\": \"2020-01-16 11:57:00\", \"line\": {\"color\": \"#EF553B\", \"dash\": \"solid\"}, \"mode\": \"lines\", \"name\": \"2020-01-16 11:57:00\", \"orientation\": \"v\", \"showlegend\": true, \"type\": \"scatter\", \"x\": [1, 2, 3, 4, 5, 6, 7, 8, 9, 10, 11, 12, 13, 14, 15, 16, 17, 18, 19, 20, 21, 22, 23, 24, 25, 26, 27, 28, 29, 30, 31, 32, 33, 34, 35, 36, 37], \"xaxis\": \"x\", \"y\": [null, null, null, \"2020-01-16T12:02:12\", \"2020-01-16T12:03:20\", \"2020-01-16T12:04:35\", \"2020-01-16T12:05:55\", \"2020-01-16T12:07:10\", \"2020-01-16T12:08:21\", \"2020-01-16T12:09:29\", \"2020-01-16T12:10:44\", \"2020-01-16T12:11:53\", \"2020-01-16T12:13:25\", \"2020-01-16T12:15:33\", \"2020-01-16T12:17:11\", \"2020-01-16T12:18:52\", \"2020-01-16T12:20:17\", \"2020-01-16T12:21:48\", \"2020-01-16T12:23:12\", \"2020-01-16T12:24:45\", \"2020-01-16T12:27:05\", \"2020-01-16T12:28:24\", \"2020-01-16T12:29:39\", \"2020-01-16T12:31:21\", \"2020-01-16T12:33:05\", \"2020-01-16T12:34:33\", \"2020-01-16T12:36:22\", \"2020-01-16T12:38:01\", \"2020-01-16T12:39:52\", \"2020-01-16T12:41:21\", \"2020-01-16T12:42:50\", \"2020-01-16T12:44:33\", \"2020-01-16T12:45:58\", null, null, null, \"2020-01-16T12:57:13\"], \"yaxis\": \"y\"}, {\"hovertemplate\": \"variable=2020-01-16 12:03:00<br>index=%{x}<br>value=%{y}<extra></extra>\", \"legendgroup\": \"2020-01-16 12:03:00\", \"line\": {\"color\": \"#00cc96\", \"dash\": \"solid\"}, \"mode\": \"lines\", \"name\": \"2020-01-16 12:03:00\", \"orientation\": \"v\", \"showlegend\": true, \"type\": \"scatter\", \"x\": [1, 2, 3, 4, 5, 6, 7, 8, 9, 10, 11, 12, 13, 14, 15, 16, 17, 18, 19, 20, 21, 22, 23, 24, 25, 26, 27, 28, 29, 30, 31, 32, 33, 34, 35, 36, 37], \"xaxis\": \"x\", \"y\": [\"2020-01-16T12:04:40\", \"2020-01-16T12:06:00\", \"2020-01-16T12:07:20\", \"2020-01-16T12:08:46\", \"2020-01-16T12:09:53\", \"2020-01-16T12:11:24\", \"2020-01-16T12:12:52\", \"2020-01-16T12:14:18\", \"2020-01-16T12:15:32\", \"2020-01-16T12:16:40\", \"2020-01-16T12:17:49\", \"2020-01-16T12:19:14\", \"2020-01-16T12:20:49\", \"2020-01-16T12:23:01\", \"2020-01-16T12:24:43\", \"2020-01-16T12:26:15\", \"2020-01-16T12:27:38\", \"2020-01-16T12:29:21\", \"2020-01-16T12:30:52\", \"2020-01-16T12:32:24\", \"2020-01-16T12:34:08\", \"2020-01-16T12:35:32\", \"2020-01-16T12:36:53\", \"2020-01-16T12:38:33\", \"2020-01-16T12:40:14\", \"2020-01-16T12:41:48\", \"2020-01-16T12:43:44\", \"2020-01-16T12:45:28\", \"2020-01-16T12:47:31\", \"2020-01-16T12:49:05\", \"2020-01-16T12:50:32\", \"2020-01-16T12:52:13\", \"2020-01-16T12:53:41\", null, null, null, \"2020-01-16T13:03:48\"], \"yaxis\": \"y\"}, {\"hovertemplate\": \"variable=2020-01-16 12:09:00<br>index=%{x}<br>value=%{y}<extra></extra>\", \"legendgroup\": \"2020-01-16 12:09:00\", \"line\": {\"color\": \"#ab63fa\", \"dash\": \"solid\"}, \"mode\": \"lines\", \"name\": \"2020-01-16 12:09:00\", \"orientation\": \"v\", \"showlegend\": true, \"type\": \"scatter\", \"x\": [1, 2, 3, 4, 5, 6, 7, 8, 9, 10, 11, 12, 13, 14, 15, 16, 17, 18, 19, 20, 21, 22, 23, 24, 25, 26, 27, 28, 29, 30, 31, 32, 33, 34, 35, 36, 37], \"xaxis\": \"x\", \"y\": [\"2020-01-16T12:09:46\", \"2020-01-16T12:11:00\", \"2020-01-16T12:12:13\", \"2020-01-16T12:13:29\", \"2020-01-16T12:14:38\", \"2020-01-16T12:15:55\", \"2020-01-16T12:17:16\", \"2020-01-16T12:18:33\", \"2020-01-16T12:20:02\", \"2020-01-16T12:21:04\", \"2020-01-16T12:22:27\", \"2020-01-16T12:23:37\", \"2020-01-16T12:25:05\", \"2020-01-16T12:27:25\", \"2020-01-16T12:29:01\", \"2020-01-16T12:30:26\", \"2020-01-16T12:31:46\", \"2020-01-16T12:33:18\", \"2020-01-16T12:34:39\", \"2020-01-16T12:36:10\", \"2020-01-16T12:39:28\", \"2020-01-16T12:41:11\", \"2020-01-16T12:42:34\", \"2020-01-16T12:44:13\", \"2020-01-16T12:46:01\", \"2020-01-16T12:47:29\", \"2020-01-16T12:49:22\", \"2020-01-16T12:51:09\", \"2020-01-16T12:53:01\", \"2020-01-16T12:54:29\", \"2020-01-16T12:55:56\", \"2020-01-16T12:57:36\", \"2020-01-16T12:58:58\", null, null, null, \"2020-01-16T13:08:05\"], \"yaxis\": \"y\"}, {\"hovertemplate\": \"variable=2020-01-16 12:15:00<br>index=%{x}<br>value=%{y}<extra></extra>\", \"legendgroup\": \"2020-01-16 12:15:00\", \"line\": {\"color\": \"#FFA15A\", \"dash\": \"solid\"}, \"mode\": \"lines\", \"name\": \"2020-01-16 12:15:00\", \"orientation\": \"v\", \"showlegend\": true, \"type\": \"scatter\", \"x\": [1, 2, 3, 4, 5, 6, 7, 8, 9, 10, 11, 12, 13, 14, 15, 16, 17, 18, 19, 20, 21, 22, 23, 24, 25, 26, 27, 28, 29, 30, 31, 32, 33, 34, 35, 36, 37], \"xaxis\": \"x\", \"y\": [\"2020-01-16T12:16:47\", \"2020-01-16T12:18:03\", \"2020-01-16T12:19:18\", \"2020-01-16T12:20:41\", \"2020-01-16T12:21:51\", \"2020-01-16T12:23:16\", \"2020-01-16T12:24:42\", \"2020-01-16T12:26:02\", \"2020-01-16T12:27:22\", \"2020-01-16T12:28:35\", \"2020-01-16T12:29:53\", \"2020-01-16T12:31:12\", \"2020-01-16T12:32:47\", \"2020-01-16T12:35:03\", \"2020-01-16T12:36:48\", \"2020-01-16T12:38:22\", \"2020-01-16T12:39:51\", \"2020-01-16T12:41:29\", \"2020-01-16T12:42:53\", \"2020-01-16T12:44:26\", \"2020-01-16T12:46:09\", \"2020-01-16T12:47:35\", \"2020-01-16T12:48:54\", \"2020-01-16T12:50:38\", \"2020-01-16T12:52:18\", \"2020-01-16T12:53:54\", \"2020-01-16T12:55:43\", \"2020-01-16T12:57:29\", \"2020-01-16T12:59:24\", \"2020-01-16T13:00:57\", \"2020-01-16T13:02:30\", \"2020-01-16T13:04:09\", \"2020-01-16T13:05:39\", null, null, null, \"2020-01-16T13:11:50\"], \"yaxis\": \"y\"}, {\"hovertemplate\": \"variable=2020-01-16 12:21:00<br>index=%{x}<br>value=%{y}<extra></extra>\", \"legendgroup\": \"2020-01-16 12:21:00\", \"line\": {\"color\": \"#19d3f3\", \"dash\": \"solid\"}, \"mode\": \"lines\", \"name\": \"2020-01-16 12:21:00\", \"orientation\": \"v\", \"showlegend\": true, \"type\": \"scatter\", \"x\": [1, 2, 3, 4, 5, 6, 7, 8, 9, 10, 11, 12, 13, 14, 15, 16, 17, 18, 19, 20, 21, 22, 23, 24, 25, 26, 27, 28, 29, 30, 31, 32, 33, 34, 35, 36, 37], \"xaxis\": \"x\", \"y\": [\"2020-01-16T12:22:15\", \"2020-01-16T12:23:27\", \"2020-01-16T12:24:36\", \"2020-01-16T12:25:49\", \"2020-01-16T12:26:51\", \"2020-01-16T12:28:09\", \"2020-01-16T12:29:25\", \"2020-01-16T12:30:41\", \"2020-01-16T12:31:46\", \"2020-01-16T12:32:52\", \"2020-01-16T12:33:54\", \"2020-01-16T12:35:05\", \"2020-01-16T12:36:32\", \"2020-01-16T12:38:38\", \"2020-01-16T12:40:14\", \"2020-01-16T12:41:31\", \"2020-01-16T12:42:52\", \"2020-01-16T12:44:21\", \"2020-01-16T12:45:40\", \"2020-01-16T12:47:05\", \"2020-01-16T12:50:51\", \"2020-01-16T12:52:06\", \"2020-01-16T12:53:19\", \"2020-01-16T12:54:55\", \"2020-01-16T12:56:32\", \"2020-01-16T12:57:57\", \"2020-01-16T12:59:52\", \"2020-01-16T13:01:25\", \"2020-01-16T13:03:13\", \"2020-01-16T13:04:43\", \"2020-01-16T13:06:06\", \"2020-01-16T13:07:40\", \"2020-01-16T13:09:13\", null, null, null, \"2020-01-16T13:19:05\"], \"yaxis\": \"y\"}, {\"hovertemplate\": \"variable=2020-01-16 12:27:00<br>index=%{x}<br>value=%{y}<extra></extra>\", \"legendgroup\": \"2020-01-16 12:27:00\", \"line\": {\"color\": \"#FF6692\", \"dash\": \"solid\"}, \"mode\": \"lines\", \"name\": \"2020-01-16 12:27:00\", \"orientation\": \"v\", \"showlegend\": true, \"type\": \"scatter\", \"x\": [1, 2, 3, 4, 5, 6, 7, 8, 9, 10, 11, 12, 13, 14, 15, 16, 17, 18, 19, 20, 21, 22, 23, 24, 25, 26, 27, 28, 29, 30, 31, 32, 33, 34, 35, 36, 37], \"xaxis\": \"x\", \"y\": [\"2020-01-16T12:28:29\", \"2020-01-16T12:29:38\", \"2020-01-16T12:30:52\", \"2020-01-16T12:32:13\", \"2020-01-16T12:33:25\", \"2020-01-16T12:34:43\", \"2020-01-16T12:36:03\", \"2020-01-16T12:37:27\", \"2020-01-16T12:38:42\", \"2020-01-16T12:39:45\", \"2020-01-16T12:40:58\", \"2020-01-16T12:42:13\", \"2020-01-16T12:43:43\", \"2020-01-16T12:45:54\", \"2020-01-16T12:47:31\", \"2020-01-16T12:48:56\", \"2020-01-16T12:50:18\", \"2020-01-16T12:51:48\", \"2020-01-16T12:53:15\", \"2020-01-16T12:54:49\", \"2020-01-16T12:57:02\", \"2020-01-16T12:58:20\", \"2020-01-16T12:59:35\", \"2020-01-16T13:01:14\", \"2020-01-16T13:02:54\", \"2020-01-16T13:04:18\", \"2020-01-16T13:06:02\", \"2020-01-16T13:07:43\", \"2020-01-16T13:09:36\", \"2020-01-16T13:11:10\", \"2020-01-16T13:12:39\", \"2020-01-16T13:14:07\", \"2020-01-16T13:15:31\", null, null, null, \"2020-01-16T13:26:29\"], \"yaxis\": \"y\"}, {\"hovertemplate\": \"variable=2020-01-16 12:39:00<br>index=%{x}<br>value=%{y}<extra></extra>\", \"legendgroup\": \"2020-01-16 12:39:00\", \"line\": {\"color\": \"#B6E880\", \"dash\": \"solid\"}, \"mode\": \"lines\", \"name\": \"2020-01-16 12:39:00\", \"orientation\": \"v\", \"showlegend\": true, \"type\": \"scatter\", \"x\": [1, 2, 3, 4, 5, 6, 7, 8, 9, 10, 11, 12, 13, 14, 15, 16, 17, 18, 19, 20, 21, 22, 23, 24, 25, 26, 27, 28, 29, 30, 31, 32, 33, 34, 35, 36, 37], \"xaxis\": \"x\", \"y\": [\"2020-01-16T12:38:10\", \"2020-01-16T12:39:23\", \"2020-01-16T12:40:38\", \"2020-01-16T12:41:56\", \"2020-01-16T12:43:04\", \"2020-01-16T12:44:33\", \"2020-01-16T12:45:58\", \"2020-01-16T12:47:15\", \"2020-01-16T12:48:44\", \"2020-01-16T12:50:00\", \"2020-01-16T12:51:08\", \"2020-01-16T12:52:29\", \"2020-01-16T12:54:13\", \"2020-01-16T12:56:44\", \"2020-01-16T12:58:28\", \"2020-01-16T13:00:05\", \"2020-01-16T13:01:33\", \"2020-01-16T13:03:11\", \"2020-01-16T13:04:42\", \"2020-01-16T13:06:14\", \"2020-01-16T13:09:15\", \"2020-01-16T13:10:45\", \"2020-01-16T13:12:05\", \"2020-01-16T13:13:47\", \"2020-01-16T13:15:35\", \"2020-01-16T13:17:05\", \"2020-01-16T13:19:02\", \"2020-01-16T13:20:44\", \"2020-01-16T13:22:44\", \"2020-01-16T13:24:21\", \"2020-01-16T13:25:49\", \"2020-01-16T13:27:23\", \"2020-01-16T13:28:49\", null, null, null, \"2020-01-16T13:35:07\"], \"yaxis\": \"y\"}],\n                        {\"legend\": {\"title\": {\"text\": \"variable\"}, \"tracegroupgap\": 0}, \"margin\": {\"t\": 60}, \"template\": {\"data\": {\"bar\": [{\"error_x\": {\"color\": \"#2a3f5f\"}, \"error_y\": {\"color\": \"#2a3f5f\"}, \"marker\": {\"line\": {\"color\": \"#E5ECF6\", \"width\": 0.5}}, \"type\": \"bar\"}], \"barpolar\": [{\"marker\": {\"line\": {\"color\": \"#E5ECF6\", \"width\": 0.5}}, \"type\": \"barpolar\"}], \"carpet\": [{\"aaxis\": {\"endlinecolor\": \"#2a3f5f\", \"gridcolor\": \"white\", \"linecolor\": \"white\", \"minorgridcolor\": \"white\", \"startlinecolor\": \"#2a3f5f\"}, \"baxis\": {\"endlinecolor\": \"#2a3f5f\", \"gridcolor\": \"white\", \"linecolor\": \"white\", \"minorgridcolor\": \"white\", \"startlinecolor\": \"#2a3f5f\"}, \"type\": \"carpet\"}], \"choropleth\": [{\"colorbar\": {\"outlinewidth\": 0, \"ticks\": \"\"}, \"type\": \"choropleth\"}], \"contour\": [{\"colorbar\": {\"outlinewidth\": 0, \"ticks\": \"\"}, \"colorscale\": [[0.0, \"#0d0887\"], [0.1111111111111111, \"#46039f\"], [0.2222222222222222, \"#7201a8\"], [0.3333333333333333, \"#9c179e\"], [0.4444444444444444, \"#bd3786\"], [0.5555555555555556, \"#d8576b\"], [0.6666666666666666, \"#ed7953\"], [0.7777777777777778, \"#fb9f3a\"], [0.8888888888888888, \"#fdca26\"], [1.0, \"#f0f921\"]], \"type\": \"contour\"}], \"contourcarpet\": [{\"colorbar\": {\"outlinewidth\": 0, \"ticks\": \"\"}, \"type\": \"contourcarpet\"}], \"heatmap\": [{\"colorbar\": {\"outlinewidth\": 0, \"ticks\": \"\"}, \"colorscale\": [[0.0, \"#0d0887\"], [0.1111111111111111, \"#46039f\"], [0.2222222222222222, \"#7201a8\"], [0.3333333333333333, \"#9c179e\"], [0.4444444444444444, \"#bd3786\"], [0.5555555555555556, \"#d8576b\"], [0.6666666666666666, \"#ed7953\"], [0.7777777777777778, \"#fb9f3a\"], [0.8888888888888888, \"#fdca26\"], [1.0, \"#f0f921\"]], \"type\": \"heatmap\"}], \"heatmapgl\": [{\"colorbar\": {\"outlinewidth\": 0, \"ticks\": \"\"}, \"colorscale\": [[0.0, \"#0d0887\"], [0.1111111111111111, \"#46039f\"], [0.2222222222222222, \"#7201a8\"], [0.3333333333333333, \"#9c179e\"], [0.4444444444444444, \"#bd3786\"], [0.5555555555555556, \"#d8576b\"], [0.6666666666666666, \"#ed7953\"], [0.7777777777777778, \"#fb9f3a\"], [0.8888888888888888, \"#fdca26\"], [1.0, \"#f0f921\"]], \"type\": \"heatmapgl\"}], \"histogram\": [{\"marker\": {\"colorbar\": {\"outlinewidth\": 0, \"ticks\": \"\"}}, \"type\": \"histogram\"}], \"histogram2d\": [{\"colorbar\": {\"outlinewidth\": 0, \"ticks\": \"\"}, \"colorscale\": [[0.0, \"#0d0887\"], [0.1111111111111111, \"#46039f\"], [0.2222222222222222, \"#7201a8\"], [0.3333333333333333, \"#9c179e\"], [0.4444444444444444, \"#bd3786\"], [0.5555555555555556, \"#d8576b\"], [0.6666666666666666, \"#ed7953\"], [0.7777777777777778, \"#fb9f3a\"], [0.8888888888888888, \"#fdca26\"], [1.0, \"#f0f921\"]], \"type\": \"histogram2d\"}], \"histogram2dcontour\": [{\"colorbar\": {\"outlinewidth\": 0, \"ticks\": \"\"}, \"colorscale\": [[0.0, \"#0d0887\"], [0.1111111111111111, \"#46039f\"], [0.2222222222222222, \"#7201a8\"], [0.3333333333333333, \"#9c179e\"], [0.4444444444444444, \"#bd3786\"], [0.5555555555555556, \"#d8576b\"], [0.6666666666666666, \"#ed7953\"], [0.7777777777777778, \"#fb9f3a\"], [0.8888888888888888, \"#fdca26\"], [1.0, \"#f0f921\"]], \"type\": \"histogram2dcontour\"}], \"mesh3d\": [{\"colorbar\": {\"outlinewidth\": 0, \"ticks\": \"\"}, \"type\": \"mesh3d\"}], \"parcoords\": [{\"line\": {\"colorbar\": {\"outlinewidth\": 0, \"ticks\": \"\"}}, \"type\": \"parcoords\"}], \"pie\": [{\"automargin\": true, \"type\": \"pie\"}], \"scatter\": [{\"marker\": {\"colorbar\": {\"outlinewidth\": 0, \"ticks\": \"\"}}, \"type\": \"scatter\"}], \"scatter3d\": [{\"line\": {\"colorbar\": {\"outlinewidth\": 0, \"ticks\": \"\"}}, \"marker\": {\"colorbar\": {\"outlinewidth\": 0, \"ticks\": \"\"}}, \"type\": \"scatter3d\"}], \"scattercarpet\": [{\"marker\": {\"colorbar\": {\"outlinewidth\": 0, \"ticks\": \"\"}}, \"type\": \"scattercarpet\"}], \"scattergeo\": [{\"marker\": {\"colorbar\": {\"outlinewidth\": 0, \"ticks\": \"\"}}, \"type\": \"scattergeo\"}], \"scattergl\": [{\"marker\": {\"colorbar\": {\"outlinewidth\": 0, \"ticks\": \"\"}}, \"type\": \"scattergl\"}], \"scattermapbox\": [{\"marker\": {\"colorbar\": {\"outlinewidth\": 0, \"ticks\": \"\"}}, \"type\": \"scattermapbox\"}], \"scatterpolar\": [{\"marker\": {\"colorbar\": {\"outlinewidth\": 0, \"ticks\": \"\"}}, \"type\": \"scatterpolar\"}], \"scatterpolargl\": [{\"marker\": {\"colorbar\": {\"outlinewidth\": 0, \"ticks\": \"\"}}, \"type\": \"scatterpolargl\"}], \"scatterternary\": [{\"marker\": {\"colorbar\": {\"outlinewidth\": 0, \"ticks\": \"\"}}, \"type\": \"scatterternary\"}], \"surface\": [{\"colorbar\": {\"outlinewidth\": 0, \"ticks\": \"\"}, \"colorscale\": [[0.0, \"#0d0887\"], [0.1111111111111111, \"#46039f\"], [0.2222222222222222, \"#7201a8\"], [0.3333333333333333, \"#9c179e\"], [0.4444444444444444, \"#bd3786\"], [0.5555555555555556, \"#d8576b\"], [0.6666666666666666, \"#ed7953\"], [0.7777777777777778, \"#fb9f3a\"], [0.8888888888888888, \"#fdca26\"], [1.0, \"#f0f921\"]], \"type\": \"surface\"}], \"table\": [{\"cells\": {\"fill\": {\"color\": \"#EBF0F8\"}, \"line\": {\"color\": \"white\"}}, \"header\": {\"fill\": {\"color\": \"#C8D4E3\"}, \"line\": {\"color\": \"white\"}}, \"type\": \"table\"}]}, \"layout\": {\"annotationdefaults\": {\"arrowcolor\": \"#2a3f5f\", \"arrowhead\": 0, \"arrowwidth\": 1}, \"coloraxis\": {\"colorbar\": {\"outlinewidth\": 0, \"ticks\": \"\"}}, \"colorscale\": {\"diverging\": [[0, \"#8e0152\"], [0.1, \"#c51b7d\"], [0.2, \"#de77ae\"], [0.3, \"#f1b6da\"], [0.4, \"#fde0ef\"], [0.5, \"#f7f7f7\"], [0.6, \"#e6f5d0\"], [0.7, \"#b8e186\"], [0.8, \"#7fbc41\"], [0.9, \"#4d9221\"], [1, \"#276419\"]], \"sequential\": [[0.0, \"#0d0887\"], [0.1111111111111111, \"#46039f\"], [0.2222222222222222, \"#7201a8\"], [0.3333333333333333, \"#9c179e\"], [0.4444444444444444, \"#bd3786\"], [0.5555555555555556, \"#d8576b\"], [0.6666666666666666, \"#ed7953\"], [0.7777777777777778, \"#fb9f3a\"], [0.8888888888888888, \"#fdca26\"], [1.0, \"#f0f921\"]], \"sequentialminus\": [[0.0, \"#0d0887\"], [0.1111111111111111, \"#46039f\"], [0.2222222222222222, \"#7201a8\"], [0.3333333333333333, \"#9c179e\"], [0.4444444444444444, \"#bd3786\"], [0.5555555555555556, \"#d8576b\"], [0.6666666666666666, \"#ed7953\"], [0.7777777777777778, \"#fb9f3a\"], [0.8888888888888888, \"#fdca26\"], [1.0, \"#f0f921\"]]}, \"colorway\": [\"#636efa\", \"#EF553B\", \"#00cc96\", \"#ab63fa\", \"#FFA15A\", \"#19d3f3\", \"#FF6692\", \"#B6E880\", \"#FF97FF\", \"#FECB52\"], \"font\": {\"color\": \"#2a3f5f\"}, \"geo\": {\"bgcolor\": \"white\", \"lakecolor\": \"white\", \"landcolor\": \"#E5ECF6\", \"showlakes\": true, \"showland\": true, \"subunitcolor\": \"white\"}, \"hoverlabel\": {\"align\": \"left\"}, \"hovermode\": \"closest\", \"mapbox\": {\"style\": \"light\"}, \"paper_bgcolor\": \"white\", \"plot_bgcolor\": \"#E5ECF6\", \"polar\": {\"angularaxis\": {\"gridcolor\": \"white\", \"linecolor\": \"white\", \"ticks\": \"\"}, \"bgcolor\": \"#E5ECF6\", \"radialaxis\": {\"gridcolor\": \"white\", \"linecolor\": \"white\", \"ticks\": \"\"}}, \"scene\": {\"xaxis\": {\"backgroundcolor\": \"#E5ECF6\", \"gridcolor\": \"white\", \"gridwidth\": 2, \"linecolor\": \"white\", \"showbackground\": true, \"ticks\": \"\", \"zerolinecolor\": \"white\"}, \"yaxis\": {\"backgroundcolor\": \"#E5ECF6\", \"gridcolor\": \"white\", \"gridwidth\": 2, \"linecolor\": \"white\", \"showbackground\": true, \"ticks\": \"\", \"zerolinecolor\": \"white\"}, \"zaxis\": {\"backgroundcolor\": \"#E5ECF6\", \"gridcolor\": \"white\", \"gridwidth\": 2, \"linecolor\": \"white\", \"showbackground\": true, \"ticks\": \"\", \"zerolinecolor\": \"white\"}}, \"shapedefaults\": {\"line\": {\"color\": \"#2a3f5f\"}}, \"ternary\": {\"aaxis\": {\"gridcolor\": \"white\", \"linecolor\": \"white\", \"ticks\": \"\"}, \"baxis\": {\"gridcolor\": \"white\", \"linecolor\": \"white\", \"ticks\": \"\"}, \"bgcolor\": \"#E5ECF6\", \"caxis\": {\"gridcolor\": \"white\", \"linecolor\": \"white\", \"ticks\": \"\"}}, \"title\": {\"x\": 0.05}, \"xaxis\": {\"automargin\": true, \"gridcolor\": \"white\", \"linecolor\": \"white\", \"ticks\": \"\", \"title\": {\"standoff\": 15}, \"zerolinecolor\": \"white\", \"zerolinewidth\": 2}, \"yaxis\": {\"automargin\": true, \"gridcolor\": \"white\", \"linecolor\": \"white\", \"ticks\": \"\", \"title\": {\"standoff\": 15}, \"zerolinecolor\": \"white\", \"zerolinewidth\": 2}}}, \"xaxis\": {\"anchor\": \"y\", \"domain\": [0.0, 1.0], \"title\": {\"text\": \"index\"}}, \"yaxis\": {\"anchor\": \"x\", \"domain\": [0.0, 1.0], \"title\": {\"text\": \"value\"}}},\n                        {\"responsive\": true}\n                    ).then(function(){\n                            \nvar gd = document.getElementById('0af2f0e6-5958-4f1a-8332-1ec4a1166534');\nvar x = new MutationObserver(function (mutations, observer) {{\n        var display = window.getComputedStyle(gd).display;\n        if (!display || display === 'none') {{\n            console.log([gd, 'removed!']);\n            Plotly.purge(gd);\n            observer.disconnect();\n        }}\n}});\n\n// Listen for the removal of the full notebook cells\nvar notebookContainer = gd.closest('#notebook-container');\nif (notebookContainer) {{\n    x.observe(notebookContainer, {childList: true});\n}}\n\n// Listen for the clearing of the current output cell\nvar outputEl = gd.closest('.output');\nif (outputEl) {{\n    x.observe(outputEl, {childList: true});\n}}\n\n                        })\n                };\n                });\n            </script>\n        </div>"
     },
     "metadata": {},
     "output_type": "display_data"
    }
   ],
   "source": [
    "afternoon = pd.read_pickle('afternoon.pkl').drop(0, axis=1)\n",
    "px.line(afternoon.loc['2020-01-16':'2020-01-16 15:00:00', :].transpose())"
   ],
   "metadata": {
    "collapsed": false,
    "pycharm": {
     "name": "#%%\n"
    }
   }
  },
  {
   "cell_type": "code",
   "execution_count": 45,
   "outputs": [],
   "source": [
    "diffs.columns = diffs.columns.astype('int32')\n",
    "diffs.to_pickle('diff_from_schedule.pkl')"
   ],
   "metadata": {
    "collapsed": false,
    "pycharm": {
     "name": "#%%\n"
    }
   }
  },
  {
   "cell_type": "code",
   "execution_count": 47,
   "outputs": [],
   "source": [
    "second_diffs = diffs.apply(lambda c: c.dt.total_seconds(), axis=0).drop(0, axis=1)\n",
    "second_diffs.to_pickle('second_diffs.pkl')"
   ],
   "metadata": {
    "collapsed": false,
    "pycharm": {
     "name": "#%%\n"
    }
   }
  },
  {
   "cell_type": "code",
   "execution_count": 62,
   "outputs": [
    {
     "data": {
      "text/plain": "0    2020-08-04 11:51:30\n1    2020-08-04 11:54:00\n2    2020-08-04 11:55:00\n3    2020-08-04 11:56:00\n4    2020-08-04 11:57:00\n5    2020-08-04 11:58:00\n6    2020-08-04 12:00:00\n7    2020-08-04 12:01:30\n8    2020-08-04 12:03:00\n9    2020-08-04 12:04:00\n10   2020-08-04 12:05:00\n11   2020-08-04 12:06:00\n12   2020-08-04 12:07:00\n13   2020-08-04 12:08:30\n14   2020-08-04 12:10:30\n15   2020-08-04 12:12:30\n16   2020-08-04 12:14:00\n17   2020-08-04 12:15:00\n18   2020-08-04 12:17:00\n19   2020-08-04 12:18:00\n20   2020-08-04 12:20:00\n21   2020-08-04 12:21:30\n22   2020-08-04 12:23:00\n23   2020-08-04 12:24:00\n24   2020-08-04 12:26:30\n25   2020-08-04 12:28:30\n26   2020-08-04 12:30:00\n27   2020-08-04 12:32:00\n28   2020-08-04 12:33:30\n29   2020-08-04 12:35:30\n30   2020-08-04 12:37:00\n31   2020-08-04 12:38:00\n32   2020-08-04 12:39:30\n33   2020-08-04 12:41:00\n34   2020-08-04 12:42:30\n35   2020-08-04 12:44:00\n36   2020-08-04 12:45:30\n37   2020-08-04 12:49:30\nName: stop_time, dtype: datetime64[ns]"
     },
     "execution_count": 62,
     "metadata": {},
     "output_type": "execute_result"
    }
   ],
   "source": [
    "ontime = pd.read_pickle('trip.pkl')+ pd.to_datetime('2020-08-04')\n",
    "ontime['stop_time']"
   ],
   "metadata": {
    "collapsed": false,
    "pycharm": {
     "name": "#%%\n"
    }
   }
  },
  {
   "cell_type": "code",
   "execution_count": 104,
   "outputs": [
    {
     "data": {
      "text/plain": "1                        Rector St\n2                    WTC Cortlandt\n3                      Chambers St\n4                      Franklin St\n5                         Canal St\n6                       Houston St\n7     Christopher St - Sheridan Sq\n8                            14 St\n9                            18 St\n10                           23 St\n11                           28 St\n12            34 St - Penn Station\n13                Times Sq - 42 St\n14                           50 St\n15         59 St - Columbus Circle\n16          66 St - Lincoln Center\n17                           72 St\n18                           79 St\n19                           86 St\n20                           96 St\n21                          103 St\n22                  Cathedral Pkwy\n23    116 St - Columbia University\n24                          125 St\n25           137 St - City College\n26                          145 St\n27                          157 St\n28         168 St - Washington Hts\n29                          181 St\n30                          191 St\n31                      Dyckman St\n32                          207 St\n33                          215 St\n34            Marble Hill - 225 St\n35                          231 St\n36                          238 St\n37     Van Cortlandt Park - 242 St\nName: stop_name, dtype: object"
     },
     "execution_count": 104,
     "metadata": {},
     "output_type": "execute_result"
    }
   ],
   "source": [
    "stops = pd.read_csv('stop_names.csv', index_col='stop_index')"
   ],
   "metadata": {
    "collapsed": false,
    "pycharm": {
     "name": "#%%\n"
    }
   }
  },
  {
   "cell_type": "code",
   "execution_count": 126,
   "outputs": [
    {
     "data": {
      "text/plain": "Index([            1,             2,             3,             4,\n                   5,             6,             7,             8,\n                   9,            10,            11,            12,\n                  13,            14,            15,            16,\n                  17,            18,            19,            20,\n                  21,            22,            23,            24,\n                  25,            26,            27,            28,\n                  29,            30,            31,            32,\n                  33,            34,            35,            36,\n                  37, 'total_delay',  'num_delays'],\n      dtype='object')"
     },
     "execution_count": 126,
     "metadata": {},
     "output_type": "execute_result"
    }
   ],
   "source": [
    "with_counts = second_diffs.copy()\n",
    "# add these for sorting\n",
    "with_counts['total_delay'] = second_diffs[(second_diffs > 0)].sum(axis=1)/60\n",
    "with_counts['num_delays'] = (second_diffs > 0).sum(axis=1)"
   ],
   "metadata": {
    "collapsed": false,
    "pycharm": {
     "name": "#%%\n"
    }
   }
  },
  {
   "cell_type": "code",
   "execution_count": 131,
   "outputs": [],
   "source": [
    "sorted_diffs = with_counts.sort_values('num_delays').drop(['num_delays', 'total_delay'], axis=1)"
   ],
   "metadata": {
    "collapsed": false,
    "pycharm": {
     "name": "#%%\n"
    }
   }
  },
  {
   "cell_type": "code",
   "execution_count": 180,
   "outputs": [],
   "source": [
    "px.imshow(sorted_diffs[(sorted_diffs.isna().sum(axis=1) < 10)].iloc[200:300, :] / 60).write_html('heatmap_delays.html', auto_open=True)"
   ],
   "metadata": {
    "collapsed": false,
    "pycharm": {
     "name": "#%%\n"
    }
   }
  },
  {
   "cell_type": "code",
   "execution_count": 204,
   "outputs": [],
   "source": [
    "median_trip = pd.to_timedelta(sorted_diffs.median(axis=0), unit='s')\n",
    "mean_trip = pd.to_timedelta(sorted_diffs.mean(axis=0), unit='s')"
   ],
   "metadata": {
    "collapsed": false,
    "pycharm": {
     "name": "#%%\n"
    }
   }
  },
  {
   "cell_type": "code",
   "execution_count": 200,
   "outputs": [
    {
     "data": {
      "text/plain": "                        0                   1                   2   \\\nmedian                 NaT 2020-08-04 11:52:31 2020-08-04 11:53:44   \nontime 2020-08-04 11:51:30 2020-08-04 11:54:00 2020-08-04 11:55:00   \n\n                        3                   4                   5   \\\nmedian 2020-08-04 11:54:59 2020-08-04 11:56:18 2020-08-04 11:57:26   \nontime 2020-08-04 11:56:00 2020-08-04 11:57:00 2020-08-04 11:58:00   \n\n                        6                   7                   8   \\\nmedian 2020-08-04 11:58:46 2020-08-04 12:00:08 2020-08-04 12:01:26   \nontime 2020-08-04 12:00:00 2020-08-04 12:01:30 2020-08-04 12:03:00   \n\n                        9   ...                  28                  29  \\\nmedian 2020-08-04 12:02:43  ... 2020-08-04 12:32:45 2020-08-04 12:34:37   \nontime 2020-08-04 12:04:00  ... 2020-08-04 12:33:30 2020-08-04 12:35:30   \n\n                            30                  31                  32  \\\nmedian 2020-08-04 12:36:09.500 2020-08-04 12:37:34 2020-08-04 12:39:18   \nontime 2020-08-04 12:37:00.000 2020-08-04 12:38:00 2020-08-04 12:39:30   \n\n                        33                      34                  35  \\\nmedian 2020-08-04 12:40:47 2020-08-04 12:42:22.500 2020-08-04 12:43:46   \nontime 2020-08-04 12:41:00 2020-08-04 12:42:30.000 2020-08-04 12:44:00   \n\n                        36                      37  \nmedian 2020-08-04 12:45:18 2020-08-04 12:47:31.500  \nontime 2020-08-04 12:45:30 2020-08-04 12:49:30.000  \n\n[2 rows x 38 columns]",
      "text/html": "<div>\n<style scoped>\n    .dataframe tbody tr th:only-of-type {\n        vertical-align: middle;\n    }\n\n    .dataframe tbody tr th {\n        vertical-align: top;\n    }\n\n    .dataframe thead th {\n        text-align: right;\n    }\n</style>\n<table border=\"1\" class=\"dataframe\">\n  <thead>\n    <tr style=\"text-align: right;\">\n      <th></th>\n      <th>0</th>\n      <th>1</th>\n      <th>2</th>\n      <th>3</th>\n      <th>4</th>\n      <th>5</th>\n      <th>6</th>\n      <th>7</th>\n      <th>8</th>\n      <th>9</th>\n      <th>...</th>\n      <th>28</th>\n      <th>29</th>\n      <th>30</th>\n      <th>31</th>\n      <th>32</th>\n      <th>33</th>\n      <th>34</th>\n      <th>35</th>\n      <th>36</th>\n      <th>37</th>\n    </tr>\n  </thead>\n  <tbody>\n    <tr>\n      <th>median</th>\n      <td>NaT</td>\n      <td>2020-08-04 11:52:31</td>\n      <td>2020-08-04 11:53:44</td>\n      <td>2020-08-04 11:54:59</td>\n      <td>2020-08-04 11:56:18</td>\n      <td>2020-08-04 11:57:26</td>\n      <td>2020-08-04 11:58:46</td>\n      <td>2020-08-04 12:00:08</td>\n      <td>2020-08-04 12:01:26</td>\n      <td>2020-08-04 12:02:43</td>\n      <td>...</td>\n      <td>2020-08-04 12:32:45</td>\n      <td>2020-08-04 12:34:37</td>\n      <td>2020-08-04 12:36:09.500</td>\n      <td>2020-08-04 12:37:34</td>\n      <td>2020-08-04 12:39:18</td>\n      <td>2020-08-04 12:40:47</td>\n      <td>2020-08-04 12:42:22.500</td>\n      <td>2020-08-04 12:43:46</td>\n      <td>2020-08-04 12:45:18</td>\n      <td>2020-08-04 12:47:31.500</td>\n    </tr>\n    <tr>\n      <th>ontime</th>\n      <td>2020-08-04 11:51:30</td>\n      <td>2020-08-04 11:54:00</td>\n      <td>2020-08-04 11:55:00</td>\n      <td>2020-08-04 11:56:00</td>\n      <td>2020-08-04 11:57:00</td>\n      <td>2020-08-04 11:58:00</td>\n      <td>2020-08-04 12:00:00</td>\n      <td>2020-08-04 12:01:30</td>\n      <td>2020-08-04 12:03:00</td>\n      <td>2020-08-04 12:04:00</td>\n      <td>...</td>\n      <td>2020-08-04 12:33:30</td>\n      <td>2020-08-04 12:35:30</td>\n      <td>2020-08-04 12:37:00.000</td>\n      <td>2020-08-04 12:38:00</td>\n      <td>2020-08-04 12:39:30</td>\n      <td>2020-08-04 12:41:00</td>\n      <td>2020-08-04 12:42:30.000</td>\n      <td>2020-08-04 12:44:00</td>\n      <td>2020-08-04 12:45:30</td>\n      <td>2020-08-04 12:49:30.000</td>\n    </tr>\n  </tbody>\n</table>\n<p>2 rows × 38 columns</p>\n</div>"
     },
     "execution_count": 200,
     "metadata": {},
     "output_type": "execute_result"
    }
   ],
   "source": [],
   "metadata": {
    "collapsed": false,
    "pycharm": {
     "name": "#%%\n"
    }
   }
  },
  {
   "cell_type": "code",
   "execution_count": 206,
   "outputs": [],
   "source": [
    "px.line(pd.DataFrame([mean_trip + ontime['stop_time'], median_trip + ontime['stop_time'], ontime['stop_time']], index=['mean', 'median', 'ontime']).transpose()).write_html('median_path.html', auto_open=True)"
   ],
   "metadata": {
    "collapsed": false,
    "pycharm": {
     "name": "#%%\n"
    }
   }
  },
  {
   "cell_type": "code",
   "execution_count": 207,
   "outputs": [],
   "source": [
    "px.line(pd.DataFrame([sorted_diffs.mean(axis=0), sorted_diffs.median(axis=0)], index=['mean', 'median']).transpose()).write_html('median_delays.html', auto_open=True)"
   ],
   "metadata": {
    "collapsed": false,
    "pycharm": {
     "name": "#%%\n"
    }
   }
  },
  {
   "cell_type": "code",
   "execution_count": 173,
   "outputs": [
    {
     "data": {
      "text/plain": "    2020-02-21 11:51:00\n1                 -84.0\n2                 -72.0\n3                 -52.0\n4                 -14.0\n5                  -7.0\n6                 -46.0\n7                 -51.0\n8                 -63.0\n9                 -46.0\n10                -34.0\n11                -20.0\n12                 -7.0\n13                 -1.0\n14                 20.0\n15                  6.0\n16                 10.0\n17                 49.0\n18                 31.0\n19                 67.0\n20                 39.0\n21                 60.0\n22                 57.0\n23                 77.0\n24                 35.0\n25                 19.0\n26                 20.0\n27                 25.0\n28                 32.0\n29                 25.0\n30                 27.0\n31                 53.0\n32                 89.0\n33                153.0\n34                158.0\n35                153.0\n36                153.0\n37                119.0",
      "text/html": "<div>\n<style scoped>\n    .dataframe tbody tr th:only-of-type {\n        vertical-align: middle;\n    }\n\n    .dataframe tbody tr th {\n        vertical-align: top;\n    }\n\n    .dataframe thead th {\n        text-align: right;\n    }\n</style>\n<table border=\"1\" class=\"dataframe\">\n  <thead>\n    <tr style=\"text-align: right;\">\n      <th></th>\n      <th>2020-02-21 11:51:00</th>\n    </tr>\n  </thead>\n  <tbody>\n    <tr>\n      <th>1</th>\n      <td>-84.0</td>\n    </tr>\n    <tr>\n      <th>2</th>\n      <td>-72.0</td>\n    </tr>\n    <tr>\n      <th>3</th>\n      <td>-52.0</td>\n    </tr>\n    <tr>\n      <th>4</th>\n      <td>-14.0</td>\n    </tr>\n    <tr>\n      <th>5</th>\n      <td>-7.0</td>\n    </tr>\n    <tr>\n      <th>6</th>\n      <td>-46.0</td>\n    </tr>\n    <tr>\n      <th>7</th>\n      <td>-51.0</td>\n    </tr>\n    <tr>\n      <th>8</th>\n      <td>-63.0</td>\n    </tr>\n    <tr>\n      <th>9</th>\n      <td>-46.0</td>\n    </tr>\n    <tr>\n      <th>10</th>\n      <td>-34.0</td>\n    </tr>\n    <tr>\n      <th>11</th>\n      <td>-20.0</td>\n    </tr>\n    <tr>\n      <th>12</th>\n      <td>-7.0</td>\n    </tr>\n    <tr>\n      <th>13</th>\n      <td>-1.0</td>\n    </tr>\n    <tr>\n      <th>14</th>\n      <td>20.0</td>\n    </tr>\n    <tr>\n      <th>15</th>\n      <td>6.0</td>\n    </tr>\n    <tr>\n      <th>16</th>\n      <td>10.0</td>\n    </tr>\n    <tr>\n      <th>17</th>\n      <td>49.0</td>\n    </tr>\n    <tr>\n      <th>18</th>\n      <td>31.0</td>\n    </tr>\n    <tr>\n      <th>19</th>\n      <td>67.0</td>\n    </tr>\n    <tr>\n      <th>20</th>\n      <td>39.0</td>\n    </tr>\n    <tr>\n      <th>21</th>\n      <td>60.0</td>\n    </tr>\n    <tr>\n      <th>22</th>\n      <td>57.0</td>\n    </tr>\n    <tr>\n      <th>23</th>\n      <td>77.0</td>\n    </tr>\n    <tr>\n      <th>24</th>\n      <td>35.0</td>\n    </tr>\n    <tr>\n      <th>25</th>\n      <td>19.0</td>\n    </tr>\n    <tr>\n      <th>26</th>\n      <td>20.0</td>\n    </tr>\n    <tr>\n      <th>27</th>\n      <td>25.0</td>\n    </tr>\n    <tr>\n      <th>28</th>\n      <td>32.0</td>\n    </tr>\n    <tr>\n      <th>29</th>\n      <td>25.0</td>\n    </tr>\n    <tr>\n      <th>30</th>\n      <td>27.0</td>\n    </tr>\n    <tr>\n      <th>31</th>\n      <td>53.0</td>\n    </tr>\n    <tr>\n      <th>32</th>\n      <td>89.0</td>\n    </tr>\n    <tr>\n      <th>33</th>\n      <td>153.0</td>\n    </tr>\n    <tr>\n      <th>34</th>\n      <td>158.0</td>\n    </tr>\n    <tr>\n      <th>35</th>\n      <td>153.0</td>\n    </tr>\n    <tr>\n      <th>36</th>\n      <td>153.0</td>\n    </tr>\n    <tr>\n      <th>37</th>\n      <td>119.0</td>\n    </tr>\n  </tbody>\n</table>\n</div>"
     },
     "execution_count": 173,
     "metadata": {},
     "output_type": "execute_result"
    }
   ],
   "source": [
    "one_sample = sorted_diffs[(sorted_diffs.isna().sum(axis=1) < 2)].iloc[-60:, :].sample(1).transpose()\n",
    "one_sample"
   ],
   "metadata": {
    "collapsed": false,
    "pycharm": {
     "name": "#%%\n"
    }
   }
  },
  {
   "cell_type": "code",
   "execution_count": 169,
   "outputs": [
    {
     "data": {
      "text/plain": "    2020-01-23 12:15:00\n1                 -93.0\n2                -173.0\n3                -237.0\n4                -286.0\n5                -328.0\n6                -407.0\n7                -493.0\n8                -592.0\n9                -653.0\n10               -703.0\n11               -745.0\n12               -774.0\n13               -793.0\n14               -807.0\n15               -838.0\n16               -858.0\n17               -849.0\n18               -869.0\n19               -858.0\n20               -875.0\n21               -869.0\n22               -863.0\n23               -840.0\n24               -864.0\n25               -905.0\n26               -867.0\n27               -840.0\n28               -801.0\n29               -767.0\n30               -734.0\n31               -673.0\n32               -607.0\n33               -537.0\n34               -446.0\n35               -364.0\n36               -281.0\n37               -346.0",
      "text/html": "<div>\n<style scoped>\n    .dataframe tbody tr th:only-of-type {\n        vertical-align: middle;\n    }\n\n    .dataframe tbody tr th {\n        vertical-align: top;\n    }\n\n    .dataframe thead th {\n        text-align: right;\n    }\n</style>\n<table border=\"1\" class=\"dataframe\">\n  <thead>\n    <tr style=\"text-align: right;\">\n      <th></th>\n      <th>2020-01-23 12:15:00</th>\n    </tr>\n  </thead>\n  <tbody>\n    <tr>\n      <th>1</th>\n      <td>-93.0</td>\n    </tr>\n    <tr>\n      <th>2</th>\n      <td>-173.0</td>\n    </tr>\n    <tr>\n      <th>3</th>\n      <td>-237.0</td>\n    </tr>\n    <tr>\n      <th>4</th>\n      <td>-286.0</td>\n    </tr>\n    <tr>\n      <th>5</th>\n      <td>-328.0</td>\n    </tr>\n    <tr>\n      <th>6</th>\n      <td>-407.0</td>\n    </tr>\n    <tr>\n      <th>7</th>\n      <td>-493.0</td>\n    </tr>\n    <tr>\n      <th>8</th>\n      <td>-592.0</td>\n    </tr>\n    <tr>\n      <th>9</th>\n      <td>-653.0</td>\n    </tr>\n    <tr>\n      <th>10</th>\n      <td>-703.0</td>\n    </tr>\n    <tr>\n      <th>11</th>\n      <td>-745.0</td>\n    </tr>\n    <tr>\n      <th>12</th>\n      <td>-774.0</td>\n    </tr>\n    <tr>\n      <th>13</th>\n      <td>-793.0</td>\n    </tr>\n    <tr>\n      <th>14</th>\n      <td>-807.0</td>\n    </tr>\n    <tr>\n      <th>15</th>\n      <td>-838.0</td>\n    </tr>\n    <tr>\n      <th>16</th>\n      <td>-858.0</td>\n    </tr>\n    <tr>\n      <th>17</th>\n      <td>-849.0</td>\n    </tr>\n    <tr>\n      <th>18</th>\n      <td>-869.0</td>\n    </tr>\n    <tr>\n      <th>19</th>\n      <td>-858.0</td>\n    </tr>\n    <tr>\n      <th>20</th>\n      <td>-875.0</td>\n    </tr>\n    <tr>\n      <th>21</th>\n      <td>-869.0</td>\n    </tr>\n    <tr>\n      <th>22</th>\n      <td>-863.0</td>\n    </tr>\n    <tr>\n      <th>23</th>\n      <td>-840.0</td>\n    </tr>\n    <tr>\n      <th>24</th>\n      <td>-864.0</td>\n    </tr>\n    <tr>\n      <th>25</th>\n      <td>-905.0</td>\n    </tr>\n    <tr>\n      <th>26</th>\n      <td>-867.0</td>\n    </tr>\n    <tr>\n      <th>27</th>\n      <td>-840.0</td>\n    </tr>\n    <tr>\n      <th>28</th>\n      <td>-801.0</td>\n    </tr>\n    <tr>\n      <th>29</th>\n      <td>-767.0</td>\n    </tr>\n    <tr>\n      <th>30</th>\n      <td>-734.0</td>\n    </tr>\n    <tr>\n      <th>31</th>\n      <td>-673.0</td>\n    </tr>\n    <tr>\n      <th>32</th>\n      <td>-607.0</td>\n    </tr>\n    <tr>\n      <th>33</th>\n      <td>-537.0</td>\n    </tr>\n    <tr>\n      <th>34</th>\n      <td>-446.0</td>\n    </tr>\n    <tr>\n      <th>35</th>\n      <td>-364.0</td>\n    </tr>\n    <tr>\n      <th>36</th>\n      <td>-281.0</td>\n    </tr>\n    <tr>\n      <th>37</th>\n      <td>-346.0</td>\n    </tr>\n  </tbody>\n</table>\n</div>"
     },
     "execution_count": 169,
     "metadata": {},
     "output_type": "execute_result"
    }
   ],
   "source": [
    "one_sample.cumsum()"
   ],
   "metadata": {
    "collapsed": false,
    "pycharm": {
     "name": "#%%\n"
    }
   }
  },
  {
   "cell_type": "code",
   "execution_count": 175,
   "outputs": [],
   "source": [
    "px.line(one_sample).write_html('one_trip.html', auto_open=True)"
   ],
   "metadata": {
    "collapsed": false,
    "pycharm": {
     "name": "#%%\n"
    }
   }
  },
  {
   "cell_type": "code",
   "execution_count": 107,
   "outputs": [
    {
     "data": {
      "text/plain": "(2, 37)"
     },
     "execution_count": 107,
     "metadata": {},
     "output_type": "execute_result"
    }
   ],
   "source": [
    "# have more than 20 stops delayed by more than a minute\n",
    "trips = afternoon[((second_diffs > 600).sum(axis=1) == 2)].copy()\n",
    "# put in the reference 'on time' trip\n",
    "trips.loc['2020-08-04 11:51:00'] = ontime['stop_time'][1:]\n",
    "trips.columns = stops['stop_name'][trips.columns]\n",
    "trips.shape"
   ],
   "metadata": {
    "collapsed": false,
    "pycharm": {
     "name": "#%%\n"
    }
   }
  },
  {
   "cell_type": "code",
   "execution_count": 108,
   "outputs": [
    {
     "data": {
      "application/vnd.plotly.v1+json": {
       "config": {
        "plotlyServerURL": "https://plot.ly"
       },
       "data": [
        {
         "hovertemplate": "variable=2020-02-07 12:39:00<br>stop_name=%{x}<br>value=%{y}<extra></extra>",
         "legendgroup": "2020-02-07 12:39:00",
         "line": {
          "color": "#636efa",
          "dash": "solid"
         },
         "mode": "lines",
         "name": "2020-02-07 12:39:00",
         "orientation": "v",
         "showlegend": true,
         "type": "scatter",
         "x": [
          "Rector St",
          "WTC Cortlandt",
          "Chambers St",
          "Franklin St",
          "Canal St",
          "Houston St",
          "Christopher St - Sheridan Sq",
          "14 St",
          "18 St",
          "23 St",
          "28 St",
          "34 St - Penn Station",
          "Times Sq - 42 St",
          "50 St",
          "59 St - Columbus Circle",
          "66 St - Lincoln Center",
          "72 St",
          "79 St",
          "86 St",
          "96 St",
          "103 St",
          "Cathedral Pkwy",
          "116 St - Columbia University",
          "125 St",
          "137 St - City College",
          "145 St",
          "157 St",
          "168 St - Washington Hts",
          "181 St",
          "191 St",
          "Dyckman St",
          "207 St",
          "215 St",
          "Marble Hill - 225 St",
          "231 St",
          "238 St",
          "Van Cortlandt Park - 242 St"
         ],
         "xaxis": "x",
         "y": [
          "2020-02-07T12:40:31",
          null,
          null,
          null,
          null,
          null,
          null,
          null,
          null,
          null,
          null,
          null,
          "2020-02-07T12:56:33",
          "2020-02-07T12:58:38",
          "2020-02-07T13:00:18",
          "2020-02-07T13:01:39",
          "2020-02-07T13:02:58",
          "2020-02-07T13:04:26",
          "2020-02-07T13:09:58",
          "2020-02-07T13:12:51",
          "2020-02-07T13:14:36",
          "2020-02-07T13:16:13",
          "2020-02-07T13:17:48",
          "2020-02-07T13:19:38",
          "2020-02-07T13:21:20",
          "2020-02-07T13:23:05",
          "2020-02-07T13:24:56",
          "2020-02-07T13:26:36",
          "2020-02-07T13:28:27",
          "2020-02-07T13:29:52",
          "2020-02-07T13:31:13",
          "2020-02-07T13:32:40",
          "2020-02-07T13:34:04",
          "2020-02-07T13:35:30",
          "2020-02-07T13:36:51",
          "2020-02-07T13:44:08",
          "2020-02-07T13:48:12"
         ],
         "yaxis": "y"
        },
        {
         "hovertemplate": "variable=2020-08-04 11:51:00<br>stop_name=%{x}<br>value=%{y}<extra></extra>",
         "legendgroup": "2020-08-04 11:51:00",
         "line": {
          "color": "#EF553B",
          "dash": "solid"
         },
         "mode": "lines",
         "name": "2020-08-04 11:51:00",
         "orientation": "v",
         "showlegend": true,
         "type": "scatter",
         "x": [
          "Rector St",
          "WTC Cortlandt",
          "Chambers St",
          "Franklin St",
          "Canal St",
          "Houston St",
          "Christopher St - Sheridan Sq",
          "14 St",
          "18 St",
          "23 St",
          "28 St",
          "34 St - Penn Station",
          "Times Sq - 42 St",
          "50 St",
          "59 St - Columbus Circle",
          "66 St - Lincoln Center",
          "72 St",
          "79 St",
          "86 St",
          "96 St",
          "103 St",
          "Cathedral Pkwy",
          "116 St - Columbia University",
          "125 St",
          "137 St - City College",
          "145 St",
          "157 St",
          "168 St - Washington Hts",
          "181 St",
          "191 St",
          "Dyckman St",
          "207 St",
          "215 St",
          "Marble Hill - 225 St",
          "231 St",
          "238 St",
          "Van Cortlandt Park - 242 St"
         ],
         "xaxis": "x",
         "y": [
          "2020-02-07T12:42:00",
          "2020-02-07T12:43:00",
          "2020-02-07T12:44:00",
          "2020-02-07T12:45:00",
          "2020-02-07T12:46:00",
          "2020-02-07T12:48:00",
          "2020-02-07T12:49:30",
          "2020-02-07T12:51:00",
          "2020-02-07T12:52:00",
          "2020-02-07T12:53:00",
          "2020-02-07T12:54:00",
          "2020-02-07T12:55:00",
          "2020-02-07T12:56:30",
          "2020-02-07T12:58:30",
          "2020-02-07T13:00:30",
          "2020-02-07T13:02:00",
          "2020-02-07T13:03:00",
          "2020-02-07T13:05:00",
          "2020-02-07T13:06:00",
          "2020-02-07T13:08:00",
          "2020-02-07T13:09:30",
          "2020-02-07T13:11:00",
          "2020-02-07T13:12:00",
          "2020-02-07T13:14:30",
          "2020-02-07T13:16:30",
          "2020-02-07T13:18:00",
          "2020-02-07T13:20:00",
          "2020-02-07T13:21:30",
          "2020-02-07T13:23:30",
          "2020-02-07T13:25:00",
          "2020-02-07T13:26:00",
          "2020-02-07T13:27:30",
          "2020-02-07T13:29:00",
          "2020-02-07T13:30:30",
          "2020-02-07T13:32:00",
          "2020-02-07T13:33:30",
          "2020-02-07T13:37:30"
         ],
         "yaxis": "y"
        }
       ],
       "layout": {
        "legend": {
         "title": {
          "text": "variable"
         },
         "tracegroupgap": 0
        },
        "margin": {
         "t": 60
        },
        "template": {
         "data": {
          "bar": [
           {
            "error_x": {
             "color": "#2a3f5f"
            },
            "error_y": {
             "color": "#2a3f5f"
            },
            "marker": {
             "line": {
              "color": "#E5ECF6",
              "width": 0.5
             }
            },
            "type": "bar"
           }
          ],
          "barpolar": [
           {
            "marker": {
             "line": {
              "color": "#E5ECF6",
              "width": 0.5
             }
            },
            "type": "barpolar"
           }
          ],
          "carpet": [
           {
            "aaxis": {
             "endlinecolor": "#2a3f5f",
             "gridcolor": "white",
             "linecolor": "white",
             "minorgridcolor": "white",
             "startlinecolor": "#2a3f5f"
            },
            "baxis": {
             "endlinecolor": "#2a3f5f",
             "gridcolor": "white",
             "linecolor": "white",
             "minorgridcolor": "white",
             "startlinecolor": "#2a3f5f"
            },
            "type": "carpet"
           }
          ],
          "choropleth": [
           {
            "colorbar": {
             "outlinewidth": 0,
             "ticks": ""
            },
            "type": "choropleth"
           }
          ],
          "contour": [
           {
            "colorbar": {
             "outlinewidth": 0,
             "ticks": ""
            },
            "colorscale": [
             [
              0.0,
              "#0d0887"
             ],
             [
              0.1111111111111111,
              "#46039f"
             ],
             [
              0.2222222222222222,
              "#7201a8"
             ],
             [
              0.3333333333333333,
              "#9c179e"
             ],
             [
              0.4444444444444444,
              "#bd3786"
             ],
             [
              0.5555555555555556,
              "#d8576b"
             ],
             [
              0.6666666666666666,
              "#ed7953"
             ],
             [
              0.7777777777777778,
              "#fb9f3a"
             ],
             [
              0.8888888888888888,
              "#fdca26"
             ],
             [
              1.0,
              "#f0f921"
             ]
            ],
            "type": "contour"
           }
          ],
          "contourcarpet": [
           {
            "colorbar": {
             "outlinewidth": 0,
             "ticks": ""
            },
            "type": "contourcarpet"
           }
          ],
          "heatmap": [
           {
            "colorbar": {
             "outlinewidth": 0,
             "ticks": ""
            },
            "colorscale": [
             [
              0.0,
              "#0d0887"
             ],
             [
              0.1111111111111111,
              "#46039f"
             ],
             [
              0.2222222222222222,
              "#7201a8"
             ],
             [
              0.3333333333333333,
              "#9c179e"
             ],
             [
              0.4444444444444444,
              "#bd3786"
             ],
             [
              0.5555555555555556,
              "#d8576b"
             ],
             [
              0.6666666666666666,
              "#ed7953"
             ],
             [
              0.7777777777777778,
              "#fb9f3a"
             ],
             [
              0.8888888888888888,
              "#fdca26"
             ],
             [
              1.0,
              "#f0f921"
             ]
            ],
            "type": "heatmap"
           }
          ],
          "heatmapgl": [
           {
            "colorbar": {
             "outlinewidth": 0,
             "ticks": ""
            },
            "colorscale": [
             [
              0.0,
              "#0d0887"
             ],
             [
              0.1111111111111111,
              "#46039f"
             ],
             [
              0.2222222222222222,
              "#7201a8"
             ],
             [
              0.3333333333333333,
              "#9c179e"
             ],
             [
              0.4444444444444444,
              "#bd3786"
             ],
             [
              0.5555555555555556,
              "#d8576b"
             ],
             [
              0.6666666666666666,
              "#ed7953"
             ],
             [
              0.7777777777777778,
              "#fb9f3a"
             ],
             [
              0.8888888888888888,
              "#fdca26"
             ],
             [
              1.0,
              "#f0f921"
             ]
            ],
            "type": "heatmapgl"
           }
          ],
          "histogram": [
           {
            "marker": {
             "colorbar": {
              "outlinewidth": 0,
              "ticks": ""
             }
            },
            "type": "histogram"
           }
          ],
          "histogram2d": [
           {
            "colorbar": {
             "outlinewidth": 0,
             "ticks": ""
            },
            "colorscale": [
             [
              0.0,
              "#0d0887"
             ],
             [
              0.1111111111111111,
              "#46039f"
             ],
             [
              0.2222222222222222,
              "#7201a8"
             ],
             [
              0.3333333333333333,
              "#9c179e"
             ],
             [
              0.4444444444444444,
              "#bd3786"
             ],
             [
              0.5555555555555556,
              "#d8576b"
             ],
             [
              0.6666666666666666,
              "#ed7953"
             ],
             [
              0.7777777777777778,
              "#fb9f3a"
             ],
             [
              0.8888888888888888,
              "#fdca26"
             ],
             [
              1.0,
              "#f0f921"
             ]
            ],
            "type": "histogram2d"
           }
          ],
          "histogram2dcontour": [
           {
            "colorbar": {
             "outlinewidth": 0,
             "ticks": ""
            },
            "colorscale": [
             [
              0.0,
              "#0d0887"
             ],
             [
              0.1111111111111111,
              "#46039f"
             ],
             [
              0.2222222222222222,
              "#7201a8"
             ],
             [
              0.3333333333333333,
              "#9c179e"
             ],
             [
              0.4444444444444444,
              "#bd3786"
             ],
             [
              0.5555555555555556,
              "#d8576b"
             ],
             [
              0.6666666666666666,
              "#ed7953"
             ],
             [
              0.7777777777777778,
              "#fb9f3a"
             ],
             [
              0.8888888888888888,
              "#fdca26"
             ],
             [
              1.0,
              "#f0f921"
             ]
            ],
            "type": "histogram2dcontour"
           }
          ],
          "mesh3d": [
           {
            "colorbar": {
             "outlinewidth": 0,
             "ticks": ""
            },
            "type": "mesh3d"
           }
          ],
          "parcoords": [
           {
            "line": {
             "colorbar": {
              "outlinewidth": 0,
              "ticks": ""
             }
            },
            "type": "parcoords"
           }
          ],
          "pie": [
           {
            "automargin": true,
            "type": "pie"
           }
          ],
          "scatter": [
           {
            "marker": {
             "colorbar": {
              "outlinewidth": 0,
              "ticks": ""
             }
            },
            "type": "scatter"
           }
          ],
          "scatter3d": [
           {
            "line": {
             "colorbar": {
              "outlinewidth": 0,
              "ticks": ""
             }
            },
            "marker": {
             "colorbar": {
              "outlinewidth": 0,
              "ticks": ""
             }
            },
            "type": "scatter3d"
           }
          ],
          "scattercarpet": [
           {
            "marker": {
             "colorbar": {
              "outlinewidth": 0,
              "ticks": ""
             }
            },
            "type": "scattercarpet"
           }
          ],
          "scattergeo": [
           {
            "marker": {
             "colorbar": {
              "outlinewidth": 0,
              "ticks": ""
             }
            },
            "type": "scattergeo"
           }
          ],
          "scattergl": [
           {
            "marker": {
             "colorbar": {
              "outlinewidth": 0,
              "ticks": ""
             }
            },
            "type": "scattergl"
           }
          ],
          "scattermapbox": [
           {
            "marker": {
             "colorbar": {
              "outlinewidth": 0,
              "ticks": ""
             }
            },
            "type": "scattermapbox"
           }
          ],
          "scatterpolar": [
           {
            "marker": {
             "colorbar": {
              "outlinewidth": 0,
              "ticks": ""
             }
            },
            "type": "scatterpolar"
           }
          ],
          "scatterpolargl": [
           {
            "marker": {
             "colorbar": {
              "outlinewidth": 0,
              "ticks": ""
             }
            },
            "type": "scatterpolargl"
           }
          ],
          "scatterternary": [
           {
            "marker": {
             "colorbar": {
              "outlinewidth": 0,
              "ticks": ""
             }
            },
            "type": "scatterternary"
           }
          ],
          "surface": [
           {
            "colorbar": {
             "outlinewidth": 0,
             "ticks": ""
            },
            "colorscale": [
             [
              0.0,
              "#0d0887"
             ],
             [
              0.1111111111111111,
              "#46039f"
             ],
             [
              0.2222222222222222,
              "#7201a8"
             ],
             [
              0.3333333333333333,
              "#9c179e"
             ],
             [
              0.4444444444444444,
              "#bd3786"
             ],
             [
              0.5555555555555556,
              "#d8576b"
             ],
             [
              0.6666666666666666,
              "#ed7953"
             ],
             [
              0.7777777777777778,
              "#fb9f3a"
             ],
             [
              0.8888888888888888,
              "#fdca26"
             ],
             [
              1.0,
              "#f0f921"
             ]
            ],
            "type": "surface"
           }
          ],
          "table": [
           {
            "cells": {
             "fill": {
              "color": "#EBF0F8"
             },
             "line": {
              "color": "white"
             }
            },
            "header": {
             "fill": {
              "color": "#C8D4E3"
             },
             "line": {
              "color": "white"
             }
            },
            "type": "table"
           }
          ]
         },
         "layout": {
          "annotationdefaults": {
           "arrowcolor": "#2a3f5f",
           "arrowhead": 0,
           "arrowwidth": 1
          },
          "coloraxis": {
           "colorbar": {
            "outlinewidth": 0,
            "ticks": ""
           }
          },
          "colorscale": {
           "diverging": [
            [
             0,
             "#8e0152"
            ],
            [
             0.1,
             "#c51b7d"
            ],
            [
             0.2,
             "#de77ae"
            ],
            [
             0.3,
             "#f1b6da"
            ],
            [
             0.4,
             "#fde0ef"
            ],
            [
             0.5,
             "#f7f7f7"
            ],
            [
             0.6,
             "#e6f5d0"
            ],
            [
             0.7,
             "#b8e186"
            ],
            [
             0.8,
             "#7fbc41"
            ],
            [
             0.9,
             "#4d9221"
            ],
            [
             1,
             "#276419"
            ]
           ],
           "sequential": [
            [
             0.0,
             "#0d0887"
            ],
            [
             0.1111111111111111,
             "#46039f"
            ],
            [
             0.2222222222222222,
             "#7201a8"
            ],
            [
             0.3333333333333333,
             "#9c179e"
            ],
            [
             0.4444444444444444,
             "#bd3786"
            ],
            [
             0.5555555555555556,
             "#d8576b"
            ],
            [
             0.6666666666666666,
             "#ed7953"
            ],
            [
             0.7777777777777778,
             "#fb9f3a"
            ],
            [
             0.8888888888888888,
             "#fdca26"
            ],
            [
             1.0,
             "#f0f921"
            ]
           ],
           "sequentialminus": [
            [
             0.0,
             "#0d0887"
            ],
            [
             0.1111111111111111,
             "#46039f"
            ],
            [
             0.2222222222222222,
             "#7201a8"
            ],
            [
             0.3333333333333333,
             "#9c179e"
            ],
            [
             0.4444444444444444,
             "#bd3786"
            ],
            [
             0.5555555555555556,
             "#d8576b"
            ],
            [
             0.6666666666666666,
             "#ed7953"
            ],
            [
             0.7777777777777778,
             "#fb9f3a"
            ],
            [
             0.8888888888888888,
             "#fdca26"
            ],
            [
             1.0,
             "#f0f921"
            ]
           ]
          },
          "colorway": [
           "#636efa",
           "#EF553B",
           "#00cc96",
           "#ab63fa",
           "#FFA15A",
           "#19d3f3",
           "#FF6692",
           "#B6E880",
           "#FF97FF",
           "#FECB52"
          ],
          "font": {
           "color": "#2a3f5f"
          },
          "geo": {
           "bgcolor": "white",
           "lakecolor": "white",
           "landcolor": "#E5ECF6",
           "showlakes": true,
           "showland": true,
           "subunitcolor": "white"
          },
          "hoverlabel": {
           "align": "left"
          },
          "hovermode": "closest",
          "mapbox": {
           "style": "light"
          },
          "paper_bgcolor": "white",
          "plot_bgcolor": "#E5ECF6",
          "polar": {
           "angularaxis": {
            "gridcolor": "white",
            "linecolor": "white",
            "ticks": ""
           },
           "bgcolor": "#E5ECF6",
           "radialaxis": {
            "gridcolor": "white",
            "linecolor": "white",
            "ticks": ""
           }
          },
          "scene": {
           "xaxis": {
            "backgroundcolor": "#E5ECF6",
            "gridcolor": "white",
            "gridwidth": 2,
            "linecolor": "white",
            "showbackground": true,
            "ticks": "",
            "zerolinecolor": "white"
           },
           "yaxis": {
            "backgroundcolor": "#E5ECF6",
            "gridcolor": "white",
            "gridwidth": 2,
            "linecolor": "white",
            "showbackground": true,
            "ticks": "",
            "zerolinecolor": "white"
           },
           "zaxis": {
            "backgroundcolor": "#E5ECF6",
            "gridcolor": "white",
            "gridwidth": 2,
            "linecolor": "white",
            "showbackground": true,
            "ticks": "",
            "zerolinecolor": "white"
           }
          },
          "shapedefaults": {
           "line": {
            "color": "#2a3f5f"
           }
          },
          "ternary": {
           "aaxis": {
            "gridcolor": "white",
            "linecolor": "white",
            "ticks": ""
           },
           "baxis": {
            "gridcolor": "white",
            "linecolor": "white",
            "ticks": ""
           },
           "bgcolor": "#E5ECF6",
           "caxis": {
            "gridcolor": "white",
            "linecolor": "white",
            "ticks": ""
           }
          },
          "title": {
           "x": 0.05
          },
          "xaxis": {
           "automargin": true,
           "gridcolor": "white",
           "linecolor": "white",
           "ticks": "",
           "title": {
            "standoff": 15
           },
           "zerolinecolor": "white",
           "zerolinewidth": 2
          },
          "yaxis": {
           "automargin": true,
           "gridcolor": "white",
           "linecolor": "white",
           "ticks": "",
           "title": {
            "standoff": 15
           },
           "zerolinecolor": "white",
           "zerolinewidth": 2
          }
         }
        },
        "xaxis": {
         "anchor": "y",
         "domain": [
          0.0,
          1.0
         ],
         "title": {
          "text": "stop_name"
         }
        },
        "yaxis": {
         "anchor": "x",
         "domain": [
          0.0,
          1.0
         ],
         "title": {
          "text": "value"
         }
        }
       }
      },
      "text/html": "<div>\n        \n        \n            <div id=\"f7cb87bd-de32-4196-a123-74fff3ca0a43\" class=\"plotly-graph-div\" style=\"height:525px; width:100%;\"></div>\n            <script type=\"text/javascript\">\n                require([\"plotly\"], function(Plotly) {\n                    window.PLOTLYENV=window.PLOTLYENV || {};\n                    \n                if (document.getElementById(\"f7cb87bd-de32-4196-a123-74fff3ca0a43\")) {\n                    Plotly.newPlot(\n                        'f7cb87bd-de32-4196-a123-74fff3ca0a43',\n                        [{\"hovertemplate\": \"variable=2020-02-07 12:39:00<br>stop_name=%{x}<br>value=%{y}<extra></extra>\", \"legendgroup\": \"2020-02-07 12:39:00\", \"line\": {\"color\": \"#636efa\", \"dash\": \"solid\"}, \"mode\": \"lines\", \"name\": \"2020-02-07 12:39:00\", \"orientation\": \"v\", \"showlegend\": true, \"type\": \"scatter\", \"x\": [\"Rector St\", \"WTC Cortlandt\", \"Chambers St\", \"Franklin St\", \"Canal St\", \"Houston St\", \"Christopher St - Sheridan Sq\", \"14 St\", \"18 St\", \"23 St\", \"28 St\", \"34 St - Penn Station\", \"Times Sq - 42 St\", \"50 St\", \"59 St - Columbus Circle\", \"66 St - Lincoln Center\", \"72 St\", \"79 St\", \"86 St\", \"96 St\", \"103 St\", \"Cathedral Pkwy\", \"116 St - Columbia University\", \"125 St\", \"137 St - City College\", \"145 St\", \"157 St\", \"168 St - Washington Hts\", \"181 St\", \"191 St\", \"Dyckman St\", \"207 St\", \"215 St\", \"Marble Hill - 225 St\", \"231 St\", \"238 St\", \"Van Cortlandt Park - 242 St\"], \"xaxis\": \"x\", \"y\": [\"2020-02-07T12:40:31\", null, null, null, null, null, null, null, null, null, null, null, \"2020-02-07T12:56:33\", \"2020-02-07T12:58:38\", \"2020-02-07T13:00:18\", \"2020-02-07T13:01:39\", \"2020-02-07T13:02:58\", \"2020-02-07T13:04:26\", \"2020-02-07T13:09:58\", \"2020-02-07T13:12:51\", \"2020-02-07T13:14:36\", \"2020-02-07T13:16:13\", \"2020-02-07T13:17:48\", \"2020-02-07T13:19:38\", \"2020-02-07T13:21:20\", \"2020-02-07T13:23:05\", \"2020-02-07T13:24:56\", \"2020-02-07T13:26:36\", \"2020-02-07T13:28:27\", \"2020-02-07T13:29:52\", \"2020-02-07T13:31:13\", \"2020-02-07T13:32:40\", \"2020-02-07T13:34:04\", \"2020-02-07T13:35:30\", \"2020-02-07T13:36:51\", \"2020-02-07T13:44:08\", \"2020-02-07T13:48:12\"], \"yaxis\": \"y\"}, {\"hovertemplate\": \"variable=2020-08-04 11:51:00<br>stop_name=%{x}<br>value=%{y}<extra></extra>\", \"legendgroup\": \"2020-08-04 11:51:00\", \"line\": {\"color\": \"#EF553B\", \"dash\": \"solid\"}, \"mode\": \"lines\", \"name\": \"2020-08-04 11:51:00\", \"orientation\": \"v\", \"showlegend\": true, \"type\": \"scatter\", \"x\": [\"Rector St\", \"WTC Cortlandt\", \"Chambers St\", \"Franklin St\", \"Canal St\", \"Houston St\", \"Christopher St - Sheridan Sq\", \"14 St\", \"18 St\", \"23 St\", \"28 St\", \"34 St - Penn Station\", \"Times Sq - 42 St\", \"50 St\", \"59 St - Columbus Circle\", \"66 St - Lincoln Center\", \"72 St\", \"79 St\", \"86 St\", \"96 St\", \"103 St\", \"Cathedral Pkwy\", \"116 St - Columbia University\", \"125 St\", \"137 St - City College\", \"145 St\", \"157 St\", \"168 St - Washington Hts\", \"181 St\", \"191 St\", \"Dyckman St\", \"207 St\", \"215 St\", \"Marble Hill - 225 St\", \"231 St\", \"238 St\", \"Van Cortlandt Park - 242 St\"], \"xaxis\": \"x\", \"y\": [\"2020-02-07T12:42:00\", \"2020-02-07T12:43:00\", \"2020-02-07T12:44:00\", \"2020-02-07T12:45:00\", \"2020-02-07T12:46:00\", \"2020-02-07T12:48:00\", \"2020-02-07T12:49:30\", \"2020-02-07T12:51:00\", \"2020-02-07T12:52:00\", \"2020-02-07T12:53:00\", \"2020-02-07T12:54:00\", \"2020-02-07T12:55:00\", \"2020-02-07T12:56:30\", \"2020-02-07T12:58:30\", \"2020-02-07T13:00:30\", \"2020-02-07T13:02:00\", \"2020-02-07T13:03:00\", \"2020-02-07T13:05:00\", \"2020-02-07T13:06:00\", \"2020-02-07T13:08:00\", \"2020-02-07T13:09:30\", \"2020-02-07T13:11:00\", \"2020-02-07T13:12:00\", \"2020-02-07T13:14:30\", \"2020-02-07T13:16:30\", \"2020-02-07T13:18:00\", \"2020-02-07T13:20:00\", \"2020-02-07T13:21:30\", \"2020-02-07T13:23:30\", \"2020-02-07T13:25:00\", \"2020-02-07T13:26:00\", \"2020-02-07T13:27:30\", \"2020-02-07T13:29:00\", \"2020-02-07T13:30:30\", \"2020-02-07T13:32:00\", \"2020-02-07T13:33:30\", \"2020-02-07T13:37:30\"], \"yaxis\": \"y\"}],\n                        {\"legend\": {\"title\": {\"text\": \"variable\"}, \"tracegroupgap\": 0}, \"margin\": {\"t\": 60}, \"template\": {\"data\": {\"bar\": [{\"error_x\": {\"color\": \"#2a3f5f\"}, \"error_y\": {\"color\": \"#2a3f5f\"}, \"marker\": {\"line\": {\"color\": \"#E5ECF6\", \"width\": 0.5}}, \"type\": \"bar\"}], \"barpolar\": [{\"marker\": {\"line\": {\"color\": \"#E5ECF6\", \"width\": 0.5}}, \"type\": \"barpolar\"}], \"carpet\": [{\"aaxis\": {\"endlinecolor\": \"#2a3f5f\", \"gridcolor\": \"white\", \"linecolor\": \"white\", \"minorgridcolor\": \"white\", \"startlinecolor\": \"#2a3f5f\"}, \"baxis\": {\"endlinecolor\": \"#2a3f5f\", \"gridcolor\": \"white\", \"linecolor\": \"white\", \"minorgridcolor\": \"white\", \"startlinecolor\": \"#2a3f5f\"}, \"type\": \"carpet\"}], \"choropleth\": [{\"colorbar\": {\"outlinewidth\": 0, \"ticks\": \"\"}, \"type\": \"choropleth\"}], \"contour\": [{\"colorbar\": {\"outlinewidth\": 0, \"ticks\": \"\"}, \"colorscale\": [[0.0, \"#0d0887\"], [0.1111111111111111, \"#46039f\"], [0.2222222222222222, \"#7201a8\"], [0.3333333333333333, \"#9c179e\"], [0.4444444444444444, \"#bd3786\"], [0.5555555555555556, \"#d8576b\"], [0.6666666666666666, \"#ed7953\"], [0.7777777777777778, \"#fb9f3a\"], [0.8888888888888888, \"#fdca26\"], [1.0, \"#f0f921\"]], \"type\": \"contour\"}], \"contourcarpet\": [{\"colorbar\": {\"outlinewidth\": 0, \"ticks\": \"\"}, \"type\": \"contourcarpet\"}], \"heatmap\": [{\"colorbar\": {\"outlinewidth\": 0, \"ticks\": \"\"}, \"colorscale\": [[0.0, \"#0d0887\"], [0.1111111111111111, \"#46039f\"], [0.2222222222222222, \"#7201a8\"], [0.3333333333333333, \"#9c179e\"], [0.4444444444444444, \"#bd3786\"], [0.5555555555555556, \"#d8576b\"], [0.6666666666666666, \"#ed7953\"], [0.7777777777777778, \"#fb9f3a\"], [0.8888888888888888, \"#fdca26\"], [1.0, \"#f0f921\"]], \"type\": \"heatmap\"}], \"heatmapgl\": [{\"colorbar\": {\"outlinewidth\": 0, \"ticks\": \"\"}, \"colorscale\": [[0.0, \"#0d0887\"], [0.1111111111111111, \"#46039f\"], [0.2222222222222222, \"#7201a8\"], [0.3333333333333333, \"#9c179e\"], [0.4444444444444444, \"#bd3786\"], [0.5555555555555556, \"#d8576b\"], [0.6666666666666666, \"#ed7953\"], [0.7777777777777778, \"#fb9f3a\"], [0.8888888888888888, \"#fdca26\"], [1.0, \"#f0f921\"]], \"type\": \"heatmapgl\"}], \"histogram\": [{\"marker\": {\"colorbar\": {\"outlinewidth\": 0, \"ticks\": \"\"}}, \"type\": \"histogram\"}], \"histogram2d\": [{\"colorbar\": {\"outlinewidth\": 0, \"ticks\": \"\"}, \"colorscale\": [[0.0, \"#0d0887\"], [0.1111111111111111, \"#46039f\"], [0.2222222222222222, \"#7201a8\"], [0.3333333333333333, \"#9c179e\"], [0.4444444444444444, \"#bd3786\"], [0.5555555555555556, \"#d8576b\"], [0.6666666666666666, \"#ed7953\"], [0.7777777777777778, \"#fb9f3a\"], [0.8888888888888888, \"#fdca26\"], [1.0, \"#f0f921\"]], \"type\": \"histogram2d\"}], \"histogram2dcontour\": [{\"colorbar\": {\"outlinewidth\": 0, \"ticks\": \"\"}, \"colorscale\": [[0.0, \"#0d0887\"], [0.1111111111111111, \"#46039f\"], [0.2222222222222222, \"#7201a8\"], [0.3333333333333333, \"#9c179e\"], [0.4444444444444444, \"#bd3786\"], [0.5555555555555556, \"#d8576b\"], [0.6666666666666666, \"#ed7953\"], [0.7777777777777778, \"#fb9f3a\"], [0.8888888888888888, \"#fdca26\"], [1.0, \"#f0f921\"]], \"type\": \"histogram2dcontour\"}], \"mesh3d\": [{\"colorbar\": {\"outlinewidth\": 0, \"ticks\": \"\"}, \"type\": \"mesh3d\"}], \"parcoords\": [{\"line\": {\"colorbar\": {\"outlinewidth\": 0, \"ticks\": \"\"}}, \"type\": \"parcoords\"}], \"pie\": [{\"automargin\": true, \"type\": \"pie\"}], \"scatter\": [{\"marker\": {\"colorbar\": {\"outlinewidth\": 0, \"ticks\": \"\"}}, \"type\": \"scatter\"}], \"scatter3d\": [{\"line\": {\"colorbar\": {\"outlinewidth\": 0, \"ticks\": \"\"}}, \"marker\": {\"colorbar\": {\"outlinewidth\": 0, \"ticks\": \"\"}}, \"type\": \"scatter3d\"}], \"scattercarpet\": [{\"marker\": {\"colorbar\": {\"outlinewidth\": 0, \"ticks\": \"\"}}, \"type\": \"scattercarpet\"}], \"scattergeo\": [{\"marker\": {\"colorbar\": {\"outlinewidth\": 0, \"ticks\": \"\"}}, \"type\": \"scattergeo\"}], \"scattergl\": [{\"marker\": {\"colorbar\": {\"outlinewidth\": 0, \"ticks\": \"\"}}, \"type\": \"scattergl\"}], \"scattermapbox\": [{\"marker\": {\"colorbar\": {\"outlinewidth\": 0, \"ticks\": \"\"}}, \"type\": \"scattermapbox\"}], \"scatterpolar\": [{\"marker\": {\"colorbar\": {\"outlinewidth\": 0, \"ticks\": \"\"}}, \"type\": \"scatterpolar\"}], \"scatterpolargl\": [{\"marker\": {\"colorbar\": {\"outlinewidth\": 0, \"ticks\": \"\"}}, \"type\": \"scatterpolargl\"}], \"scatterternary\": [{\"marker\": {\"colorbar\": {\"outlinewidth\": 0, \"ticks\": \"\"}}, \"type\": \"scatterternary\"}], \"surface\": [{\"colorbar\": {\"outlinewidth\": 0, \"ticks\": \"\"}, \"colorscale\": [[0.0, \"#0d0887\"], [0.1111111111111111, \"#46039f\"], [0.2222222222222222, \"#7201a8\"], [0.3333333333333333, \"#9c179e\"], [0.4444444444444444, \"#bd3786\"], [0.5555555555555556, \"#d8576b\"], [0.6666666666666666, \"#ed7953\"], [0.7777777777777778, \"#fb9f3a\"], [0.8888888888888888, \"#fdca26\"], [1.0, \"#f0f921\"]], \"type\": \"surface\"}], \"table\": [{\"cells\": {\"fill\": {\"color\": \"#EBF0F8\"}, \"line\": {\"color\": \"white\"}}, \"header\": {\"fill\": {\"color\": \"#C8D4E3\"}, \"line\": {\"color\": \"white\"}}, \"type\": \"table\"}]}, \"layout\": {\"annotationdefaults\": {\"arrowcolor\": \"#2a3f5f\", \"arrowhead\": 0, \"arrowwidth\": 1}, \"coloraxis\": {\"colorbar\": {\"outlinewidth\": 0, \"ticks\": \"\"}}, \"colorscale\": {\"diverging\": [[0, \"#8e0152\"], [0.1, \"#c51b7d\"], [0.2, \"#de77ae\"], [0.3, \"#f1b6da\"], [0.4, \"#fde0ef\"], [0.5, \"#f7f7f7\"], [0.6, \"#e6f5d0\"], [0.7, \"#b8e186\"], [0.8, \"#7fbc41\"], [0.9, \"#4d9221\"], [1, \"#276419\"]], \"sequential\": [[0.0, \"#0d0887\"], [0.1111111111111111, \"#46039f\"], [0.2222222222222222, \"#7201a8\"], [0.3333333333333333, \"#9c179e\"], [0.4444444444444444, \"#bd3786\"], [0.5555555555555556, \"#d8576b\"], [0.6666666666666666, \"#ed7953\"], [0.7777777777777778, \"#fb9f3a\"], [0.8888888888888888, \"#fdca26\"], [1.0, \"#f0f921\"]], \"sequentialminus\": [[0.0, \"#0d0887\"], [0.1111111111111111, \"#46039f\"], [0.2222222222222222, \"#7201a8\"], [0.3333333333333333, \"#9c179e\"], [0.4444444444444444, \"#bd3786\"], [0.5555555555555556, \"#d8576b\"], [0.6666666666666666, \"#ed7953\"], [0.7777777777777778, \"#fb9f3a\"], [0.8888888888888888, \"#fdca26\"], [1.0, \"#f0f921\"]]}, \"colorway\": [\"#636efa\", \"#EF553B\", \"#00cc96\", \"#ab63fa\", \"#FFA15A\", \"#19d3f3\", \"#FF6692\", \"#B6E880\", \"#FF97FF\", \"#FECB52\"], \"font\": {\"color\": \"#2a3f5f\"}, \"geo\": {\"bgcolor\": \"white\", \"lakecolor\": \"white\", \"landcolor\": \"#E5ECF6\", \"showlakes\": true, \"showland\": true, \"subunitcolor\": \"white\"}, \"hoverlabel\": {\"align\": \"left\"}, \"hovermode\": \"closest\", \"mapbox\": {\"style\": \"light\"}, \"paper_bgcolor\": \"white\", \"plot_bgcolor\": \"#E5ECF6\", \"polar\": {\"angularaxis\": {\"gridcolor\": \"white\", \"linecolor\": \"white\", \"ticks\": \"\"}, \"bgcolor\": \"#E5ECF6\", \"radialaxis\": {\"gridcolor\": \"white\", \"linecolor\": \"white\", \"ticks\": \"\"}}, \"scene\": {\"xaxis\": {\"backgroundcolor\": \"#E5ECF6\", \"gridcolor\": \"white\", \"gridwidth\": 2, \"linecolor\": \"white\", \"showbackground\": true, \"ticks\": \"\", \"zerolinecolor\": \"white\"}, \"yaxis\": {\"backgroundcolor\": \"#E5ECF6\", \"gridcolor\": \"white\", \"gridwidth\": 2, \"linecolor\": \"white\", \"showbackground\": true, \"ticks\": \"\", \"zerolinecolor\": \"white\"}, \"zaxis\": {\"backgroundcolor\": \"#E5ECF6\", \"gridcolor\": \"white\", \"gridwidth\": 2, \"linecolor\": \"white\", \"showbackground\": true, \"ticks\": \"\", \"zerolinecolor\": \"white\"}}, \"shapedefaults\": {\"line\": {\"color\": \"#2a3f5f\"}}, \"ternary\": {\"aaxis\": {\"gridcolor\": \"white\", \"linecolor\": \"white\", \"ticks\": \"\"}, \"baxis\": {\"gridcolor\": \"white\", \"linecolor\": \"white\", \"ticks\": \"\"}, \"bgcolor\": \"#E5ECF6\", \"caxis\": {\"gridcolor\": \"white\", \"linecolor\": \"white\", \"ticks\": \"\"}}, \"title\": {\"x\": 0.05}, \"xaxis\": {\"automargin\": true, \"gridcolor\": \"white\", \"linecolor\": \"white\", \"ticks\": \"\", \"title\": {\"standoff\": 15}, \"zerolinecolor\": \"white\", \"zerolinewidth\": 2}, \"yaxis\": {\"automargin\": true, \"gridcolor\": \"white\", \"linecolor\": \"white\", \"ticks\": \"\", \"title\": {\"standoff\": 15}, \"zerolinecolor\": \"white\", \"zerolinewidth\": 2}}}, \"xaxis\": {\"anchor\": \"y\", \"domain\": [0.0, 1.0], \"title\": {\"text\": \"stop_name\"}}, \"yaxis\": {\"anchor\": \"x\", \"domain\": [0.0, 1.0], \"title\": {\"text\": \"value\"}}},\n                        {\"responsive\": true}\n                    ).then(function(){\n                            \nvar gd = document.getElementById('f7cb87bd-de32-4196-a123-74fff3ca0a43');\nvar x = new MutationObserver(function (mutations, observer) {{\n        var display = window.getComputedStyle(gd).display;\n        if (!display || display === 'none') {{\n            console.log([gd, 'removed!']);\n            Plotly.purge(gd);\n            observer.disconnect();\n        }}\n}});\n\n// Listen for the removal of the full notebook cells\nvar notebookContainer = gd.closest('#notebook-container');\nif (notebookContainer) {{\n    x.observe(notebookContainer, {childList: true});\n}}\n\n// Listen for the clearing of the current output cell\nvar outputEl = gd.closest('.output');\nif (outputEl) {{\n    x.observe(outputEl, {childList: true});\n}}\n\n                        })\n                };\n                });\n            </script>\n        </div>"
     },
     "metadata": {},
     "output_type": "display_data"
    }
   ],
   "source": [
    "px.line(trips.apply(lambda r: r + (trips.index[0] - r.index),axis=0).transpose())"
   ],
   "metadata": {
    "collapsed": false,
    "pycharm": {
     "name": "#%%\n"
    }
   }
  }
 ],
 "metadata": {
  "kernelspec": {
   "display_name": "Python 3",
   "language": "python",
   "name": "python3"
  },
  "language_info": {
   "codemirror_mode": {
    "name": "ipython",
    "version": 2
   },
   "file_extension": ".py",
   "mimetype": "text/x-python",
   "name": "python",
   "nbconvert_exporter": "python",
   "pygments_lexer": "ipython2",
   "version": "2.7.6"
  }
 },
 "nbformat": 4,
 "nbformat_minor": 0
}