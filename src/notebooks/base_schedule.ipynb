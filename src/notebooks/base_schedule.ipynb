{
 "cells": [
  {
   "cell_type": "code",
   "execution_count": 100,
   "metadata": {
    "collapsed": true,
    "pycharm": {
     "name": "#%%\n"
    }
   },
   "outputs": [],
   "source": [
    "import pandas as pd\n",
    "import numpy as np\n",
    "import plotly.express as px\n",
    "pd.options.plotting.backend = \"plotly\""
   ]
  },
  {
   "cell_type": "code",
   "execution_count": 101,
   "outputs": [],
   "source": [
    "d = pd.read_csv('../../static data/stop_times.txt')\n",
    "d['arrival_time'] = pd.to_timedelta(d['arrival_time'])\n",
    "d['departure_time'] = pd.to_timedelta(d['departure_time'])\n",
    "weekdays = d[d['trip_id'].str.contains('_1..N') & d['trip_id'].str.contains('Weekday')][['trip_id', 'arrival_time', 'stop_id']]\n",
    "pivoted = weekdays.pivot(index='trip_id', columns='stop_id').droplevel(level=0, axis=1)\n",
    "start_times = pd.Series(pivoted.index).str.split('_', expand=True)[1].astype('int32')"
   ],
   "metadata": {
    "collapsed": false,
    "pycharm": {
     "name": "#%%\n"
    }
   }
  },
  {
   "cell_type": "code",
   "execution_count": 106,
   "outputs": [
    {
     "data": {
      "text/plain": "stop_id                    101N            103N            104N  \\\n1                                                                 \n0 days 01:14:00 0 days 02:13:30 0 days 02:08:30 0 days 02:07:00   \n0 days 01:34:00 0 days 02:33:30 0 days 02:28:30 0 days 02:27:00   \n0 days 01:54:00 0 days 02:53:30 0 days 02:48:30 0 days 02:47:00   \n0 days 02:14:00 0 days 03:13:30 0 days 03:08:30 0 days 03:07:00   \n0 days 02:34:00 0 days 03:33:30 0 days 03:28:30 0 days 03:27:00   \n...                         ...             ...             ...   \n1 days 00:09:00 1 days 01:08:00 1 days 01:03:00 1 days 01:01:30   \n1 days 00:19:00 1 days 01:18:00 1 days 01:13:00 1 days 01:11:30   \n1 days 00:32:00 1 days 01:31:00 1 days 01:26:00 1 days 01:24:30   \n1 days 00:45:00 1 days 01:44:30 1 days 01:39:30 1 days 01:38:00   \n1 days 00:59:00 1 days 01:58:00 1 days 01:53:00 1 days 01:51:30   \n\nstop_id                    106N            107N            108N  \\\n1                                                                 \n0 days 01:14:00 0 days 02:05:30 0 days 02:04:00 0 days 02:02:30   \n0 days 01:34:00 0 days 02:25:30 0 days 02:24:00 0 days 02:22:30   \n0 days 01:54:00 0 days 02:45:30 0 days 02:44:00 0 days 02:42:30   \n0 days 02:14:00 0 days 03:05:30 0 days 03:04:00 0 days 03:02:30   \n0 days 02:34:00 0 days 03:25:30 0 days 03:24:00 0 days 03:22:30   \n...                         ...             ...             ...   \n1 days 00:09:00 1 days 01:00:00 1 days 00:58:30 1 days 00:57:00   \n1 days 00:19:00 1 days 01:10:00 1 days 01:08:30 1 days 01:07:00   \n1 days 00:32:00 1 days 01:23:00 1 days 01:21:30 1 days 01:20:00   \n1 days 00:45:00 1 days 01:36:30 1 days 01:35:00 1 days 01:33:30   \n1 days 00:59:00 1 days 01:50:00 1 days 01:48:30 1 days 01:47:00   \n\nstop_id                    109N            110N            111N  \\\n1                                                                 \n0 days 01:14:00 0 days 02:01:00 0 days 02:00:00 0 days 01:58:30   \n0 days 01:34:00 0 days 02:21:00 0 days 02:20:00 0 days 02:18:30   \n0 days 01:54:00 0 days 02:41:00 0 days 02:40:00 0 days 02:38:30   \n0 days 02:14:00 0 days 03:01:00 0 days 03:00:00 0 days 02:58:30   \n0 days 02:34:00 0 days 03:21:00 0 days 03:20:00 0 days 03:18:30   \n...                         ...             ...             ...   \n1 days 00:09:00 1 days 00:55:30 1 days 00:54:30 1 days 00:53:00   \n1 days 00:19:00 1 days 01:05:30 1 days 01:04:30 1 days 01:03:00   \n1 days 00:32:00 1 days 01:18:30 1 days 01:17:30 1 days 01:16:00   \n1 days 00:45:00 1 days 01:32:00 1 days 01:31:00 1 days 01:29:30   \n1 days 00:59:00 1 days 01:45:30 1 days 01:44:30 1 days 01:43:00   \n\nstop_id                    112N  ...            131N            132N  \\\n1                                ...                                   \n0 days 01:14:00 0 days 01:56:30  ... 0 days 01:27:00 0 days 01:26:00   \n0 days 01:34:00 0 days 02:16:30  ... 0 days 01:47:00 0 days 01:46:00   \n0 days 01:54:00 0 days 02:36:30  ... 0 days 02:07:00 0 days 02:06:00   \n0 days 02:14:00 0 days 02:56:30  ... 0 days 02:27:00 0 days 02:26:00   \n0 days 02:34:00 0 days 03:16:30  ... 0 days 02:47:00 0 days 02:46:00   \n...                         ...  ...             ...             ...   \n1 days 00:09:00 1 days 00:51:00  ... 1 days 00:21:30 1 days 00:20:30   \n1 days 00:19:00 1 days 01:01:00  ... 1 days 00:31:30 1 days 00:30:30   \n1 days 00:32:00 1 days 01:14:00  ... 1 days 00:44:30 1 days 00:43:30   \n1 days 00:45:00 1 days 01:27:30  ... 1 days 00:58:00 1 days 00:57:00   \n1 days 00:59:00 1 days 01:41:00  ... 1 days 01:11:30 1 days 01:10:30   \n\nstop_id                    133N            134N            135N  \\\n1                                                                 \n0 days 01:14:00 0 days 01:24:30 0 days 01:23:00 0 days 01:21:30   \n0 days 01:34:00 0 days 01:44:30 0 days 01:43:00 0 days 01:41:30   \n0 days 01:54:00 0 days 02:04:30 0 days 02:03:00 0 days 02:01:30   \n0 days 02:14:00 0 days 02:24:30 0 days 02:23:00 0 days 02:21:30   \n0 days 02:34:00 0 days 02:44:30 0 days 02:43:00 0 days 02:41:30   \n...                         ...             ...             ...   \n1 days 00:09:00 1 days 00:19:00 1 days 00:17:30 1 days 00:16:00   \n1 days 00:19:00 1 days 00:29:00 1 days 00:27:30 1 days 00:26:00   \n1 days 00:32:00 1 days 00:42:00 1 days 00:40:30 1 days 00:39:00   \n1 days 00:45:00 1 days 00:55:30 1 days 00:54:00 1 days 00:52:30   \n1 days 00:59:00 1 days 01:09:00 1 days 01:07:30 1 days 01:06:00   \n\nstop_id                    136N            137N            138N  \\\n1                                                                 \n0 days 01:14:00 0 days 01:20:30 0 days 01:19:00 0 days 01:18:00   \n0 days 01:34:00 0 days 01:40:30 0 days 01:39:00 0 days 01:38:00   \n0 days 01:54:00 0 days 02:00:30 0 days 01:59:00 0 days 01:58:00   \n0 days 02:14:00 0 days 02:20:30 0 days 02:19:00 0 days 02:18:00   \n0 days 02:34:00 0 days 02:40:30 0 days 02:39:00 0 days 02:38:00   \n...                         ...             ...             ...   \n1 days 00:09:00 1 days 00:15:00 1 days 00:13:30 1 days 00:12:30   \n1 days 00:19:00 1 days 00:25:00 1 days 00:23:30 1 days 00:22:30   \n1 days 00:32:00 1 days 00:38:00 1 days 00:36:30 1 days 00:35:30   \n1 days 00:45:00 1 days 00:51:30 1 days 00:50:00 1 days 00:49:00   \n1 days 00:59:00 1 days 01:05:00 1 days 01:03:30 1 days 01:02:30   \n\nstop_id                    139N            142N  \n1                                                \n0 days 01:14:00 0 days 01:17:00 0 days 01:14:30  \n0 days 01:34:00 0 days 01:37:00 0 days 01:34:30  \n0 days 01:54:00 0 days 01:57:00 0 days 01:54:30  \n0 days 02:14:00 0 days 02:17:00 0 days 02:14:30  \n0 days 02:34:00 0 days 02:37:00 0 days 02:34:30  \n...                         ...             ...  \n1 days 00:09:00 1 days 00:11:30 1 days 00:09:00  \n1 days 00:19:00 1 days 00:21:30 1 days 00:19:00  \n1 days 00:32:00 1 days 00:34:30 1 days 00:32:00  \n1 days 00:45:00 1 days 00:48:00 1 days 00:45:30  \n1 days 00:59:00 1 days 01:01:30 1 days 00:59:00  \n\n[231 rows x 38 columns]",
      "text/html": "<div>\n<style scoped>\n    .dataframe tbody tr th:only-of-type {\n        vertical-align: middle;\n    }\n\n    .dataframe tbody tr th {\n        vertical-align: top;\n    }\n\n    .dataframe thead th {\n        text-align: right;\n    }\n</style>\n<table border=\"1\" class=\"dataframe\">\n  <thead>\n    <tr style=\"text-align: right;\">\n      <th>stop_id</th>\n      <th>101N</th>\n      <th>103N</th>\n      <th>104N</th>\n      <th>106N</th>\n      <th>107N</th>\n      <th>108N</th>\n      <th>109N</th>\n      <th>110N</th>\n      <th>111N</th>\n      <th>112N</th>\n      <th>...</th>\n      <th>131N</th>\n      <th>132N</th>\n      <th>133N</th>\n      <th>134N</th>\n      <th>135N</th>\n      <th>136N</th>\n      <th>137N</th>\n      <th>138N</th>\n      <th>139N</th>\n      <th>142N</th>\n    </tr>\n    <tr>\n      <th>1</th>\n      <th></th>\n      <th></th>\n      <th></th>\n      <th></th>\n      <th></th>\n      <th></th>\n      <th></th>\n      <th></th>\n      <th></th>\n      <th></th>\n      <th></th>\n      <th></th>\n      <th></th>\n      <th></th>\n      <th></th>\n      <th></th>\n      <th></th>\n      <th></th>\n      <th></th>\n      <th></th>\n      <th></th>\n    </tr>\n  </thead>\n  <tbody>\n    <tr>\n      <th>0 days 01:14:00</th>\n      <td>0 days 02:13:30</td>\n      <td>0 days 02:08:30</td>\n      <td>0 days 02:07:00</td>\n      <td>0 days 02:05:30</td>\n      <td>0 days 02:04:00</td>\n      <td>0 days 02:02:30</td>\n      <td>0 days 02:01:00</td>\n      <td>0 days 02:00:00</td>\n      <td>0 days 01:58:30</td>\n      <td>0 days 01:56:30</td>\n      <td>...</td>\n      <td>0 days 01:27:00</td>\n      <td>0 days 01:26:00</td>\n      <td>0 days 01:24:30</td>\n      <td>0 days 01:23:00</td>\n      <td>0 days 01:21:30</td>\n      <td>0 days 01:20:30</td>\n      <td>0 days 01:19:00</td>\n      <td>0 days 01:18:00</td>\n      <td>0 days 01:17:00</td>\n      <td>0 days 01:14:30</td>\n    </tr>\n    <tr>\n      <th>0 days 01:34:00</th>\n      <td>0 days 02:33:30</td>\n      <td>0 days 02:28:30</td>\n      <td>0 days 02:27:00</td>\n      <td>0 days 02:25:30</td>\n      <td>0 days 02:24:00</td>\n      <td>0 days 02:22:30</td>\n      <td>0 days 02:21:00</td>\n      <td>0 days 02:20:00</td>\n      <td>0 days 02:18:30</td>\n      <td>0 days 02:16:30</td>\n      <td>...</td>\n      <td>0 days 01:47:00</td>\n      <td>0 days 01:46:00</td>\n      <td>0 days 01:44:30</td>\n      <td>0 days 01:43:00</td>\n      <td>0 days 01:41:30</td>\n      <td>0 days 01:40:30</td>\n      <td>0 days 01:39:00</td>\n      <td>0 days 01:38:00</td>\n      <td>0 days 01:37:00</td>\n      <td>0 days 01:34:30</td>\n    </tr>\n    <tr>\n      <th>0 days 01:54:00</th>\n      <td>0 days 02:53:30</td>\n      <td>0 days 02:48:30</td>\n      <td>0 days 02:47:00</td>\n      <td>0 days 02:45:30</td>\n      <td>0 days 02:44:00</td>\n      <td>0 days 02:42:30</td>\n      <td>0 days 02:41:00</td>\n      <td>0 days 02:40:00</td>\n      <td>0 days 02:38:30</td>\n      <td>0 days 02:36:30</td>\n      <td>...</td>\n      <td>0 days 02:07:00</td>\n      <td>0 days 02:06:00</td>\n      <td>0 days 02:04:30</td>\n      <td>0 days 02:03:00</td>\n      <td>0 days 02:01:30</td>\n      <td>0 days 02:00:30</td>\n      <td>0 days 01:59:00</td>\n      <td>0 days 01:58:00</td>\n      <td>0 days 01:57:00</td>\n      <td>0 days 01:54:30</td>\n    </tr>\n    <tr>\n      <th>0 days 02:14:00</th>\n      <td>0 days 03:13:30</td>\n      <td>0 days 03:08:30</td>\n      <td>0 days 03:07:00</td>\n      <td>0 days 03:05:30</td>\n      <td>0 days 03:04:00</td>\n      <td>0 days 03:02:30</td>\n      <td>0 days 03:01:00</td>\n      <td>0 days 03:00:00</td>\n      <td>0 days 02:58:30</td>\n      <td>0 days 02:56:30</td>\n      <td>...</td>\n      <td>0 days 02:27:00</td>\n      <td>0 days 02:26:00</td>\n      <td>0 days 02:24:30</td>\n      <td>0 days 02:23:00</td>\n      <td>0 days 02:21:30</td>\n      <td>0 days 02:20:30</td>\n      <td>0 days 02:19:00</td>\n      <td>0 days 02:18:00</td>\n      <td>0 days 02:17:00</td>\n      <td>0 days 02:14:30</td>\n    </tr>\n    <tr>\n      <th>0 days 02:34:00</th>\n      <td>0 days 03:33:30</td>\n      <td>0 days 03:28:30</td>\n      <td>0 days 03:27:00</td>\n      <td>0 days 03:25:30</td>\n      <td>0 days 03:24:00</td>\n      <td>0 days 03:22:30</td>\n      <td>0 days 03:21:00</td>\n      <td>0 days 03:20:00</td>\n      <td>0 days 03:18:30</td>\n      <td>0 days 03:16:30</td>\n      <td>...</td>\n      <td>0 days 02:47:00</td>\n      <td>0 days 02:46:00</td>\n      <td>0 days 02:44:30</td>\n      <td>0 days 02:43:00</td>\n      <td>0 days 02:41:30</td>\n      <td>0 days 02:40:30</td>\n      <td>0 days 02:39:00</td>\n      <td>0 days 02:38:00</td>\n      <td>0 days 02:37:00</td>\n      <td>0 days 02:34:30</td>\n    </tr>\n    <tr>\n      <th>...</th>\n      <td>...</td>\n      <td>...</td>\n      <td>...</td>\n      <td>...</td>\n      <td>...</td>\n      <td>...</td>\n      <td>...</td>\n      <td>...</td>\n      <td>...</td>\n      <td>...</td>\n      <td>...</td>\n      <td>...</td>\n      <td>...</td>\n      <td>...</td>\n      <td>...</td>\n      <td>...</td>\n      <td>...</td>\n      <td>...</td>\n      <td>...</td>\n      <td>...</td>\n      <td>...</td>\n    </tr>\n    <tr>\n      <th>1 days 00:09:00</th>\n      <td>1 days 01:08:00</td>\n      <td>1 days 01:03:00</td>\n      <td>1 days 01:01:30</td>\n      <td>1 days 01:00:00</td>\n      <td>1 days 00:58:30</td>\n      <td>1 days 00:57:00</td>\n      <td>1 days 00:55:30</td>\n      <td>1 days 00:54:30</td>\n      <td>1 days 00:53:00</td>\n      <td>1 days 00:51:00</td>\n      <td>...</td>\n      <td>1 days 00:21:30</td>\n      <td>1 days 00:20:30</td>\n      <td>1 days 00:19:00</td>\n      <td>1 days 00:17:30</td>\n      <td>1 days 00:16:00</td>\n      <td>1 days 00:15:00</td>\n      <td>1 days 00:13:30</td>\n      <td>1 days 00:12:30</td>\n      <td>1 days 00:11:30</td>\n      <td>1 days 00:09:00</td>\n    </tr>\n    <tr>\n      <th>1 days 00:19:00</th>\n      <td>1 days 01:18:00</td>\n      <td>1 days 01:13:00</td>\n      <td>1 days 01:11:30</td>\n      <td>1 days 01:10:00</td>\n      <td>1 days 01:08:30</td>\n      <td>1 days 01:07:00</td>\n      <td>1 days 01:05:30</td>\n      <td>1 days 01:04:30</td>\n      <td>1 days 01:03:00</td>\n      <td>1 days 01:01:00</td>\n      <td>...</td>\n      <td>1 days 00:31:30</td>\n      <td>1 days 00:30:30</td>\n      <td>1 days 00:29:00</td>\n      <td>1 days 00:27:30</td>\n      <td>1 days 00:26:00</td>\n      <td>1 days 00:25:00</td>\n      <td>1 days 00:23:30</td>\n      <td>1 days 00:22:30</td>\n      <td>1 days 00:21:30</td>\n      <td>1 days 00:19:00</td>\n    </tr>\n    <tr>\n      <th>1 days 00:32:00</th>\n      <td>1 days 01:31:00</td>\n      <td>1 days 01:26:00</td>\n      <td>1 days 01:24:30</td>\n      <td>1 days 01:23:00</td>\n      <td>1 days 01:21:30</td>\n      <td>1 days 01:20:00</td>\n      <td>1 days 01:18:30</td>\n      <td>1 days 01:17:30</td>\n      <td>1 days 01:16:00</td>\n      <td>1 days 01:14:00</td>\n      <td>...</td>\n      <td>1 days 00:44:30</td>\n      <td>1 days 00:43:30</td>\n      <td>1 days 00:42:00</td>\n      <td>1 days 00:40:30</td>\n      <td>1 days 00:39:00</td>\n      <td>1 days 00:38:00</td>\n      <td>1 days 00:36:30</td>\n      <td>1 days 00:35:30</td>\n      <td>1 days 00:34:30</td>\n      <td>1 days 00:32:00</td>\n    </tr>\n    <tr>\n      <th>1 days 00:45:00</th>\n      <td>1 days 01:44:30</td>\n      <td>1 days 01:39:30</td>\n      <td>1 days 01:38:00</td>\n      <td>1 days 01:36:30</td>\n      <td>1 days 01:35:00</td>\n      <td>1 days 01:33:30</td>\n      <td>1 days 01:32:00</td>\n      <td>1 days 01:31:00</td>\n      <td>1 days 01:29:30</td>\n      <td>1 days 01:27:30</td>\n      <td>...</td>\n      <td>1 days 00:58:00</td>\n      <td>1 days 00:57:00</td>\n      <td>1 days 00:55:30</td>\n      <td>1 days 00:54:00</td>\n      <td>1 days 00:52:30</td>\n      <td>1 days 00:51:30</td>\n      <td>1 days 00:50:00</td>\n      <td>1 days 00:49:00</td>\n      <td>1 days 00:48:00</td>\n      <td>1 days 00:45:30</td>\n    </tr>\n    <tr>\n      <th>1 days 00:59:00</th>\n      <td>1 days 01:58:00</td>\n      <td>1 days 01:53:00</td>\n      <td>1 days 01:51:30</td>\n      <td>1 days 01:50:00</td>\n      <td>1 days 01:48:30</td>\n      <td>1 days 01:47:00</td>\n      <td>1 days 01:45:30</td>\n      <td>1 days 01:44:30</td>\n      <td>1 days 01:43:00</td>\n      <td>1 days 01:41:00</td>\n      <td>...</td>\n      <td>1 days 01:11:30</td>\n      <td>1 days 01:10:30</td>\n      <td>1 days 01:09:00</td>\n      <td>1 days 01:07:30</td>\n      <td>1 days 01:06:00</td>\n      <td>1 days 01:05:00</td>\n      <td>1 days 01:03:30</td>\n      <td>1 days 01:02:30</td>\n      <td>1 days 01:01:30</td>\n      <td>1 days 00:59:00</td>\n    </tr>\n  </tbody>\n</table>\n<p>231 rows × 38 columns</p>\n</div>"
     },
     "execution_count": 106,
     "metadata": {},
     "output_type": "execute_result"
    }
   ],
   "source": [
    "pivoted.index = pd.to_timedelta(np.floor(start_times / 100), unit='m')"
   ],
   "metadata": {
    "collapsed": false,
    "pycharm": {
     "name": "#%%\n"
    }
   }
  },
  {
   "cell_type": "code",
   "execution_count": 107,
   "outputs": [],
   "source": [
    "pivoted.index.name = None\n",
    "pivoted.columns.name=None"
   ],
   "metadata": {
    "collapsed": false,
    "pycharm": {
     "name": "#%%\n"
    }
   }
  },
  {
   "cell_type": "code",
   "execution_count": 109,
   "outputs": [],
   "source": [
    "pivoted.to_pickle('schedule.pkl')\n",
    "\n",
    "\n"
   ],
   "metadata": {
    "collapsed": false,
    "pycharm": {
     "name": "#%%\n"
    }
   }
  }
 ],
 "metadata": {
  "kernelspec": {
   "display_name": "Python 3",
   "language": "python",
   "name": "python3"
  },
  "language_info": {
   "codemirror_mode": {
    "name": "ipython",
    "version": 2
   },
   "file_extension": ".py",
   "mimetype": "text/x-python",
   "name": "python",
   "nbconvert_exporter": "python",
   "pygments_lexer": "ipython2",
   "version": "2.7.6"
  }
 },
 "nbformat": 4,
 "nbformat_minor": 0
}