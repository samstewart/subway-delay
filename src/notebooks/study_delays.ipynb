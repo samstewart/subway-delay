{
 "cells": [
  {
   "cell_type": "code",
   "execution_count": 13,
   "outputs": [],
   "source": [
    "import pandas as pd\n",
    "import dill\n",
    "import plotly.express as px\n",
    "pd.options.plotting.backend = \"plotly\""
   ],
   "metadata": {
    "collapsed": false,
    "pycharm": {
     "name": "#%%\n"
    }
   }
  },
  {
   "cell_type": "code",
   "execution_count": 8,
   "outputs": [],
   "source": [
    "diffs = pd.read_pickle('diff_from_schedule.pkl')"
   ],
   "metadata": {
    "collapsed": false,
    "pycharm": {
     "name": "#%%\n"
    }
   }
  },
  {
   "cell_type": "code",
   "execution_count": 25,
   "outputs": [],
   "source": [
    "# trips that were delayed at least once at a station\n",
    "all_delayed = diffs.apply(lambda c: (c.dt.total_seconds() > 20), axis=0).any(axis=1).sum()"
   ],
   "metadata": {
    "collapsed": false,
    "pycharm": {
     "name": "#%%\n"
    }
   }
  },
  {
   "cell_type": "code",
   "execution_count": 28,
   "outputs": [
    {
     "data": {
      "text/plain": "(88, 206)"
     },
     "execution_count": 28,
     "metadata": {},
     "output_type": "execute_result"
    }
   ],
   "source": [
    "# count trips that get delayed but end up at 37 on time\n",
    "only_at_end = (diffs['37'].dt.total_seconds() > 20).sum()\n",
    "# can see from this that most trips recover themselves by speeding up\n",
    "# so the 'terminal time' is not a good measure of lateness\n",
    "(only_at_end, all_delayed)"
   ],
   "metadata": {
    "collapsed": false,
    "pycharm": {
     "name": "#%%\n"
    }
   }
  },
  {
   "cell_type": "code",
   "execution_count": 18,
   "outputs": [],
   "source": [
    "barchart_data = pd.concat([\n",
    "pd.DataFrame(data={'type': 'delayed',\n",
    "                   'count':diffs.apply(lambda c: (c.dt.total_seconds() > 0).sum(), axis=0)\n",
    "                   }),\n",
    "    pd.DataFrame(data=\n",
    "                 {'type': 'not delayed',\n",
    "                   'count':diffs.apply(lambda c: (c.dt.total_seconds() < 0).sum(), axis=0)\n",
    "                   })])\n",
    "barchart_data['station'] = barchart_data.index\n",
    "#px.bar(barchart_data, x='station', y='count', color='type', title='Delays by Station')"
   ],
   "metadata": {
    "collapsed": false,
    "pycharm": {
     "name": "#%%\n"
    }
   }
  },
  {
   "cell_type": "code",
   "execution_count": null,
   "outputs": [],
   "source": [
    "# not sure I care about plotting the actual delayed trips\n",
    "fig = go.Figure(data=[\n",
    "    go.Scatter(mode='lines+markers',\n",
    "name='Delay',\n",
    "y=(late_trip - (onetime_trip + (late_trip[1] - onetime_trip[1])) ) + pd.to_datetime('2020-08-04'),\n",
    "x=arrivals_and_expected.columns)])\n",
    "\n",
    "# same as taking difference of trip lengths?\n",
    "# I think so I'm just not seeing it\n",
    "# (E_1 - S_1) - (E_2 - S_2)\n",
    "# (E_2 - E_1) - (S_2 - S_1)\n",
    "fig.add_trace(go.Scatter(mode='lines+markers',\n",
    "name='Derivative',\n",
    "y=(late_trip - (onetime_trip + (late_trip[1] - onetime_trip[1])) ).diff()+ pd.to_datetime('2020-08-04'),\n",
    "x=arrivals_and_expected.columns))\n",
    "\n",
    "fig.update_layout(\n",
    "    title=f'Delays',\n",
    "    xaxis_title=f'Station',\n",
    "    yaxis_title=f'Difference'\n",
    ")"
   ],
   "metadata": {
    "collapsed": false,
    "pycharm": {
     "name": "#%%\n"
    }
   }
  },
  {
   "cell_type": "code",
   "execution_count": null,
   "outputs": [],
   "source": [
    "\n",
    "\n",
    "\n"
   ],
   "metadata": {
    "collapsed": false,
    "pycharm": {
     "name": "#%%\n"
    }
   }
  }
 ],
 "metadata": {
  "kernelspec": {
   "display_name": "Python 3",
   "language": "python",
   "name": "python3"
  },
  "language_info": {
   "codemirror_mode": {
    "name": "ipython",
    "version": 2
   },
   "file_extension": ".py",
   "mimetype": "text/x-python",
   "name": "python",
   "nbconvert_exporter": "python",
   "pygments_lexer": "ipython2",
   "version": "2.7.6"
  }
 },
 "nbformat": 4,
 "nbformat_minor": 0
}