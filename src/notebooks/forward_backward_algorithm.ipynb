{
 "cells": [
  {
   "cell_type": "code",
   "execution_count": 2,
   "metadata": {
    "collapsed": true,
    "pycharm": {
     "name": "#%%\n"
    }
   },
   "outputs": [],
   "source": [
    "import numpy as np\n",
    "import pandas as pd\n",
    "\n",
    "import plotly.express as px\n",
    "pd.options.plotting.backend = \"plotly\"\n",
    "from scipy.stats import binom,beta"
   ]
  },
  {
   "cell_type": "code",
   "execution_count": 69,
   "outputs": [],
   "source": [
    "def posterior(A, initial, O):\n",
    "    # now compute P(X(t) | o_1, ..., o_t)\n",
    "    forward = np.empty((T, 2))\n",
    "    normalization =  np.empty(T)\n",
    "    forward[0] = initial\n",
    "\n",
    "    for i in range(1, T):\n",
    "        forward[i] = forward[i - 1] @ A @ np.diag(B[:, int(O[i]) - 2])\n",
    "        normalization[i] = forward[i].sum()\n",
    "        forward[i] /= normalization[i]\n",
    "\n",
    "    # now compute backward P(o_{t + 1}, .. o_T | X_t)\n",
    "    backward = np.empty((T, 2))\n",
    "    # in any state of X(T) we have prob 1 of seeing o_T\n",
    "    # by def\n",
    "    backward[T - 1] = np.ones(2)\n",
    "\n",
    "    for i in reversed(range((T - 1))):\n",
    "        # transpose or left mult because\n",
    "        # we are going backward in time\n",
    "        backward[i] = A @ np.diag(B[:, int(O[i + 1]) - 2]) @ backward[i + 1]\n",
    "        backward[i] /= normalization[i + 1]\n",
    "    # these will not be normalized as prob dist\n",
    "    # since we are using normalization to make\n",
    "    # entire conditional (prod) work\n",
    "    return forward * backward"
   ],
   "metadata": {
    "collapsed": false,
    "pycharm": {
     "name": "#%%\n"
    }
   }
  },
  {
   "cell_type": "code",
   "execution_count": 71,
   "outputs": [
    {
     "data": {
      "text/plain": "array([[0.2       , 0.8       ],\n       [0.26      , 0.74      ],\n       [0.248     , 0.752     ],\n       [0.2504    , 0.7496    ],\n       [0.24992   , 0.75008   ],\n       [0.250016  , 0.749984  ],\n       [0.2499968 , 0.7500032 ],\n       [0.25000064, 0.74999936],\n       [0.24999987, 0.75000013],\n       [0.25000003, 0.74999997]])"
     },
     "execution_count": 71,
     "metadata": {},
     "output_type": "execute_result"
    }
   ],
   "source": [
    "# markov transition matrix\n",
    "A = np.array([[.1, .9],\n",
    "              [.3, .7]])\n",
    "# emission probabilities\n",
    "B = np.array([[.5, .5],\n",
    "              [.5, .5]])\n",
    "# one sample up to time T\n",
    "T = 10\n",
    "# sample hidden state\n",
    "X = np.empty(T)\n",
    "X[0] = 0\n",
    "for i in range(1, T):\n",
    "    X[i] = np.random.binomial(1, A[int(X[i - 1]), 1])\n",
    "\n",
    "# weird that I can interchange A and B?\n",
    "# now generate emissions\n",
    "O = np.empty(T)\n",
    "for i in range(T):\n",
    "    # we add +2 so that emissions will be 2,3\n",
    "    # so we don't confuse with underlying hidden chain\n",
    "    O[i] = 2 + np.random.binomial(1, B[int(X[i]), 1])\n",
    "\n",
    "posterior(A, np.array([.2, .8]), O)"
   ],
   "metadata": {
    "collapsed": false,
    "pycharm": {
     "name": "#%%\n"
    }
   }
  }
 ],
 "metadata": {
  "kernelspec": {
   "display_name": "Python 3",
   "language": "python",
   "name": "python3"
  },
  "language_info": {
   "codemirror_mode": {
    "name": "ipython",
    "version": 2
   },
   "file_extension": ".py",
   "mimetype": "text/x-python",
   "name": "python",
   "nbconvert_exporter": "python",
   "pygments_lexer": "ipython2",
   "version": "2.7.6"
  }
 },
 "nbformat": 4,
 "nbformat_minor": 0
}