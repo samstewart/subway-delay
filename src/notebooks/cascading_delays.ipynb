{
 "cells": [
  {
   "cell_type": "code",
   "execution_count": 1,
   "outputs": [],
   "source": [
    "import pandas as pd\n",
    "import dill\n",
    "import plotly.express as px\n",
    "pd.options.plotting.backend = \"plotly\"\n",
    "\n",
    "diffs = pd.read_pickle('diff_from_schedule.pkl')\n",
    "afternoon = pd.read_pickle('afternoon.pkl').drop(0, axis=1)"
   ],
   "metadata": {
    "collapsed": false,
    "pycharm": {
     "name": "#%%\n"
    }
   }
  },
  {
   "cell_type": "code",
   "execution_count": 3,
   "outputs": [],
   "source": [
    "# I think there was a delay that forced them to\n",
    "# bump the last train? Why is there a trip missing?\n",
    "px.line(afternoon['2020-03-04'].transpose()).write_html('delayed.html', auto_open=True)\n",
    "px.line(afternoon['2020-01-21'].transpose()).write_html('not_delayed.html')"
   ],
   "metadata": {
    "collapsed": false,
    "pycharm": {
     "name": "#%%\n"
    }
   }
  },
  {
   "cell_type": "code",
   "execution_count": 58,
   "outputs": [],
   "source": [
    "px.line(afternoon['2020-03-10'].transpose()).write_html('delayed.html', auto_open=True)\n",
    "# todo: standardize to median train?\n",
    "# todo: early morning stuff?\n",
    "# 2020-02-14 has a crazy delay"
   ],
   "metadata": {
    "collapsed": false,
    "pycharm": {
     "name": "#%%\n"
    }
   }
  },
  {
   "cell_type": "code",
   "execution_count": null,
   "outputs": [],
   "source": [
    "# todo: total seconds for whole pandas dataframe?\n",
    "station_diffs = afternoon[afternoon.isna().sum(axis=1) < 5]\\\n",
    "    .diff(axis=0)\\\n",
    "    .apply(lambda c: c.dt.total_seconds(), axis=0)\n",
    "# total_seconds fucks up NA\n",
    "station_diffs[(station_diffs.abs() > 1e6)] = pd.NA"
   ],
   "metadata": {
    "collapsed": false,
    "pycharm": {
     "name": "#%%\n"
    }
   }
  },
  {
   "cell_type": "code",
   "execution_count": 50,
   "outputs": [
    {
     "data": {
      "text/plain": "2020-01-10        0.0\n2020-01-31     6559.0\n2020-02-14     6624.0\n2020-02-19     6717.0\n2020-02-13     6801.5\n2020-03-10     7225.5\n2020-01-28     7270.0\n2020-02-21     7397.5\n2020-02-03     7462.5\n2020-01-15     7689.0\n2020-03-12     7713.5\n2020-01-23     7898.0\n2020-01-30     7932.0\n2020-01-22     8112.0\n2020-02-24     8149.5\n2020-02-18     8152.0\n2020-02-06     8158.0\n2020-01-27     8217.0\n2020-01-16     8530.0\n2020-02-25     8617.0\n2020-02-28     8723.0\n2020-01-24     9246.0\n2020-01-29     9458.0\n2020-01-17     9567.0\n2020-03-03     9610.0\n2020-01-21     9757.5\n2020-02-12     9758.0\n2020-03-05     9789.5\n2020-02-27    10008.0\n2020-02-26    10122.0\n2020-01-20    10156.0\n2020-03-11    10226.5\n2020-03-16    10315.0\n2020-03-13    10428.0\n2020-02-04    10532.0\n2020-03-09    11185.0\n2020-02-11    11434.5\n2020-03-04    12327.0\n2020-03-02    12794.0\n2020-02-05    14787.5\n2020-01-13        NaN\n2020-01-14        NaN\n2020-02-07        NaN\n2020-02-10        NaN\n2020-02-17        NaN\n2020-02-20        NaN\n2020-03-06        NaN\ndtype: float64"
     },
     "execution_count": 50,
     "metadata": {},
     "output_type": "execute_result"
    }
   ],
   "source": [
    "station_diffs.interpolate(axis=1).sum(axis=1).resample('B').min().sort_values()"
   ],
   "metadata": {
    "collapsed": false,
    "pycharm": {
     "name": "#%%\n"
    }
   }
  }
 ],
 "metadata": {
  "kernelspec": {
   "display_name": "Python 3",
   "language": "python",
   "name": "python3"
  },
  "language_info": {
   "codemirror_mode": {
    "name": "ipython",
    "version": 2
   },
   "file_extension": ".py",
   "mimetype": "text/x-python",
   "name": "python",
   "nbconvert_exporter": "python",
   "pygments_lexer": "ipython2",
   "version": "2.7.6"
  }
 },
 "nbformat": 4,
 "nbformat_minor": 0
}