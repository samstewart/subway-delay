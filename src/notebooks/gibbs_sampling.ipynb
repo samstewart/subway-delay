{
 "cells": [
  {
   "cell_type": "code",
   "execution_count": 227,
   "outputs": [],
   "source": [
    "import numpy as np\n",
    "import pandas as pd\n",
    "\n",
    "import plotly.express as px\n",
    "pd.options.plotting.backend = \"plotly\"\n",
    "from scipy.stats import binom,beta"
   ],
   "metadata": {
    "collapsed": false,
    "pycharm": {
     "name": "#%%\n"
    }
   }
  },
  {
   "cell_type": "code",
   "execution_count": 289,
   "metadata": {
    "collapsed": true
   },
   "outputs": [],
   "source": [
    "# generate the data\n",
    "true_classes = np.array([.3, 1 - .3])\n",
    "true_p = np.array([.1, .75])\n",
    "m = 10\n",
    "n = 2000\n",
    "h = np.random.binomial(np.tile(m, 2), true_p, (n, 2))\n",
    "# then we select one of the two rows based on\n",
    "# a weighted coin toss\n",
    "H = h[np.arange(n), ~np.random.choice(2, size=n, p=true_classes)]"
   ]
  },
  {
   "cell_type": "code",
   "execution_count": 240,
   "outputs": [
    {
     "data": {
      "text/plain": "(3,)"
     },
     "execution_count": 240,
     "metadata": {},
     "output_type": "execute_result"
    }
   ],
   "source": [],
   "metadata": {
    "collapsed": false,
    "pycharm": {
     "name": "#%%\n"
    }
   }
  },
  {
   "cell_type": "code",
   "execution_count": 290,
   "outputs": [
    {
     "name": "stdout",
     "output_type": "stream",
     "text": [
      "p: [0.71 0.1 ] \n",
      "theta: 0.33\n"
     ]
    }
   ],
   "source": [
    "# samples\n",
    "K = 400\n",
    "cur_theta = np.empty(K)\n",
    "cur_theta[0] = .5\n",
    "cur_x = np.empty((K, n))\n",
    "cur_x[0] = np.random.binomial(1, cur_theta[0], n)\n",
    "cur_p = np.empty((K, 2))\n",
    "cur_p[0] = np.array([.5, .5])\n",
    "# draw from hidden state using\n",
    "# current params and observed data\n",
    "# P(X | H, \\theta, p)\n",
    "theta_pp = np.empty((K, 2))\n",
    "theta_pp[0] = np.array([1,1])\n",
    "p_pp = np.empty((K, 2, 2))\n",
    "p_pp[0] = np.ones((2,2))\n",
    "for i in range(1, K):\n",
    "    success_probs = cur_theta[i-1] * binom.pmf(H,m,cur_p[i-1, 0])\n",
    "    normalization = (success_probs + (1 - cur_theta[i - 1]) * binom.pmf(H, m, cur_p[i - 1, 1]))\n",
    "    success_probs = success_probs / normalization\n",
    "    cur_x[i] = np.random.binomial(np.ones(n, dtype=np.int8), success_probs)\n",
    "\n",
    "    # compute conditional prob by exploiting\n",
    "    # conjugate priors\n",
    "    theta_pp[i] = theta_pp[i - 1] + np.array([cur_x[i].sum(), n - cur_x[i].sum()])\n",
    "    cur_theta[i] = np.random.beta(*theta_pp[i])\n",
    "\n",
    "    p_pp[i] = p_pp[i - 1] + np.array([[cur_x[i] @ H, cur_x[i]@(m - H)],\n",
    "                      [(1 - cur_x[i])@H, (1 - cur_x[i])@(m - H)]])\n",
    "    cur_p[i] = np.random.beta(p_pp[i, :, 0], p_pp[i, :, 1])\n",
    "    # seems strange that when cur_p = [.5 .5] that\n",
    "    # p_pp does not give 50% estimates?\n",
    "    # to see the beliefs converge, do we need to resample H too?\n",
    "#    print(f'delta: {((cur_theta[i] - cur_theta[i - 1])**2).round(decimals=4)}')\n",
    "print(f'p: {cur_p.mean(axis=0).round(decimals=2)} \\ntheta: {cur_theta.mean().round(decimals=2)}')"
   ],
   "metadata": {
    "collapsed": false,
    "pycharm": {
     "name": "#%%\n"
    }
   }
  }
 ],
 "metadata": {
  "kernelspec": {
   "display_name": "Python 3",
   "language": "python",
   "name": "python3"
  },
  "language_info": {
   "codemirror_mode": {
    "name": "ipython",
    "version": 2
   },
   "file_extension": ".py",
   "mimetype": "text/x-python",
   "name": "python",
   "nbconvert_exporter": "python",
   "pygments_lexer": "ipython2",
   "version": "2.7.6"
  }
 },
 "nbformat": 4,
 "nbformat_minor": 0
}