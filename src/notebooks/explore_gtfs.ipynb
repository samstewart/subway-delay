{
 "cells": [
  {
   "cell_type": "code",
   "execution_count": 19,
   "metadata": {
    "collapsed": true
   },
   "outputs": [],
   "source": [
    "import pandas as pd\n",
    "import datetime\n",
    "import sys\n",
    "from google.protobuf.json_format import MessageToJson\n",
    "import auto_generated.gtfs_realtime_pb2, auto_generated.nyct_subway_pb2\n",
    "import json\n",
    "import pymongo\n",
    "import requests"
   ]
  },
  {
   "cell_type": "code",
   "execution_count": 97,
   "outputs": [],
   "source": [
    "#\tclient = pymongo.MongoClient(\n",
    "#\t       \"mongodb://localhost:27017/gtfs?retryWrites=true&w=majority\")\n",
    "#\tdb = client.gtfs\n",
    "r = requests.get(f\"https://api-endpoint.mta.info/Dataservice/mtagtfsfeeds/nyct%2Fgtfs\",\n",
    "\t\t\t headers={\"x-api-key\": \"kDjAqBL0oj2xaVN9F4AdM4fFwgsSYfRY7D6BjYtx\"})\n",
    "gtfs_realtime = auto_generated.gtfs_realtime_pb2.FeedMessage()\n",
    "\n",
    "gtfs_realtime.ParseFromString(r.content)\n",
    "message_as_json = json.loads(MessageToJson(gtfs_realtime))\n",
    "\n",
    "\t\t# add the header info to each event\n",
    "#\t\tevents = message_as_json['entity']\n",
    "#\t\tfor e in events:\n",
    "#\t\t\tif 'vehicle' in e:\n",
    "#\t\t\t\te['header'] = message_as_json['header'].copy()\n",
    "#\t\t\t\tdb.events.insert(e)"
   ],
   "metadata": {
    "collapsed": false,
    "pycharm": {
     "name": "#%%\n"
    }
   }
  },
  {
   "cell_type": "code",
   "execution_count": 31,
   "outputs": [
    {
     "data": {
      "text/plain": "stop_id\n101     Van Cortlandt Park - 242 St\n101N    Van Cortlandt Park - 242 St\n101S    Van Cortlandt Park - 242 St\n103                          238 St\n103N                         238 St\n                   ...             \nS30N                  Tompkinsville\nS30S                  Tompkinsville\nS31                       St George\nS31N                      St George\nS31S                      St George\nName: stop_name, Length: 1503, dtype: object"
     },
     "execution_count": 31,
     "metadata": {},
     "output_type": "execute_result"
    }
   ],
   "source": [
    "names = pd.read_csv('../../static data/stops.txt', index_col='stop_id')['stop_name']\n",
    "names"
   ],
   "metadata": {
    "collapsed": false,
    "pycharm": {
     "name": "#%%\n"
    }
   }
  },
  {
   "cell_type": "code",
   "execution_count": 33,
   "outputs": [
    {
     "data": {
      "text/plain": "'137 St - City College'"
     },
     "execution_count": 33,
     "metadata": {},
     "output_type": "execute_result"
    }
   ],
   "source": [
    "names['115N']"
   ],
   "metadata": {
    "collapsed": false,
    "pycharm": {
     "name": "#%%\n"
    }
   }
  },
  {
   "cell_type": "code",
   "execution_count": 41,
   "outputs": [],
   "source": [],
   "metadata": {
    "collapsed": false,
    "pycharm": {
     "name": "#%%\n"
    }
   }
  },
  {
   "cell_type": "code",
   "execution_count": 98,
   "outputs": [],
   "source": [
    "parsed = [{'stop_time': m['arrival']['time'] if 'arrival' in m else m['departure']['time'],\n",
    "   'stop_id': m['stopId'],\n",
    "  'origin_time': pd.to_datetime(\n",
    "      d['tripUpdate']['trip']['startDate'] + ' ' + d['tripUpdate']['trip']['[nyctTripDescriptor]']['trainId'].split()[1].strip(' ').strip('+')\n",
    "  ) }\\\n",
    " for d in message_as_json['entity'] if 'tripUpdate' in d\\\n",
    " and 'SFT/242' in d['tripUpdate']['trip']['[nyctTripDescriptor]']['trainId']\\\n",
    "  and len(d['tripUpdate']['stopTimeUpdate']) > 14\\\n",
    " for m in d['tripUpdate']['stopTimeUpdate']]\n",
    "df = pd.DataFrame.from_records(parsed).join(names,on='stop_id').set_index('origin_time')\n",
    "# from utc to NYC time. lazy should use timezones?\n",
    "df['stop_time'] = pd.to_datetime(df['stop_time'], unit='s') - pd.Timedelta(hours=4)"
   ],
   "metadata": {
    "collapsed": false,
    "pycharm": {
     "name": "#%%\n"
    }
   }
  },
  {
   "cell_type": "code",
   "execution_count": 102,
   "outputs": [],
   "source": [
    "df.loc['2020-08-05 12:33:00'].to_csv('run2.csv')"
   ],
   "metadata": {
    "collapsed": false,
    "pycharm": {
     "name": "#%%\n"
    }
   }
  },
  {
   "cell_type": "code",
   "execution_count": 52,
   "outputs": [
    {
     "data": {
      "text/plain": "Timestamp('2020-08-05 12:01:00')"
     },
     "execution_count": 52,
     "metadata": {},
     "output_type": "execute_result"
    }
   ],
   "source": [
    "pd.to_datetime('20200805 12:01')"
   ],
   "metadata": {
    "collapsed": false,
    "pycharm": {
     "name": "#%%\n"
    }
   }
  },
  {
   "cell_type": "code",
   "execution_count": 114,
   "outputs": [
    {
     "data": {
      "text/plain": "0    2020-08-05 11:34:30\n1    2020-08-05 11:37:00\n2    2020-08-05 11:38:00\n3    2020-08-05 11:39:00\n4    2020-08-05 11:40:00\n5    2020-08-05 11:41:00\n6    2020-08-05 11:43:00\n7    2020-08-05 11:44:30\n8    2020-08-05 11:46:00\n9    2020-08-05 11:47:00\n10   2020-08-05 11:48:00\n11   2020-08-05 11:49:00\n12   2020-08-05 11:50:00\n13   2020-08-05 11:51:30\n14   2020-08-05 11:53:30\n15   2020-08-05 11:55:30\n16   2020-08-05 11:57:00\n17   2020-08-05 11:58:00\n18   2020-08-05 12:00:00\n19   2020-08-05 12:01:00\n20   2020-08-05 12:03:00\n21   2020-08-05 12:04:30\n22   2020-08-05 12:06:00\n23   2020-08-05 12:07:00\n24   2020-08-05 12:09:30\n25   2020-08-05 12:11:30\n26   2020-08-05 12:13:00\n27   2020-08-05 12:15:00\n28   2020-08-05 12:16:30\n29   2020-08-05 12:18:30\n30   2020-08-05 12:20:00\n31   2020-08-05 12:21:00\n32   2020-08-05 12:22:30\n33   2020-08-05 12:24:00\n34   2020-08-05 12:25:30\n35   2020-08-05 12:27:00\n36   2020-08-05 12:28:30\n37   2020-08-05 12:32:30\nName: stop_time, dtype: datetime64[ns]"
     },
     "execution_count": 114,
     "metadata": {},
     "output_type": "execute_result"
    }
   ],
   "source": [
    "run1 = pd.read_csv('run1.csv', parse_dates=['stop_time'])\n",
    "run2 = pd.read_csv('run2.csv', parse_dates=['stop_time'])\n",
    "run1['stop_time']"
   ],
   "metadata": {
    "collapsed": false,
    "pycharm": {
     "name": "#%%\n"
    }
   }
  },
  {
   "cell_type": "code",
   "execution_count": 115,
   "outputs": [
    {
     "data": {
      "text/plain": "   stop_time stop_time\n0        NaT       NaT\n1   00:02:30  00:02:30\n2   00:01:00  00:01:00\n3   00:01:00  00:01:00\n4   00:01:00  00:01:00\n5   00:01:00  00:01:00\n6   00:02:00  00:02:00\n7   00:01:30  00:01:30\n8   00:01:30  00:01:30\n9   00:01:00  00:01:00\n10  00:01:00  00:01:00\n11  00:01:00  00:01:00\n12  00:01:00  00:01:00\n13  00:01:30  00:01:30\n14  00:02:00  00:02:00\n15  00:02:00  00:02:00\n16  00:01:30  00:01:30\n17  00:01:00  00:01:00\n18  00:02:00  00:02:00\n19  00:01:00  00:01:00\n20  00:02:00  00:02:00\n21  00:01:30  00:01:30\n22  00:01:30  00:01:30\n23  00:01:00  00:01:00\n24  00:02:30  00:02:30\n25  00:02:00  00:02:00\n26  00:01:30  00:01:30\n27  00:02:00  00:02:00\n28  00:01:30  00:01:30\n29  00:02:00  00:02:00\n30  00:01:30  00:01:30\n31  00:01:00  00:01:00\n32  00:01:30  00:01:30\n33  00:01:30  00:01:30\n34  00:01:30  00:01:30\n35  00:01:30  00:01:30\n36  00:01:30  00:01:30\n37  00:04:00  00:04:00",
      "text/html": "<div>\n<style scoped>\n    .dataframe tbody tr th:only-of-type {\n        vertical-align: middle;\n    }\n\n    .dataframe tbody tr th {\n        vertical-align: top;\n    }\n\n    .dataframe thead th {\n        text-align: right;\n    }\n</style>\n<table border=\"1\" class=\"dataframe\">\n  <thead>\n    <tr style=\"text-align: right;\">\n      <th></th>\n      <th>stop_time</th>\n      <th>stop_time</th>\n    </tr>\n  </thead>\n  <tbody>\n    <tr>\n      <th>0</th>\n      <td>NaT</td>\n      <td>NaT</td>\n    </tr>\n    <tr>\n      <th>1</th>\n      <td>00:02:30</td>\n      <td>00:02:30</td>\n    </tr>\n    <tr>\n      <th>2</th>\n      <td>00:01:00</td>\n      <td>00:01:00</td>\n    </tr>\n    <tr>\n      <th>3</th>\n      <td>00:01:00</td>\n      <td>00:01:00</td>\n    </tr>\n    <tr>\n      <th>4</th>\n      <td>00:01:00</td>\n      <td>00:01:00</td>\n    </tr>\n    <tr>\n      <th>5</th>\n      <td>00:01:00</td>\n      <td>00:01:00</td>\n    </tr>\n    <tr>\n      <th>6</th>\n      <td>00:02:00</td>\n      <td>00:02:00</td>\n    </tr>\n    <tr>\n      <th>7</th>\n      <td>00:01:30</td>\n      <td>00:01:30</td>\n    </tr>\n    <tr>\n      <th>8</th>\n      <td>00:01:30</td>\n      <td>00:01:30</td>\n    </tr>\n    <tr>\n      <th>9</th>\n      <td>00:01:00</td>\n      <td>00:01:00</td>\n    </tr>\n    <tr>\n      <th>10</th>\n      <td>00:01:00</td>\n      <td>00:01:00</td>\n    </tr>\n    <tr>\n      <th>11</th>\n      <td>00:01:00</td>\n      <td>00:01:00</td>\n    </tr>\n    <tr>\n      <th>12</th>\n      <td>00:01:00</td>\n      <td>00:01:00</td>\n    </tr>\n    <tr>\n      <th>13</th>\n      <td>00:01:30</td>\n      <td>00:01:30</td>\n    </tr>\n    <tr>\n      <th>14</th>\n      <td>00:02:00</td>\n      <td>00:02:00</td>\n    </tr>\n    <tr>\n      <th>15</th>\n      <td>00:02:00</td>\n      <td>00:02:00</td>\n    </tr>\n    <tr>\n      <th>16</th>\n      <td>00:01:30</td>\n      <td>00:01:30</td>\n    </tr>\n    <tr>\n      <th>17</th>\n      <td>00:01:00</td>\n      <td>00:01:00</td>\n    </tr>\n    <tr>\n      <th>18</th>\n      <td>00:02:00</td>\n      <td>00:02:00</td>\n    </tr>\n    <tr>\n      <th>19</th>\n      <td>00:01:00</td>\n      <td>00:01:00</td>\n    </tr>\n    <tr>\n      <th>20</th>\n      <td>00:02:00</td>\n      <td>00:02:00</td>\n    </tr>\n    <tr>\n      <th>21</th>\n      <td>00:01:30</td>\n      <td>00:01:30</td>\n    </tr>\n    <tr>\n      <th>22</th>\n      <td>00:01:30</td>\n      <td>00:01:30</td>\n    </tr>\n    <tr>\n      <th>23</th>\n      <td>00:01:00</td>\n      <td>00:01:00</td>\n    </tr>\n    <tr>\n      <th>24</th>\n      <td>00:02:30</td>\n      <td>00:02:30</td>\n    </tr>\n    <tr>\n      <th>25</th>\n      <td>00:02:00</td>\n      <td>00:02:00</td>\n    </tr>\n    <tr>\n      <th>26</th>\n      <td>00:01:30</td>\n      <td>00:01:30</td>\n    </tr>\n    <tr>\n      <th>27</th>\n      <td>00:02:00</td>\n      <td>00:02:00</td>\n    </tr>\n    <tr>\n      <th>28</th>\n      <td>00:01:30</td>\n      <td>00:01:30</td>\n    </tr>\n    <tr>\n      <th>29</th>\n      <td>00:02:00</td>\n      <td>00:02:00</td>\n    </tr>\n    <tr>\n      <th>30</th>\n      <td>00:01:30</td>\n      <td>00:01:30</td>\n    </tr>\n    <tr>\n      <th>31</th>\n      <td>00:01:00</td>\n      <td>00:01:00</td>\n    </tr>\n    <tr>\n      <th>32</th>\n      <td>00:01:30</td>\n      <td>00:01:30</td>\n    </tr>\n    <tr>\n      <th>33</th>\n      <td>00:01:30</td>\n      <td>00:01:30</td>\n    </tr>\n    <tr>\n      <th>34</th>\n      <td>00:01:30</td>\n      <td>00:01:30</td>\n    </tr>\n    <tr>\n      <th>35</th>\n      <td>00:01:30</td>\n      <td>00:01:30</td>\n    </tr>\n    <tr>\n      <th>36</th>\n      <td>00:01:30</td>\n      <td>00:01:30</td>\n    </tr>\n    <tr>\n      <th>37</th>\n      <td>00:04:00</td>\n      <td>00:04:00</td>\n    </tr>\n  </tbody>\n</table>\n</div>"
     },
     "execution_count": 115,
     "metadata": {},
     "output_type": "execute_result"
    }
   ],
   "source": [
    "# success! we only need one of these scheduled routes.\n",
    "pd.concat([run1['stop_time'], run2['stop_time']], axis=1).diff()"
   ],
   "metadata": {
    "collapsed": false,
    "pycharm": {
     "name": "#%%\n"
    }
   }
  }
 ],
 "metadata": {
  "kernelspec": {
   "display_name": "Python 3",
   "language": "python",
   "name": "python3"
  },
  "language_info": {
   "codemirror_mode": {
    "name": "ipython",
    "version": 2
   },
   "file_extension": ".py",
   "mimetype": "text/x-python",
   "name": "python",
   "nbconvert_exporter": "python",
   "pygments_lexer": "ipython2",
   "version": "2.7.6"
  }
 },
 "nbformat": 4,
 "nbformat_minor": 0
}