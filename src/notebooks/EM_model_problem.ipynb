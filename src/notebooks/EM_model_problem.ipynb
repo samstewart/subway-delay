{
 "cells": [
  {
   "cell_type": "code",
   "execution_count": 5,
   "metadata": {
    "collapsed": true
   },
   "outputs": [],
   "source": [
    "import numpy as np\n",
    "import pandas as pd\n",
    "\n",
    "pd.options.plotting.backend = \"plotly\"\n",
    "from scipy.stats import binom"
   ]
  },
  {
   "cell_type": "code",
   "execution_count": 306,
   "outputs": [
    {
     "data": {
      "text/plain": "array([[0, 1, 2],\n       [3, 4, 5]])"
     },
     "execution_count": 306,
     "metadata": {},
     "output_type": "execute_result"
    }
   ],
   "source": [
    "t = np.arange(6).reshape(2,3)\n",
    "indices = np.random.randint(0, 2, 3)\n",
    "t"
   ],
   "metadata": {
    "collapsed": false,
    "pycharm": {
     "name": "#%%\n"
    }
   }
  },
  {
   "cell_type": "code",
   "execution_count": 307,
   "outputs": [
    {
     "data": {
      "text/plain": "array([1, 1, 0])"
     },
     "execution_count": 307,
     "metadata": {},
     "output_type": "execute_result"
    }
   ],
   "source": [
    "indices"
   ],
   "metadata": {
    "collapsed": false,
    "pycharm": {
     "name": "#%%\n"
    }
   }
  },
  {
   "cell_type": "code",
   "execution_count": 308,
   "outputs": [
    {
     "data": {
      "text/plain": "array([3, 4, 2])"
     },
     "execution_count": 308,
     "metadata": {},
     "output_type": "execute_result"
    }
   ],
   "source": [
    "t[indices, np.arange(3)]"
   ],
   "metadata": {
    "collapsed": false,
    "pycharm": {
     "name": "#%%\n"
    }
   }
  },
  {
   "cell_type": "code",
   "execution_count": 92,
   "outputs": [],
   "source": [
    "# ideas:\n",
    "# give prior on p\n",
    "# use MCMC to sample from posterior of hidden variable\n",
    "# expand to arbitrary number of classes\n",
    "# solve mixed gaussian in 1d\n",
    "# solve mixed gaussian in 2d\n",
    "# infer probabilities of markov model\n",
    "# how is EM connected to inferring missing probs\n",
    "# in graphical model? I guess HMM training should be special case of this?"
   ],
   "metadata": {
    "collapsed": false,
    "pycharm": {
     "name": "#%%\n"
    }
   }
  },
  {
   "cell_type": "code",
   "execution_count": 315,
   "outputs": [
    {
     "data": {
      "text/plain": "array([False, False, False, False, False, False, False, False, False,\n       False, False, False, False, False, False, False, False, False,\n       False, False, False, False, False, False, False, False, False,\n       False, False, False, False, False, False, False, False, False,\n       False, False, False, False, False, False, False, False, False,\n       False, False, False, False, False, False, False, False, False,\n       False, False, False, False, False, False, False, False, False,\n       False, False, False, False, False, False, False, False, False,\n       False, False, False, False, False, False, False, False, False,\n       False, False, False, False, False, False, False, False, False,\n       False, False, False, False, False, False, False, False, False,\n       False, False, False, False, False, False, False, False, False,\n       False, False, False, False, False, False, False, False, False,\n       False, False, False, False, False, False, False, False, False,\n       False, False, False, False, False, False, False, False, False,\n       False, False, False, False, False, False, False, False, False,\n       False, False, False, False, False, False, False, False, False,\n       False, False, False, False, False, False, False, False, False,\n       False, False, False, False, False, False, False, False, False,\n       False, False, False, False, False, False, False, False, False,\n       False, False, False, False, False, False, False, False, False,\n       False, False, False, False, False, False, False, False, False,\n       False, False, False, False, False, False, False, False, False,\n       False, False, False, False, False, False, False, False, False,\n       False, False, False, False, False, False, False, False, False,\n       False, False, False, False, False, False, False, False, False,\n       False, False, False, False, False, False, False, False, False,\n       False, False, False, False, False, False, False, False, False,\n       False, False, False, False, False, False, False, False, False,\n       False, False, False, False, False, False, False, False, False,\n       False, False, False, False, False, False, False, False, False,\n       False, False, False, False, False, False, False, False, False,\n       False, False, False, False, False, False, False, False, False,\n       False, False, False])"
     },
     "execution_count": 315,
     "metadata": {},
     "output_type": "execute_result"
    }
   ],
   "source": [
    "np.random.choice(2, 300) > 1"
   ],
   "metadata": {
    "collapsed": false,
    "pycharm": {
     "name": "#%%\n"
    }
   }
  },
  {
   "cell_type": "code",
   "execution_count": 322,
   "outputs": [],
   "source": [
    "true_classes = np.array([.3, 1 - .3])\n",
    "true_p = np.array([.1, .75])\n",
    "m = 10\n",
    "n = 1000\n",
    "h = np.random.binomial(np.tile(m, 2), true_p, (n, 2))\n",
    "# then we select one of the two rows based on\n",
    "# a weighted coin toss\n",
    "d = h[np.arange(n), np.random.choice(2, size=n, p=true_classes)]"
   ],
   "metadata": {
    "collapsed": false,
    "pycharm": {
     "name": "#%%\n"
    }
   }
  },
  {
   "cell_type": "code",
   "execution_count": null,
   "outputs": [],
   "source": [
    "# should be an easier way to generate samples?\n",
    "print(f'true p: {true_p} \\ntheta: {true_classes}')\n",
    "# initial guesses for observable params\n",
    "cur_p = np.array([.3, .6])\n",
    "# initial guess for hidden param theta\n",
    "cur_classes = np.array([.1, 1 - .1])\n",
    "for i in range(30):\n",
    "    print(f'p: {cur_p.round(decimals=2)} \\ntheta: {cur_classes.round(decimals=2)}')\n",
    "    # expectation step, compute the weights\n",
    "    # and from the weights, compute the hidden parameters\n",
    "    joint = (cur_classes * binom.pmf(np.tile(d, (2, 1)).transpose(), m, cur_p))\n",
    "    cond_weights = joint.transpose() / joint.sum(axis=1)\n",
    "    normalized_weights = (cond_weights.transpose() / cond_weights.sum(axis=1)).transpose()\n",
    "    cur_classes = cond_weights.sum(axis=1)/n\n",
    "    # now the probabilities\n",
    "    cur_p = (normalized_weights @ d)/m"
   ],
   "metadata": {
    "collapsed": false,
    "pycharm": {
     "name": "#%%\n"
    }
   }
  },
  {
   "cell_type": "code",
   "execution_count": null,
   "outputs": [],
   "source": [
    "# how does moment generating function allow one to recover PDF?\n",
    "# sum of binomials are not binomials.\n",
    "# are normal dist only thing that are also normal under affine\n",
    "# transformations? what is this property called? This shows up in cosma shalizi notes"
   ],
   "metadata": {
    "collapsed": false,
    "pycharm": {
     "name": "#%%\n"
    }
   }
  }
 ],
 "metadata": {
  "kernelspec": {
   "display_name": "Python 3",
   "language": "python",
   "name": "python3"
  },
  "language_info": {
   "codemirror_mode": {
    "name": "ipython",
    "version": 2
   },
   "file_extension": ".py",
   "mimetype": "text/x-python",
   "name": "python",
   "nbconvert_exporter": "python",
   "pygments_lexer": "ipython2",
   "version": "2.7.6"
  }
 },
 "nbformat": 4,
 "nbformat_minor": 0
}