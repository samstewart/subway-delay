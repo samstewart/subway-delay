{
 "cells": [
  {
   "cell_type": "code",
   "execution_count": 290,
   "metadata": {
    "collapsed": true
   },
   "outputs": [
    {
     "ename": "ValueError",
     "evalue": "ctypes objects containing pointers cannot be pickled",
     "output_type": "error",
     "traceback": [
      "\u001B[1;31m---------------------------------------------------------------------------\u001B[0m",
      "\u001B[1;31mValueError\u001B[0m                                Traceback (most recent call last)",
      "\u001B[1;32m<ipython-input-290-0db381373199>\u001B[0m in \u001B[0;36m<module>\u001B[1;34m\u001B[0m\n\u001B[0;32m      1\u001B[0m \u001B[1;32mimport\u001B[0m \u001B[0mpandas\u001B[0m \u001B[1;32mas\u001B[0m \u001B[0mpd\u001B[0m\u001B[1;33m\u001B[0m\u001B[1;33m\u001B[0m\u001B[0m\n\u001B[0;32m      2\u001B[0m \u001B[1;32mimport\u001B[0m \u001B[0mdill\u001B[0m\u001B[1;33m\u001B[0m\u001B[1;33m\u001B[0m\u001B[0m\n\u001B[1;32m----> 3\u001B[1;33m \u001B[0mdill\u001B[0m\u001B[1;33m.\u001B[0m\u001B[0mdump_session\u001B[0m\u001B[1;33m(\u001B[0m\u001B[1;34m'compare_delays.db'\u001B[0m\u001B[1;33m)\u001B[0m\u001B[1;33m\u001B[0m\u001B[1;33m\u001B[0m\u001B[0m\n\u001B[0m",
      "\u001B[1;32mc:\\users\\stewarsa\\pycharmprojects\\subway-delay\\venv\\lib\\site-packages\\dill\\_dill.py\u001B[0m in \u001B[0;36mdump_session\u001B[1;34m(filename, main, byref, **kwds)\u001B[0m\n\u001B[0;32m    349\u001B[0m         \u001B[0mpickler\u001B[0m\u001B[1;33m.\u001B[0m\u001B[0m_recurse\u001B[0m \u001B[1;33m=\u001B[0m \u001B[1;32mFalse\u001B[0m \u001B[1;31m# disable pickling recursion for globals\u001B[0m\u001B[1;33m\u001B[0m\u001B[1;33m\u001B[0m\u001B[0m\n\u001B[0;32m    350\u001B[0m         \u001B[0mpickler\u001B[0m\u001B[1;33m.\u001B[0m\u001B[0m_session\u001B[0m \u001B[1;33m=\u001B[0m \u001B[1;32mTrue\u001B[0m  \u001B[1;31m# is best indicator of when pickling a session\u001B[0m\u001B[1;33m\u001B[0m\u001B[1;33m\u001B[0m\u001B[0m\n\u001B[1;32m--> 351\u001B[1;33m         \u001B[0mpickler\u001B[0m\u001B[1;33m.\u001B[0m\u001B[0mdump\u001B[0m\u001B[1;33m(\u001B[0m\u001B[0mmain\u001B[0m\u001B[1;33m)\u001B[0m\u001B[1;33m\u001B[0m\u001B[1;33m\u001B[0m\u001B[0m\n\u001B[0m\u001B[0;32m    352\u001B[0m     \u001B[1;32mfinally\u001B[0m\u001B[1;33m:\u001B[0m\u001B[1;33m\u001B[0m\u001B[1;33m\u001B[0m\u001B[0m\n\u001B[0;32m    353\u001B[0m         \u001B[1;32mif\u001B[0m \u001B[0mf\u001B[0m \u001B[1;32mis\u001B[0m \u001B[1;32mnot\u001B[0m \u001B[0mfilename\u001B[0m\u001B[1;33m:\u001B[0m  \u001B[1;31m# If newly opened file\u001B[0m\u001B[1;33m\u001B[0m\u001B[1;33m\u001B[0m\u001B[0m\n",
      "\u001B[1;32mc:\\users\\stewarsa\\pycharmprojects\\subway-delay\\venv\\lib\\site-packages\\dill\\_dill.py\u001B[0m in \u001B[0;36mdump\u001B[1;34m(self, obj)\u001B[0m\n\u001B[0;32m    444\u001B[0m             \u001B[1;32mraise\u001B[0m \u001B[0mPicklingError\u001B[0m\u001B[1;33m(\u001B[0m\u001B[0mmsg\u001B[0m\u001B[1;33m)\u001B[0m\u001B[1;33m\u001B[0m\u001B[1;33m\u001B[0m\u001B[0m\n\u001B[0;32m    445\u001B[0m         \u001B[1;32melse\u001B[0m\u001B[1;33m:\u001B[0m\u001B[1;33m\u001B[0m\u001B[1;33m\u001B[0m\u001B[0m\n\u001B[1;32m--> 446\u001B[1;33m             \u001B[0mStockPickler\u001B[0m\u001B[1;33m.\u001B[0m\u001B[0mdump\u001B[0m\u001B[1;33m(\u001B[0m\u001B[0mself\u001B[0m\u001B[1;33m,\u001B[0m \u001B[0mobj\u001B[0m\u001B[1;33m)\u001B[0m\u001B[1;33m\u001B[0m\u001B[1;33m\u001B[0m\u001B[0m\n\u001B[0m\u001B[0;32m    447\u001B[0m         \u001B[0mstack\u001B[0m\u001B[1;33m.\u001B[0m\u001B[0mclear\u001B[0m\u001B[1;33m(\u001B[0m\u001B[1;33m)\u001B[0m  \u001B[1;31m# clear record of 'recursion-sensitive' pickled objects\u001B[0m\u001B[1;33m\u001B[0m\u001B[1;33m\u001B[0m\u001B[0m\n\u001B[0;32m    448\u001B[0m         \u001B[1;32mreturn\u001B[0m\u001B[1;33m\u001B[0m\u001B[1;33m\u001B[0m\u001B[0m\n",
      "\u001B[1;32mc:\\users\\stewarsa\\appdata\\local\\programs\\python\\python38-32\\lib\\pickle.py\u001B[0m in \u001B[0;36mdump\u001B[1;34m(self, obj)\u001B[0m\n\u001B[0;32m    483\u001B[0m         \u001B[1;32mif\u001B[0m \u001B[0mself\u001B[0m\u001B[1;33m.\u001B[0m\u001B[0mproto\u001B[0m \u001B[1;33m>=\u001B[0m \u001B[1;36m4\u001B[0m\u001B[1;33m:\u001B[0m\u001B[1;33m\u001B[0m\u001B[1;33m\u001B[0m\u001B[0m\n\u001B[0;32m    484\u001B[0m             \u001B[0mself\u001B[0m\u001B[1;33m.\u001B[0m\u001B[0mframer\u001B[0m\u001B[1;33m.\u001B[0m\u001B[0mstart_framing\u001B[0m\u001B[1;33m(\u001B[0m\u001B[1;33m)\u001B[0m\u001B[1;33m\u001B[0m\u001B[1;33m\u001B[0m\u001B[0m\n\u001B[1;32m--> 485\u001B[1;33m         \u001B[0mself\u001B[0m\u001B[1;33m.\u001B[0m\u001B[0msave\u001B[0m\u001B[1;33m(\u001B[0m\u001B[0mobj\u001B[0m\u001B[1;33m)\u001B[0m\u001B[1;33m\u001B[0m\u001B[1;33m\u001B[0m\u001B[0m\n\u001B[0m\u001B[0;32m    486\u001B[0m         \u001B[0mself\u001B[0m\u001B[1;33m.\u001B[0m\u001B[0mwrite\u001B[0m\u001B[1;33m(\u001B[0m\u001B[0mSTOP\u001B[0m\u001B[1;33m)\u001B[0m\u001B[1;33m\u001B[0m\u001B[1;33m\u001B[0m\u001B[0m\n\u001B[0;32m    487\u001B[0m         \u001B[0mself\u001B[0m\u001B[1;33m.\u001B[0m\u001B[0mframer\u001B[0m\u001B[1;33m.\u001B[0m\u001B[0mend_framing\u001B[0m\u001B[1;33m(\u001B[0m\u001B[1;33m)\u001B[0m\u001B[1;33m\u001B[0m\u001B[1;33m\u001B[0m\u001B[0m\n",
      "\u001B[1;32mc:\\users\\stewarsa\\appdata\\local\\programs\\python\\python38-32\\lib\\pickle.py\u001B[0m in \u001B[0;36msave\u001B[1;34m(self, obj, save_persistent_id)\u001B[0m\n\u001B[0;32m    556\u001B[0m             \u001B[0mf\u001B[0m \u001B[1;33m=\u001B[0m \u001B[0mself\u001B[0m\u001B[1;33m.\u001B[0m\u001B[0mdispatch\u001B[0m\u001B[1;33m.\u001B[0m\u001B[0mget\u001B[0m\u001B[1;33m(\u001B[0m\u001B[0mt\u001B[0m\u001B[1;33m)\u001B[0m\u001B[1;33m\u001B[0m\u001B[1;33m\u001B[0m\u001B[0m\n\u001B[0;32m    557\u001B[0m             \u001B[1;32mif\u001B[0m \u001B[0mf\u001B[0m \u001B[1;32mis\u001B[0m \u001B[1;32mnot\u001B[0m \u001B[1;32mNone\u001B[0m\u001B[1;33m:\u001B[0m\u001B[1;33m\u001B[0m\u001B[1;33m\u001B[0m\u001B[0m\n\u001B[1;32m--> 558\u001B[1;33m                 \u001B[0mf\u001B[0m\u001B[1;33m(\u001B[0m\u001B[0mself\u001B[0m\u001B[1;33m,\u001B[0m \u001B[0mobj\u001B[0m\u001B[1;33m)\u001B[0m  \u001B[1;31m# Call unbound method with explicit self\u001B[0m\u001B[1;33m\u001B[0m\u001B[1;33m\u001B[0m\u001B[0m\n\u001B[0m\u001B[0;32m    559\u001B[0m                 \u001B[1;32mreturn\u001B[0m\u001B[1;33m\u001B[0m\u001B[1;33m\u001B[0m\u001B[0m\n\u001B[0;32m    560\u001B[0m \u001B[1;33m\u001B[0m\u001B[0m\n",
      "\u001B[1;32mc:\\users\\stewarsa\\pycharmprojects\\subway-delay\\venv\\lib\\site-packages\\dill\\_dill.py\u001B[0m in \u001B[0;36msave_module\u001B[1;34m(pickler, obj)\u001B[0m\n\u001B[0;32m   1315\u001B[0m             [_main_dict.pop(item, None) for item in singletontypes\n\u001B[0;32m   1316\u001B[0m                 + [\"__builtins__\", \"__loader__\"]]\n\u001B[1;32m-> 1317\u001B[1;33m             pickler.save_reduce(_import_module, (obj.__name__,), obj=obj,\n\u001B[0m\u001B[0;32m   1318\u001B[0m                                 state=_main_dict)\n\u001B[0;32m   1319\u001B[0m             \u001B[0mlog\u001B[0m\u001B[1;33m.\u001B[0m\u001B[0minfo\u001B[0m\u001B[1;33m(\u001B[0m\u001B[1;34m\"# M1\"\u001B[0m\u001B[1;33m)\u001B[0m\u001B[1;33m\u001B[0m\u001B[1;33m\u001B[0m\u001B[0m\n",
      "\u001B[1;32mc:\\users\\stewarsa\\appdata\\local\\programs\\python\\python38-32\\lib\\pickle.py\u001B[0m in \u001B[0;36msave_reduce\u001B[1;34m(self, func, args, state, listitems, dictitems, state_setter, obj)\u001B[0m\n\u001B[0;32m    713\u001B[0m         \u001B[1;32mif\u001B[0m \u001B[0mstate\u001B[0m \u001B[1;32mis\u001B[0m \u001B[1;32mnot\u001B[0m \u001B[1;32mNone\u001B[0m\u001B[1;33m:\u001B[0m\u001B[1;33m\u001B[0m\u001B[1;33m\u001B[0m\u001B[0m\n\u001B[0;32m    714\u001B[0m             \u001B[1;32mif\u001B[0m \u001B[0mstate_setter\u001B[0m \u001B[1;32mis\u001B[0m \u001B[1;32mNone\u001B[0m\u001B[1;33m:\u001B[0m\u001B[1;33m\u001B[0m\u001B[1;33m\u001B[0m\u001B[0m\n\u001B[1;32m--> 715\u001B[1;33m                 \u001B[0msave\u001B[0m\u001B[1;33m(\u001B[0m\u001B[0mstate\u001B[0m\u001B[1;33m)\u001B[0m\u001B[1;33m\u001B[0m\u001B[1;33m\u001B[0m\u001B[0m\n\u001B[0m\u001B[0;32m    716\u001B[0m                 \u001B[0mwrite\u001B[0m\u001B[1;33m(\u001B[0m\u001B[0mBUILD\u001B[0m\u001B[1;33m)\u001B[0m\u001B[1;33m\u001B[0m\u001B[1;33m\u001B[0m\u001B[0m\n\u001B[0;32m    717\u001B[0m             \u001B[1;32melse\u001B[0m\u001B[1;33m:\u001B[0m\u001B[1;33m\u001B[0m\u001B[1;33m\u001B[0m\u001B[0m\n",
      "\u001B[1;32mc:\\users\\stewarsa\\appdata\\local\\programs\\python\\python38-32\\lib\\pickle.py\u001B[0m in \u001B[0;36msave\u001B[1;34m(self, obj, save_persistent_id)\u001B[0m\n\u001B[0;32m    556\u001B[0m             \u001B[0mf\u001B[0m \u001B[1;33m=\u001B[0m \u001B[0mself\u001B[0m\u001B[1;33m.\u001B[0m\u001B[0mdispatch\u001B[0m\u001B[1;33m.\u001B[0m\u001B[0mget\u001B[0m\u001B[1;33m(\u001B[0m\u001B[0mt\u001B[0m\u001B[1;33m)\u001B[0m\u001B[1;33m\u001B[0m\u001B[1;33m\u001B[0m\u001B[0m\n\u001B[0;32m    557\u001B[0m             \u001B[1;32mif\u001B[0m \u001B[0mf\u001B[0m \u001B[1;32mis\u001B[0m \u001B[1;32mnot\u001B[0m \u001B[1;32mNone\u001B[0m\u001B[1;33m:\u001B[0m\u001B[1;33m\u001B[0m\u001B[1;33m\u001B[0m\u001B[0m\n\u001B[1;32m--> 558\u001B[1;33m                 \u001B[0mf\u001B[0m\u001B[1;33m(\u001B[0m\u001B[0mself\u001B[0m\u001B[1;33m,\u001B[0m \u001B[0mobj\u001B[0m\u001B[1;33m)\u001B[0m  \u001B[1;31m# Call unbound method with explicit self\u001B[0m\u001B[1;33m\u001B[0m\u001B[1;33m\u001B[0m\u001B[0m\n\u001B[0m\u001B[0;32m    559\u001B[0m                 \u001B[1;32mreturn\u001B[0m\u001B[1;33m\u001B[0m\u001B[1;33m\u001B[0m\u001B[0m\n\u001B[0;32m    560\u001B[0m \u001B[1;33m\u001B[0m\u001B[0m\n",
      "\u001B[1;32mc:\\users\\stewarsa\\pycharmprojects\\subway-delay\\venv\\lib\\site-packages\\dill\\_dill.py\u001B[0m in \u001B[0;36msave_module_dict\u001B[1;34m(pickler, obj)\u001B[0m\n\u001B[0;32m    931\u001B[0m             \u001B[1;31m# we only care about session the first pass thru\u001B[0m\u001B[1;33m\u001B[0m\u001B[1;33m\u001B[0m\u001B[1;33m\u001B[0m\u001B[0m\n\u001B[0;32m    932\u001B[0m             \u001B[0mpickler\u001B[0m\u001B[1;33m.\u001B[0m\u001B[0m_session\u001B[0m \u001B[1;33m=\u001B[0m \u001B[1;32mFalse\u001B[0m\u001B[1;33m\u001B[0m\u001B[1;33m\u001B[0m\u001B[0m\n\u001B[1;32m--> 933\u001B[1;33m         \u001B[0mStockPickler\u001B[0m\u001B[1;33m.\u001B[0m\u001B[0msave_dict\u001B[0m\u001B[1;33m(\u001B[0m\u001B[0mpickler\u001B[0m\u001B[1;33m,\u001B[0m \u001B[0mobj\u001B[0m\u001B[1;33m)\u001B[0m\u001B[1;33m\u001B[0m\u001B[1;33m\u001B[0m\u001B[0m\n\u001B[0m\u001B[0;32m    934\u001B[0m         \u001B[0mlog\u001B[0m\u001B[1;33m.\u001B[0m\u001B[0minfo\u001B[0m\u001B[1;33m(\u001B[0m\u001B[1;34m\"# D2\"\u001B[0m\u001B[1;33m)\u001B[0m\u001B[1;33m\u001B[0m\u001B[1;33m\u001B[0m\u001B[0m\n\u001B[0;32m    935\u001B[0m     \u001B[1;32mreturn\u001B[0m\u001B[1;33m\u001B[0m\u001B[1;33m\u001B[0m\u001B[0m\n",
      "\u001B[1;32mc:\\users\\stewarsa\\appdata\\local\\programs\\python\\python38-32\\lib\\pickle.py\u001B[0m in \u001B[0;36msave_dict\u001B[1;34m(self, obj)\u001B[0m\n\u001B[0;32m    967\u001B[0m \u001B[1;33m\u001B[0m\u001B[0m\n\u001B[0;32m    968\u001B[0m         \u001B[0mself\u001B[0m\u001B[1;33m.\u001B[0m\u001B[0mmemoize\u001B[0m\u001B[1;33m(\u001B[0m\u001B[0mobj\u001B[0m\u001B[1;33m)\u001B[0m\u001B[1;33m\u001B[0m\u001B[1;33m\u001B[0m\u001B[0m\n\u001B[1;32m--> 969\u001B[1;33m         \u001B[0mself\u001B[0m\u001B[1;33m.\u001B[0m\u001B[0m_batch_setitems\u001B[0m\u001B[1;33m(\u001B[0m\u001B[0mobj\u001B[0m\u001B[1;33m.\u001B[0m\u001B[0mitems\u001B[0m\u001B[1;33m(\u001B[0m\u001B[1;33m)\u001B[0m\u001B[1;33m)\u001B[0m\u001B[1;33m\u001B[0m\u001B[1;33m\u001B[0m\u001B[0m\n\u001B[0m\u001B[0;32m    970\u001B[0m \u001B[1;33m\u001B[0m\u001B[0m\n\u001B[0;32m    971\u001B[0m     \u001B[0mdispatch\u001B[0m\u001B[1;33m[\u001B[0m\u001B[0mdict\u001B[0m\u001B[1;33m]\u001B[0m \u001B[1;33m=\u001B[0m \u001B[0msave_dict\u001B[0m\u001B[1;33m\u001B[0m\u001B[1;33m\u001B[0m\u001B[0m\n",
      "\u001B[1;32mc:\\users\\stewarsa\\appdata\\local\\programs\\python\\python38-32\\lib\\pickle.py\u001B[0m in \u001B[0;36m_batch_setitems\u001B[1;34m(self, items)\u001B[0m\n\u001B[0;32m    993\u001B[0m                 \u001B[1;32mfor\u001B[0m \u001B[0mk\u001B[0m\u001B[1;33m,\u001B[0m \u001B[0mv\u001B[0m \u001B[1;32min\u001B[0m \u001B[0mtmp\u001B[0m\u001B[1;33m:\u001B[0m\u001B[1;33m\u001B[0m\u001B[1;33m\u001B[0m\u001B[0m\n\u001B[0;32m    994\u001B[0m                     \u001B[0msave\u001B[0m\u001B[1;33m(\u001B[0m\u001B[0mk\u001B[0m\u001B[1;33m)\u001B[0m\u001B[1;33m\u001B[0m\u001B[1;33m\u001B[0m\u001B[0m\n\u001B[1;32m--> 995\u001B[1;33m                     \u001B[0msave\u001B[0m\u001B[1;33m(\u001B[0m\u001B[0mv\u001B[0m\u001B[1;33m)\u001B[0m\u001B[1;33m\u001B[0m\u001B[1;33m\u001B[0m\u001B[0m\n\u001B[0m\u001B[0;32m    996\u001B[0m                 \u001B[0mwrite\u001B[0m\u001B[1;33m(\u001B[0m\u001B[0mSETITEMS\u001B[0m\u001B[1;33m)\u001B[0m\u001B[1;33m\u001B[0m\u001B[1;33m\u001B[0m\u001B[0m\n\u001B[0;32m    997\u001B[0m             \u001B[1;32melif\u001B[0m \u001B[0mn\u001B[0m\u001B[1;33m:\u001B[0m\u001B[1;33m\u001B[0m\u001B[1;33m\u001B[0m\u001B[0m\n",
      "\u001B[1;32mc:\\users\\stewarsa\\appdata\\local\\programs\\python\\python38-32\\lib\\pickle.py\u001B[0m in \u001B[0;36msave\u001B[1;34m(self, obj, save_persistent_id)\u001B[0m\n\u001B[0;32m    556\u001B[0m             \u001B[0mf\u001B[0m \u001B[1;33m=\u001B[0m \u001B[0mself\u001B[0m\u001B[1;33m.\u001B[0m\u001B[0mdispatch\u001B[0m\u001B[1;33m.\u001B[0m\u001B[0mget\u001B[0m\u001B[1;33m(\u001B[0m\u001B[0mt\u001B[0m\u001B[1;33m)\u001B[0m\u001B[1;33m\u001B[0m\u001B[1;33m\u001B[0m\u001B[0m\n\u001B[0;32m    557\u001B[0m             \u001B[1;32mif\u001B[0m \u001B[0mf\u001B[0m \u001B[1;32mis\u001B[0m \u001B[1;32mnot\u001B[0m \u001B[1;32mNone\u001B[0m\u001B[1;33m:\u001B[0m\u001B[1;33m\u001B[0m\u001B[1;33m\u001B[0m\u001B[0m\n\u001B[1;32m--> 558\u001B[1;33m                 \u001B[0mf\u001B[0m\u001B[1;33m(\u001B[0m\u001B[0mself\u001B[0m\u001B[1;33m,\u001B[0m \u001B[0mobj\u001B[0m\u001B[1;33m)\u001B[0m  \u001B[1;31m# Call unbound method with explicit self\u001B[0m\u001B[1;33m\u001B[0m\u001B[1;33m\u001B[0m\u001B[0m\n\u001B[0m\u001B[0;32m    559\u001B[0m                 \u001B[1;32mreturn\u001B[0m\u001B[1;33m\u001B[0m\u001B[1;33m\u001B[0m\u001B[0m\n\u001B[0;32m    560\u001B[0m \u001B[1;33m\u001B[0m\u001B[0m\n",
      "\u001B[1;32mc:\\users\\stewarsa\\pycharmprojects\\subway-delay\\venv\\lib\\site-packages\\dill\\_dill.py\u001B[0m in \u001B[0;36msave_module\u001B[1;34m(pickler, obj)\u001B[0m\n\u001B[0;32m   1315\u001B[0m             [_main_dict.pop(item, None) for item in singletontypes\n\u001B[0;32m   1316\u001B[0m                 + [\"__builtins__\", \"__loader__\"]]\n\u001B[1;32m-> 1317\u001B[1;33m             pickler.save_reduce(_import_module, (obj.__name__,), obj=obj,\n\u001B[0m\u001B[0;32m   1318\u001B[0m                                 state=_main_dict)\n\u001B[0;32m   1319\u001B[0m             \u001B[0mlog\u001B[0m\u001B[1;33m.\u001B[0m\u001B[0minfo\u001B[0m\u001B[1;33m(\u001B[0m\u001B[1;34m\"# M1\"\u001B[0m\u001B[1;33m)\u001B[0m\u001B[1;33m\u001B[0m\u001B[1;33m\u001B[0m\u001B[0m\n",
      "\u001B[1;32mc:\\users\\stewarsa\\appdata\\local\\programs\\python\\python38-32\\lib\\pickle.py\u001B[0m in \u001B[0;36msave_reduce\u001B[1;34m(self, func, args, state, listitems, dictitems, state_setter, obj)\u001B[0m\n\u001B[0;32m    713\u001B[0m         \u001B[1;32mif\u001B[0m \u001B[0mstate\u001B[0m \u001B[1;32mis\u001B[0m \u001B[1;32mnot\u001B[0m \u001B[1;32mNone\u001B[0m\u001B[1;33m:\u001B[0m\u001B[1;33m\u001B[0m\u001B[1;33m\u001B[0m\u001B[0m\n\u001B[0;32m    714\u001B[0m             \u001B[1;32mif\u001B[0m \u001B[0mstate_setter\u001B[0m \u001B[1;32mis\u001B[0m \u001B[1;32mNone\u001B[0m\u001B[1;33m:\u001B[0m\u001B[1;33m\u001B[0m\u001B[1;33m\u001B[0m\u001B[0m\n\u001B[1;32m--> 715\u001B[1;33m                 \u001B[0msave\u001B[0m\u001B[1;33m(\u001B[0m\u001B[0mstate\u001B[0m\u001B[1;33m)\u001B[0m\u001B[1;33m\u001B[0m\u001B[1;33m\u001B[0m\u001B[0m\n\u001B[0m\u001B[0;32m    716\u001B[0m                 \u001B[0mwrite\u001B[0m\u001B[1;33m(\u001B[0m\u001B[0mBUILD\u001B[0m\u001B[1;33m)\u001B[0m\u001B[1;33m\u001B[0m\u001B[1;33m\u001B[0m\u001B[0m\n\u001B[0;32m    717\u001B[0m             \u001B[1;32melse\u001B[0m\u001B[1;33m:\u001B[0m\u001B[1;33m\u001B[0m\u001B[1;33m\u001B[0m\u001B[0m\n",
      "\u001B[1;32mc:\\users\\stewarsa\\appdata\\local\\programs\\python\\python38-32\\lib\\pickle.py\u001B[0m in \u001B[0;36msave\u001B[1;34m(self, obj, save_persistent_id)\u001B[0m\n\u001B[0;32m    556\u001B[0m             \u001B[0mf\u001B[0m \u001B[1;33m=\u001B[0m \u001B[0mself\u001B[0m\u001B[1;33m.\u001B[0m\u001B[0mdispatch\u001B[0m\u001B[1;33m.\u001B[0m\u001B[0mget\u001B[0m\u001B[1;33m(\u001B[0m\u001B[0mt\u001B[0m\u001B[1;33m)\u001B[0m\u001B[1;33m\u001B[0m\u001B[1;33m\u001B[0m\u001B[0m\n\u001B[0;32m    557\u001B[0m             \u001B[1;32mif\u001B[0m \u001B[0mf\u001B[0m \u001B[1;32mis\u001B[0m \u001B[1;32mnot\u001B[0m \u001B[1;32mNone\u001B[0m\u001B[1;33m:\u001B[0m\u001B[1;33m\u001B[0m\u001B[1;33m\u001B[0m\u001B[0m\n\u001B[1;32m--> 558\u001B[1;33m                 \u001B[0mf\u001B[0m\u001B[1;33m(\u001B[0m\u001B[0mself\u001B[0m\u001B[1;33m,\u001B[0m \u001B[0mobj\u001B[0m\u001B[1;33m)\u001B[0m  \u001B[1;31m# Call unbound method with explicit self\u001B[0m\u001B[1;33m\u001B[0m\u001B[1;33m\u001B[0m\u001B[0m\n\u001B[0m\u001B[0;32m    559\u001B[0m                 \u001B[1;32mreturn\u001B[0m\u001B[1;33m\u001B[0m\u001B[1;33m\u001B[0m\u001B[0m\n\u001B[0;32m    560\u001B[0m \u001B[1;33m\u001B[0m\u001B[0m\n",
      "\u001B[1;32mc:\\users\\stewarsa\\pycharmprojects\\subway-delay\\venv\\lib\\site-packages\\dill\\_dill.py\u001B[0m in \u001B[0;36msave_module_dict\u001B[1;34m(pickler, obj)\u001B[0m\n\u001B[0;32m    931\u001B[0m             \u001B[1;31m# we only care about session the first pass thru\u001B[0m\u001B[1;33m\u001B[0m\u001B[1;33m\u001B[0m\u001B[1;33m\u001B[0m\u001B[0m\n\u001B[0;32m    932\u001B[0m             \u001B[0mpickler\u001B[0m\u001B[1;33m.\u001B[0m\u001B[0m_session\u001B[0m \u001B[1;33m=\u001B[0m \u001B[1;32mFalse\u001B[0m\u001B[1;33m\u001B[0m\u001B[1;33m\u001B[0m\u001B[0m\n\u001B[1;32m--> 933\u001B[1;33m         \u001B[0mStockPickler\u001B[0m\u001B[1;33m.\u001B[0m\u001B[0msave_dict\u001B[0m\u001B[1;33m(\u001B[0m\u001B[0mpickler\u001B[0m\u001B[1;33m,\u001B[0m \u001B[0mobj\u001B[0m\u001B[1;33m)\u001B[0m\u001B[1;33m\u001B[0m\u001B[1;33m\u001B[0m\u001B[0m\n\u001B[0m\u001B[0;32m    934\u001B[0m         \u001B[0mlog\u001B[0m\u001B[1;33m.\u001B[0m\u001B[0minfo\u001B[0m\u001B[1;33m(\u001B[0m\u001B[1;34m\"# D2\"\u001B[0m\u001B[1;33m)\u001B[0m\u001B[1;33m\u001B[0m\u001B[1;33m\u001B[0m\u001B[0m\n\u001B[0;32m    935\u001B[0m     \u001B[1;32mreturn\u001B[0m\u001B[1;33m\u001B[0m\u001B[1;33m\u001B[0m\u001B[0m\n",
      "\u001B[1;32mc:\\users\\stewarsa\\appdata\\local\\programs\\python\\python38-32\\lib\\pickle.py\u001B[0m in \u001B[0;36msave_dict\u001B[1;34m(self, obj)\u001B[0m\n\u001B[0;32m    967\u001B[0m \u001B[1;33m\u001B[0m\u001B[0m\n\u001B[0;32m    968\u001B[0m         \u001B[0mself\u001B[0m\u001B[1;33m.\u001B[0m\u001B[0mmemoize\u001B[0m\u001B[1;33m(\u001B[0m\u001B[0mobj\u001B[0m\u001B[1;33m)\u001B[0m\u001B[1;33m\u001B[0m\u001B[1;33m\u001B[0m\u001B[0m\n\u001B[1;32m--> 969\u001B[1;33m         \u001B[0mself\u001B[0m\u001B[1;33m.\u001B[0m\u001B[0m_batch_setitems\u001B[0m\u001B[1;33m(\u001B[0m\u001B[0mobj\u001B[0m\u001B[1;33m.\u001B[0m\u001B[0mitems\u001B[0m\u001B[1;33m(\u001B[0m\u001B[1;33m)\u001B[0m\u001B[1;33m)\u001B[0m\u001B[1;33m\u001B[0m\u001B[1;33m\u001B[0m\u001B[0m\n\u001B[0m\u001B[0;32m    970\u001B[0m \u001B[1;33m\u001B[0m\u001B[0m\n\u001B[0;32m    971\u001B[0m     \u001B[0mdispatch\u001B[0m\u001B[1;33m[\u001B[0m\u001B[0mdict\u001B[0m\u001B[1;33m]\u001B[0m \u001B[1;33m=\u001B[0m \u001B[0msave_dict\u001B[0m\u001B[1;33m\u001B[0m\u001B[1;33m\u001B[0m\u001B[0m\n",
      "\u001B[1;32mc:\\users\\stewarsa\\appdata\\local\\programs\\python\\python38-32\\lib\\pickle.py\u001B[0m in \u001B[0;36m_batch_setitems\u001B[1;34m(self, items)\u001B[0m\n\u001B[0;32m    993\u001B[0m                 \u001B[1;32mfor\u001B[0m \u001B[0mk\u001B[0m\u001B[1;33m,\u001B[0m \u001B[0mv\u001B[0m \u001B[1;32min\u001B[0m \u001B[0mtmp\u001B[0m\u001B[1;33m:\u001B[0m\u001B[1;33m\u001B[0m\u001B[1;33m\u001B[0m\u001B[0m\n\u001B[0;32m    994\u001B[0m                     \u001B[0msave\u001B[0m\u001B[1;33m(\u001B[0m\u001B[0mk\u001B[0m\u001B[1;33m)\u001B[0m\u001B[1;33m\u001B[0m\u001B[1;33m\u001B[0m\u001B[0m\n\u001B[1;32m--> 995\u001B[1;33m                     \u001B[0msave\u001B[0m\u001B[1;33m(\u001B[0m\u001B[0mv\u001B[0m\u001B[1;33m)\u001B[0m\u001B[1;33m\u001B[0m\u001B[1;33m\u001B[0m\u001B[0m\n\u001B[0m\u001B[0;32m    996\u001B[0m                 \u001B[0mwrite\u001B[0m\u001B[1;33m(\u001B[0m\u001B[0mSETITEMS\u001B[0m\u001B[1;33m)\u001B[0m\u001B[1;33m\u001B[0m\u001B[1;33m\u001B[0m\u001B[0m\n\u001B[0;32m    997\u001B[0m             \u001B[1;32melif\u001B[0m \u001B[0mn\u001B[0m\u001B[1;33m:\u001B[0m\u001B[1;33m\u001B[0m\u001B[1;33m\u001B[0m\u001B[0m\n",
      "\u001B[1;32mc:\\users\\stewarsa\\appdata\\local\\programs\\python\\python38-32\\lib\\pickle.py\u001B[0m in \u001B[0;36msave\u001B[1;34m(self, obj, save_persistent_id)\u001B[0m\n\u001B[0;32m    556\u001B[0m             \u001B[0mf\u001B[0m \u001B[1;33m=\u001B[0m \u001B[0mself\u001B[0m\u001B[1;33m.\u001B[0m\u001B[0mdispatch\u001B[0m\u001B[1;33m.\u001B[0m\u001B[0mget\u001B[0m\u001B[1;33m(\u001B[0m\u001B[0mt\u001B[0m\u001B[1;33m)\u001B[0m\u001B[1;33m\u001B[0m\u001B[1;33m\u001B[0m\u001B[0m\n\u001B[0;32m    557\u001B[0m             \u001B[1;32mif\u001B[0m \u001B[0mf\u001B[0m \u001B[1;32mis\u001B[0m \u001B[1;32mnot\u001B[0m \u001B[1;32mNone\u001B[0m\u001B[1;33m:\u001B[0m\u001B[1;33m\u001B[0m\u001B[1;33m\u001B[0m\u001B[0m\n\u001B[1;32m--> 558\u001B[1;33m                 \u001B[0mf\u001B[0m\u001B[1;33m(\u001B[0m\u001B[0mself\u001B[0m\u001B[1;33m,\u001B[0m \u001B[0mobj\u001B[0m\u001B[1;33m)\u001B[0m  \u001B[1;31m# Call unbound method with explicit self\u001B[0m\u001B[1;33m\u001B[0m\u001B[1;33m\u001B[0m\u001B[0m\n\u001B[0m\u001B[0;32m    559\u001B[0m                 \u001B[1;32mreturn\u001B[0m\u001B[1;33m\u001B[0m\u001B[1;33m\u001B[0m\u001B[0m\n\u001B[0;32m    560\u001B[0m \u001B[1;33m\u001B[0m\u001B[0m\n",
      "\u001B[1;32mc:\\users\\stewarsa\\pycharmprojects\\subway-delay\\venv\\lib\\site-packages\\dill\\_dill.py\u001B[0m in \u001B[0;36msave_module\u001B[1;34m(pickler, obj)\u001B[0m\n\u001B[0;32m   1315\u001B[0m             [_main_dict.pop(item, None) for item in singletontypes\n\u001B[0;32m   1316\u001B[0m                 + [\"__builtins__\", \"__loader__\"]]\n\u001B[1;32m-> 1317\u001B[1;33m             pickler.save_reduce(_import_module, (obj.__name__,), obj=obj,\n\u001B[0m\u001B[0;32m   1318\u001B[0m                                 state=_main_dict)\n\u001B[0;32m   1319\u001B[0m             \u001B[0mlog\u001B[0m\u001B[1;33m.\u001B[0m\u001B[0minfo\u001B[0m\u001B[1;33m(\u001B[0m\u001B[1;34m\"# M1\"\u001B[0m\u001B[1;33m)\u001B[0m\u001B[1;33m\u001B[0m\u001B[1;33m\u001B[0m\u001B[0m\n",
      "\u001B[1;32mc:\\users\\stewarsa\\appdata\\local\\programs\\python\\python38-32\\lib\\pickle.py\u001B[0m in \u001B[0;36msave_reduce\u001B[1;34m(self, func, args, state, listitems, dictitems, state_setter, obj)\u001B[0m\n\u001B[0;32m    713\u001B[0m         \u001B[1;32mif\u001B[0m \u001B[0mstate\u001B[0m \u001B[1;32mis\u001B[0m \u001B[1;32mnot\u001B[0m \u001B[1;32mNone\u001B[0m\u001B[1;33m:\u001B[0m\u001B[1;33m\u001B[0m\u001B[1;33m\u001B[0m\u001B[0m\n\u001B[0;32m    714\u001B[0m             \u001B[1;32mif\u001B[0m \u001B[0mstate_setter\u001B[0m \u001B[1;32mis\u001B[0m \u001B[1;32mNone\u001B[0m\u001B[1;33m:\u001B[0m\u001B[1;33m\u001B[0m\u001B[1;33m\u001B[0m\u001B[0m\n\u001B[1;32m--> 715\u001B[1;33m                 \u001B[0msave\u001B[0m\u001B[1;33m(\u001B[0m\u001B[0mstate\u001B[0m\u001B[1;33m)\u001B[0m\u001B[1;33m\u001B[0m\u001B[1;33m\u001B[0m\u001B[0m\n\u001B[0m\u001B[0;32m    716\u001B[0m                 \u001B[0mwrite\u001B[0m\u001B[1;33m(\u001B[0m\u001B[0mBUILD\u001B[0m\u001B[1;33m)\u001B[0m\u001B[1;33m\u001B[0m\u001B[1;33m\u001B[0m\u001B[0m\n\u001B[0;32m    717\u001B[0m             \u001B[1;32melse\u001B[0m\u001B[1;33m:\u001B[0m\u001B[1;33m\u001B[0m\u001B[1;33m\u001B[0m\u001B[0m\n",
      "\u001B[1;32mc:\\users\\stewarsa\\appdata\\local\\programs\\python\\python38-32\\lib\\pickle.py\u001B[0m in \u001B[0;36msave\u001B[1;34m(self, obj, save_persistent_id)\u001B[0m\n\u001B[0;32m    556\u001B[0m             \u001B[0mf\u001B[0m \u001B[1;33m=\u001B[0m \u001B[0mself\u001B[0m\u001B[1;33m.\u001B[0m\u001B[0mdispatch\u001B[0m\u001B[1;33m.\u001B[0m\u001B[0mget\u001B[0m\u001B[1;33m(\u001B[0m\u001B[0mt\u001B[0m\u001B[1;33m)\u001B[0m\u001B[1;33m\u001B[0m\u001B[1;33m\u001B[0m\u001B[0m\n\u001B[0;32m    557\u001B[0m             \u001B[1;32mif\u001B[0m \u001B[0mf\u001B[0m \u001B[1;32mis\u001B[0m \u001B[1;32mnot\u001B[0m \u001B[1;32mNone\u001B[0m\u001B[1;33m:\u001B[0m\u001B[1;33m\u001B[0m\u001B[1;33m\u001B[0m\u001B[0m\n\u001B[1;32m--> 558\u001B[1;33m                 \u001B[0mf\u001B[0m\u001B[1;33m(\u001B[0m\u001B[0mself\u001B[0m\u001B[1;33m,\u001B[0m \u001B[0mobj\u001B[0m\u001B[1;33m)\u001B[0m  \u001B[1;31m# Call unbound method with explicit self\u001B[0m\u001B[1;33m\u001B[0m\u001B[1;33m\u001B[0m\u001B[0m\n\u001B[0m\u001B[0;32m    559\u001B[0m                 \u001B[1;32mreturn\u001B[0m\u001B[1;33m\u001B[0m\u001B[1;33m\u001B[0m\u001B[0m\n\u001B[0;32m    560\u001B[0m \u001B[1;33m\u001B[0m\u001B[0m\n",
      "\u001B[1;32mc:\\users\\stewarsa\\pycharmprojects\\subway-delay\\venv\\lib\\site-packages\\dill\\_dill.py\u001B[0m in \u001B[0;36msave_module_dict\u001B[1;34m(pickler, obj)\u001B[0m\n\u001B[0;32m    931\u001B[0m             \u001B[1;31m# we only care about session the first pass thru\u001B[0m\u001B[1;33m\u001B[0m\u001B[1;33m\u001B[0m\u001B[1;33m\u001B[0m\u001B[0m\n\u001B[0;32m    932\u001B[0m             \u001B[0mpickler\u001B[0m\u001B[1;33m.\u001B[0m\u001B[0m_session\u001B[0m \u001B[1;33m=\u001B[0m \u001B[1;32mFalse\u001B[0m\u001B[1;33m\u001B[0m\u001B[1;33m\u001B[0m\u001B[0m\n\u001B[1;32m--> 933\u001B[1;33m         \u001B[0mStockPickler\u001B[0m\u001B[1;33m.\u001B[0m\u001B[0msave_dict\u001B[0m\u001B[1;33m(\u001B[0m\u001B[0mpickler\u001B[0m\u001B[1;33m,\u001B[0m \u001B[0mobj\u001B[0m\u001B[1;33m)\u001B[0m\u001B[1;33m\u001B[0m\u001B[1;33m\u001B[0m\u001B[0m\n\u001B[0m\u001B[0;32m    934\u001B[0m         \u001B[0mlog\u001B[0m\u001B[1;33m.\u001B[0m\u001B[0minfo\u001B[0m\u001B[1;33m(\u001B[0m\u001B[1;34m\"# D2\"\u001B[0m\u001B[1;33m)\u001B[0m\u001B[1;33m\u001B[0m\u001B[1;33m\u001B[0m\u001B[0m\n\u001B[0;32m    935\u001B[0m     \u001B[1;32mreturn\u001B[0m\u001B[1;33m\u001B[0m\u001B[1;33m\u001B[0m\u001B[0m\n",
      "\u001B[1;32mc:\\users\\stewarsa\\appdata\\local\\programs\\python\\python38-32\\lib\\pickle.py\u001B[0m in \u001B[0;36msave_dict\u001B[1;34m(self, obj)\u001B[0m\n\u001B[0;32m    967\u001B[0m \u001B[1;33m\u001B[0m\u001B[0m\n\u001B[0;32m    968\u001B[0m         \u001B[0mself\u001B[0m\u001B[1;33m.\u001B[0m\u001B[0mmemoize\u001B[0m\u001B[1;33m(\u001B[0m\u001B[0mobj\u001B[0m\u001B[1;33m)\u001B[0m\u001B[1;33m\u001B[0m\u001B[1;33m\u001B[0m\u001B[0m\n\u001B[1;32m--> 969\u001B[1;33m         \u001B[0mself\u001B[0m\u001B[1;33m.\u001B[0m\u001B[0m_batch_setitems\u001B[0m\u001B[1;33m(\u001B[0m\u001B[0mobj\u001B[0m\u001B[1;33m.\u001B[0m\u001B[0mitems\u001B[0m\u001B[1;33m(\u001B[0m\u001B[1;33m)\u001B[0m\u001B[1;33m)\u001B[0m\u001B[1;33m\u001B[0m\u001B[1;33m\u001B[0m\u001B[0m\n\u001B[0m\u001B[0;32m    970\u001B[0m \u001B[1;33m\u001B[0m\u001B[0m\n\u001B[0;32m    971\u001B[0m     \u001B[0mdispatch\u001B[0m\u001B[1;33m[\u001B[0m\u001B[0mdict\u001B[0m\u001B[1;33m]\u001B[0m \u001B[1;33m=\u001B[0m \u001B[0msave_dict\u001B[0m\u001B[1;33m\u001B[0m\u001B[1;33m\u001B[0m\u001B[0m\n",
      "\u001B[1;32mc:\\users\\stewarsa\\appdata\\local\\programs\\python\\python38-32\\lib\\pickle.py\u001B[0m in \u001B[0;36m_batch_setitems\u001B[1;34m(self, items)\u001B[0m\n\u001B[0;32m    993\u001B[0m                 \u001B[1;32mfor\u001B[0m \u001B[0mk\u001B[0m\u001B[1;33m,\u001B[0m \u001B[0mv\u001B[0m \u001B[1;32min\u001B[0m \u001B[0mtmp\u001B[0m\u001B[1;33m:\u001B[0m\u001B[1;33m\u001B[0m\u001B[1;33m\u001B[0m\u001B[0m\n\u001B[0;32m    994\u001B[0m                     \u001B[0msave\u001B[0m\u001B[1;33m(\u001B[0m\u001B[0mk\u001B[0m\u001B[1;33m)\u001B[0m\u001B[1;33m\u001B[0m\u001B[1;33m\u001B[0m\u001B[0m\n\u001B[1;32m--> 995\u001B[1;33m                     \u001B[0msave\u001B[0m\u001B[1;33m(\u001B[0m\u001B[0mv\u001B[0m\u001B[1;33m)\u001B[0m\u001B[1;33m\u001B[0m\u001B[1;33m\u001B[0m\u001B[0m\n\u001B[0m\u001B[0;32m    996\u001B[0m                 \u001B[0mwrite\u001B[0m\u001B[1;33m(\u001B[0m\u001B[0mSETITEMS\u001B[0m\u001B[1;33m)\u001B[0m\u001B[1;33m\u001B[0m\u001B[1;33m\u001B[0m\u001B[0m\n\u001B[0;32m    997\u001B[0m             \u001B[1;32melif\u001B[0m \u001B[0mn\u001B[0m\u001B[1;33m:\u001B[0m\u001B[1;33m\u001B[0m\u001B[1;33m\u001B[0m\u001B[0m\n",
      "\u001B[1;32mc:\\users\\stewarsa\\appdata\\local\\programs\\python\\python38-32\\lib\\pickle.py\u001B[0m in \u001B[0;36msave\u001B[1;34m(self, obj, save_persistent_id)\u001B[0m\n\u001B[0;32m    556\u001B[0m             \u001B[0mf\u001B[0m \u001B[1;33m=\u001B[0m \u001B[0mself\u001B[0m\u001B[1;33m.\u001B[0m\u001B[0mdispatch\u001B[0m\u001B[1;33m.\u001B[0m\u001B[0mget\u001B[0m\u001B[1;33m(\u001B[0m\u001B[0mt\u001B[0m\u001B[1;33m)\u001B[0m\u001B[1;33m\u001B[0m\u001B[1;33m\u001B[0m\u001B[0m\n\u001B[0;32m    557\u001B[0m             \u001B[1;32mif\u001B[0m \u001B[0mf\u001B[0m \u001B[1;32mis\u001B[0m \u001B[1;32mnot\u001B[0m \u001B[1;32mNone\u001B[0m\u001B[1;33m:\u001B[0m\u001B[1;33m\u001B[0m\u001B[1;33m\u001B[0m\u001B[0m\n\u001B[1;32m--> 558\u001B[1;33m                 \u001B[0mf\u001B[0m\u001B[1;33m(\u001B[0m\u001B[0mself\u001B[0m\u001B[1;33m,\u001B[0m \u001B[0mobj\u001B[0m\u001B[1;33m)\u001B[0m  \u001B[1;31m# Call unbound method with explicit self\u001B[0m\u001B[1;33m\u001B[0m\u001B[1;33m\u001B[0m\u001B[0m\n\u001B[0m\u001B[0;32m    559\u001B[0m                 \u001B[1;32mreturn\u001B[0m\u001B[1;33m\u001B[0m\u001B[1;33m\u001B[0m\u001B[0m\n\u001B[0;32m    560\u001B[0m \u001B[1;33m\u001B[0m\u001B[0m\n",
      "\u001B[1;32mc:\\users\\stewarsa\\pycharmprojects\\subway-delay\\venv\\lib\\site-packages\\dill\\_dill.py\u001B[0m in \u001B[0;36msave_module\u001B[1;34m(pickler, obj)\u001B[0m\n\u001B[0;32m   1315\u001B[0m             [_main_dict.pop(item, None) for item in singletontypes\n\u001B[0;32m   1316\u001B[0m                 + [\"__builtins__\", \"__loader__\"]]\n\u001B[1;32m-> 1317\u001B[1;33m             pickler.save_reduce(_import_module, (obj.__name__,), obj=obj,\n\u001B[0m\u001B[0;32m   1318\u001B[0m                                 state=_main_dict)\n\u001B[0;32m   1319\u001B[0m             \u001B[0mlog\u001B[0m\u001B[1;33m.\u001B[0m\u001B[0minfo\u001B[0m\u001B[1;33m(\u001B[0m\u001B[1;34m\"# M1\"\u001B[0m\u001B[1;33m)\u001B[0m\u001B[1;33m\u001B[0m\u001B[1;33m\u001B[0m\u001B[0m\n",
      "\u001B[1;32mc:\\users\\stewarsa\\appdata\\local\\programs\\python\\python38-32\\lib\\pickle.py\u001B[0m in \u001B[0;36msave_reduce\u001B[1;34m(self, func, args, state, listitems, dictitems, state_setter, obj)\u001B[0m\n\u001B[0;32m    713\u001B[0m         \u001B[1;32mif\u001B[0m \u001B[0mstate\u001B[0m \u001B[1;32mis\u001B[0m \u001B[1;32mnot\u001B[0m \u001B[1;32mNone\u001B[0m\u001B[1;33m:\u001B[0m\u001B[1;33m\u001B[0m\u001B[1;33m\u001B[0m\u001B[0m\n\u001B[0;32m    714\u001B[0m             \u001B[1;32mif\u001B[0m \u001B[0mstate_setter\u001B[0m \u001B[1;32mis\u001B[0m \u001B[1;32mNone\u001B[0m\u001B[1;33m:\u001B[0m\u001B[1;33m\u001B[0m\u001B[1;33m\u001B[0m\u001B[0m\n\u001B[1;32m--> 715\u001B[1;33m                 \u001B[0msave\u001B[0m\u001B[1;33m(\u001B[0m\u001B[0mstate\u001B[0m\u001B[1;33m)\u001B[0m\u001B[1;33m\u001B[0m\u001B[1;33m\u001B[0m\u001B[0m\n\u001B[0m\u001B[0;32m    716\u001B[0m                 \u001B[0mwrite\u001B[0m\u001B[1;33m(\u001B[0m\u001B[0mBUILD\u001B[0m\u001B[1;33m)\u001B[0m\u001B[1;33m\u001B[0m\u001B[1;33m\u001B[0m\u001B[0m\n\u001B[0;32m    717\u001B[0m             \u001B[1;32melse\u001B[0m\u001B[1;33m:\u001B[0m\u001B[1;33m\u001B[0m\u001B[1;33m\u001B[0m\u001B[0m\n",
      "\u001B[1;32mc:\\users\\stewarsa\\appdata\\local\\programs\\python\\python38-32\\lib\\pickle.py\u001B[0m in \u001B[0;36msave\u001B[1;34m(self, obj, save_persistent_id)\u001B[0m\n\u001B[0;32m    556\u001B[0m             \u001B[0mf\u001B[0m \u001B[1;33m=\u001B[0m \u001B[0mself\u001B[0m\u001B[1;33m.\u001B[0m\u001B[0mdispatch\u001B[0m\u001B[1;33m.\u001B[0m\u001B[0mget\u001B[0m\u001B[1;33m(\u001B[0m\u001B[0mt\u001B[0m\u001B[1;33m)\u001B[0m\u001B[1;33m\u001B[0m\u001B[1;33m\u001B[0m\u001B[0m\n\u001B[0;32m    557\u001B[0m             \u001B[1;32mif\u001B[0m \u001B[0mf\u001B[0m \u001B[1;32mis\u001B[0m \u001B[1;32mnot\u001B[0m \u001B[1;32mNone\u001B[0m\u001B[1;33m:\u001B[0m\u001B[1;33m\u001B[0m\u001B[1;33m\u001B[0m\u001B[0m\n\u001B[1;32m--> 558\u001B[1;33m                 \u001B[0mf\u001B[0m\u001B[1;33m(\u001B[0m\u001B[0mself\u001B[0m\u001B[1;33m,\u001B[0m \u001B[0mobj\u001B[0m\u001B[1;33m)\u001B[0m  \u001B[1;31m# Call unbound method with explicit self\u001B[0m\u001B[1;33m\u001B[0m\u001B[1;33m\u001B[0m\u001B[0m\n\u001B[0m\u001B[0;32m    559\u001B[0m                 \u001B[1;32mreturn\u001B[0m\u001B[1;33m\u001B[0m\u001B[1;33m\u001B[0m\u001B[0m\n\u001B[0;32m    560\u001B[0m \u001B[1;33m\u001B[0m\u001B[0m\n",
      "\u001B[1;32mc:\\users\\stewarsa\\pycharmprojects\\subway-delay\\venv\\lib\\site-packages\\dill\\_dill.py\u001B[0m in \u001B[0;36msave_module_dict\u001B[1;34m(pickler, obj)\u001B[0m\n\u001B[0;32m    931\u001B[0m             \u001B[1;31m# we only care about session the first pass thru\u001B[0m\u001B[1;33m\u001B[0m\u001B[1;33m\u001B[0m\u001B[1;33m\u001B[0m\u001B[0m\n\u001B[0;32m    932\u001B[0m             \u001B[0mpickler\u001B[0m\u001B[1;33m.\u001B[0m\u001B[0m_session\u001B[0m \u001B[1;33m=\u001B[0m \u001B[1;32mFalse\u001B[0m\u001B[1;33m\u001B[0m\u001B[1;33m\u001B[0m\u001B[0m\n\u001B[1;32m--> 933\u001B[1;33m         \u001B[0mStockPickler\u001B[0m\u001B[1;33m.\u001B[0m\u001B[0msave_dict\u001B[0m\u001B[1;33m(\u001B[0m\u001B[0mpickler\u001B[0m\u001B[1;33m,\u001B[0m \u001B[0mobj\u001B[0m\u001B[1;33m)\u001B[0m\u001B[1;33m\u001B[0m\u001B[1;33m\u001B[0m\u001B[0m\n\u001B[0m\u001B[0;32m    934\u001B[0m         \u001B[0mlog\u001B[0m\u001B[1;33m.\u001B[0m\u001B[0minfo\u001B[0m\u001B[1;33m(\u001B[0m\u001B[1;34m\"# D2\"\u001B[0m\u001B[1;33m)\u001B[0m\u001B[1;33m\u001B[0m\u001B[1;33m\u001B[0m\u001B[0m\n\u001B[0;32m    935\u001B[0m     \u001B[1;32mreturn\u001B[0m\u001B[1;33m\u001B[0m\u001B[1;33m\u001B[0m\u001B[0m\n",
      "\u001B[1;32mc:\\users\\stewarsa\\appdata\\local\\programs\\python\\python38-32\\lib\\pickle.py\u001B[0m in \u001B[0;36msave_dict\u001B[1;34m(self, obj)\u001B[0m\n\u001B[0;32m    967\u001B[0m \u001B[1;33m\u001B[0m\u001B[0m\n\u001B[0;32m    968\u001B[0m         \u001B[0mself\u001B[0m\u001B[1;33m.\u001B[0m\u001B[0mmemoize\u001B[0m\u001B[1;33m(\u001B[0m\u001B[0mobj\u001B[0m\u001B[1;33m)\u001B[0m\u001B[1;33m\u001B[0m\u001B[1;33m\u001B[0m\u001B[0m\n\u001B[1;32m--> 969\u001B[1;33m         \u001B[0mself\u001B[0m\u001B[1;33m.\u001B[0m\u001B[0m_batch_setitems\u001B[0m\u001B[1;33m(\u001B[0m\u001B[0mobj\u001B[0m\u001B[1;33m.\u001B[0m\u001B[0mitems\u001B[0m\u001B[1;33m(\u001B[0m\u001B[1;33m)\u001B[0m\u001B[1;33m)\u001B[0m\u001B[1;33m\u001B[0m\u001B[1;33m\u001B[0m\u001B[0m\n\u001B[0m\u001B[0;32m    970\u001B[0m \u001B[1;33m\u001B[0m\u001B[0m\n\u001B[0;32m    971\u001B[0m     \u001B[0mdispatch\u001B[0m\u001B[1;33m[\u001B[0m\u001B[0mdict\u001B[0m\u001B[1;33m]\u001B[0m \u001B[1;33m=\u001B[0m \u001B[0msave_dict\u001B[0m\u001B[1;33m\u001B[0m\u001B[1;33m\u001B[0m\u001B[0m\n",
      "\u001B[1;32mc:\\users\\stewarsa\\appdata\\local\\programs\\python\\python38-32\\lib\\pickle.py\u001B[0m in \u001B[0;36m_batch_setitems\u001B[1;34m(self, items)\u001B[0m\n\u001B[0;32m    993\u001B[0m                 \u001B[1;32mfor\u001B[0m \u001B[0mk\u001B[0m\u001B[1;33m,\u001B[0m \u001B[0mv\u001B[0m \u001B[1;32min\u001B[0m \u001B[0mtmp\u001B[0m\u001B[1;33m:\u001B[0m\u001B[1;33m\u001B[0m\u001B[1;33m\u001B[0m\u001B[0m\n\u001B[0;32m    994\u001B[0m                     \u001B[0msave\u001B[0m\u001B[1;33m(\u001B[0m\u001B[0mk\u001B[0m\u001B[1;33m)\u001B[0m\u001B[1;33m\u001B[0m\u001B[1;33m\u001B[0m\u001B[0m\n\u001B[1;32m--> 995\u001B[1;33m                     \u001B[0msave\u001B[0m\u001B[1;33m(\u001B[0m\u001B[0mv\u001B[0m\u001B[1;33m)\u001B[0m\u001B[1;33m\u001B[0m\u001B[1;33m\u001B[0m\u001B[0m\n\u001B[0m\u001B[0;32m    996\u001B[0m                 \u001B[0mwrite\u001B[0m\u001B[1;33m(\u001B[0m\u001B[0mSETITEMS\u001B[0m\u001B[1;33m)\u001B[0m\u001B[1;33m\u001B[0m\u001B[1;33m\u001B[0m\u001B[0m\n\u001B[0;32m    997\u001B[0m             \u001B[1;32melif\u001B[0m \u001B[0mn\u001B[0m\u001B[1;33m:\u001B[0m\u001B[1;33m\u001B[0m\u001B[1;33m\u001B[0m\u001B[0m\n",
      "\u001B[1;32mc:\\users\\stewarsa\\appdata\\local\\programs\\python\\python38-32\\lib\\pickle.py\u001B[0m in \u001B[0;36msave\u001B[1;34m(self, obj, save_persistent_id)\u001B[0m\n\u001B[0;32m    574\u001B[0m                 \u001B[0mreduce\u001B[0m \u001B[1;33m=\u001B[0m \u001B[0mgetattr\u001B[0m\u001B[1;33m(\u001B[0m\u001B[0mobj\u001B[0m\u001B[1;33m,\u001B[0m \u001B[1;34m\"__reduce_ex__\"\u001B[0m\u001B[1;33m,\u001B[0m \u001B[1;32mNone\u001B[0m\u001B[1;33m)\u001B[0m\u001B[1;33m\u001B[0m\u001B[1;33m\u001B[0m\u001B[0m\n\u001B[0;32m    575\u001B[0m                 \u001B[1;32mif\u001B[0m \u001B[0mreduce\u001B[0m \u001B[1;32mis\u001B[0m \u001B[1;32mnot\u001B[0m \u001B[1;32mNone\u001B[0m\u001B[1;33m:\u001B[0m\u001B[1;33m\u001B[0m\u001B[1;33m\u001B[0m\u001B[0m\n\u001B[1;32m--> 576\u001B[1;33m                     \u001B[0mrv\u001B[0m \u001B[1;33m=\u001B[0m \u001B[0mreduce\u001B[0m\u001B[1;33m(\u001B[0m\u001B[0mself\u001B[0m\u001B[1;33m.\u001B[0m\u001B[0mproto\u001B[0m\u001B[1;33m)\u001B[0m\u001B[1;33m\u001B[0m\u001B[1;33m\u001B[0m\u001B[0m\n\u001B[0m\u001B[0;32m    577\u001B[0m                 \u001B[1;32melse\u001B[0m\u001B[1;33m:\u001B[0m\u001B[1;33m\u001B[0m\u001B[1;33m\u001B[0m\u001B[0m\n\u001B[0;32m    578\u001B[0m                     \u001B[0mreduce\u001B[0m \u001B[1;33m=\u001B[0m \u001B[0mgetattr\u001B[0m\u001B[1;33m(\u001B[0m\u001B[0mobj\u001B[0m\u001B[1;33m,\u001B[0m \u001B[1;34m\"__reduce__\"\u001B[0m\u001B[1;33m,\u001B[0m \u001B[1;32mNone\u001B[0m\u001B[1;33m)\u001B[0m\u001B[1;33m\u001B[0m\u001B[1;33m\u001B[0m\u001B[0m\n",
      "\u001B[1;31mValueError\u001B[0m: ctypes objects containing pointers cannot be pickled"
     ]
    }
   ],
   "source": [
    "import pandas as pd\n",
    "import dill"
   ]
  },
  {
   "cell_type": "code",
   "execution_count": null,
   "outputs": [],
   "source": [
    "trip = pd.read_csv('run1.csv', parse_dates=['stop_time', 'origin_time'])"
   ],
   "metadata": {
    "collapsed": false,
    "pycharm": {
     "name": "#%%\n"
    }
   }
  },
  {
   "cell_type": "code",
   "execution_count": 225,
   "outputs": [],
   "source": [
    "afternoon = pd.read_csv('afternoon.csv',\n",
    "            index_col=0, header=0,names=list(range(38)), parse_dates=list(range(38)))\n",
    "# convert NaN into NaT (stupid)\n",
    "afternoon[0] = pd.to_datetime(afternoon[0])"
   ],
   "metadata": {
    "collapsed": false,
    "pycharm": {
     "name": "#%%\n"
    }
   }
  },
  {
   "cell_type": "code",
   "execution_count": 161,
   "outputs": [
    {
     "ename": "KeyError",
     "evalue": "'stop_name'",
     "output_type": "error",
     "traceback": [
      "\u001B[1;31m---------------------------------------------------------------------------\u001B[0m",
      "\u001B[1;31mKeyError\u001B[0m                                  Traceback (most recent call last)",
      "\u001B[1;32m<ipython-input-161-e0c02f5e5e11>\u001B[0m in \u001B[0;36m<module>\u001B[1;34m\u001B[0m\n\u001B[0;32m      1\u001B[0m \u001B[0mnames\u001B[0m \u001B[1;33m=\u001B[0m \u001B[0mpd\u001B[0m\u001B[1;33m.\u001B[0m\u001B[0mread_csv\u001B[0m\u001B[1;33m(\u001B[0m\u001B[1;34m'stop_names.csv'\u001B[0m\u001B[1;33m,\u001B[0m \u001B[0mindex_col\u001B[0m\u001B[1;33m=\u001B[0m\u001B[1;36m0\u001B[0m\u001B[1;33m,\u001B[0m \u001B[0mdtype\u001B[0m\u001B[1;33m=\u001B[0m\u001B[1;33m{\u001B[0m\u001B[1;34m'stop_index'\u001B[0m\u001B[1;33m:\u001B[0m \u001B[1;34m'Int32'\u001B[0m\u001B[1;33m}\u001B[0m\u001B[1;33m)\u001B[0m\u001B[1;33m.\u001B[0m\u001B[0mset_index\u001B[0m\u001B[1;33m(\u001B[0m\u001B[1;34m'stop_name'\u001B[0m\u001B[1;33m)\u001B[0m\u001B[1;33m\u001B[0m\u001B[1;33m\u001B[0m\u001B[0m\n\u001B[1;32m----> 2\u001B[1;33m \u001B[0mtrip\u001B[0m \u001B[1;33m=\u001B[0m \u001B[0mtrip\u001B[0m\u001B[1;33m.\u001B[0m\u001B[0mjoin\u001B[0m\u001B[1;33m(\u001B[0m\u001B[0mnames\u001B[0m\u001B[1;33m,\u001B[0m \u001B[0mon\u001B[0m\u001B[1;33m=\u001B[0m\u001B[1;34m'stop_name'\u001B[0m\u001B[1;33m)\u001B[0m\u001B[1;33m\u001B[0m\u001B[1;33m\u001B[0m\u001B[0m\n\u001B[0m\u001B[0;32m      3\u001B[0m \u001B[0mnames\u001B[0m\u001B[1;33m.\u001B[0m\u001B[0mto_pickle\u001B[0m\u001B[1;33m(\u001B[0m\u001B[1;34m'names.pkl'\u001B[0m\u001B[1;33m)\u001B[0m\u001B[1;33m\u001B[0m\u001B[1;33m\u001B[0m\u001B[0m\n",
      "\u001B[1;32mc:\\users\\stewarsa\\pycharmprojects\\subway-delay\\venv\\lib\\site-packages\\pandas\\core\\frame.py\u001B[0m in \u001B[0;36mjoin\u001B[1;34m(self, other, on, how, lsuffix, rsuffix, sort)\u001B[0m\n\u001B[0;32m   7206\u001B[0m         \u001B[1;36m5\u001B[0m  \u001B[0mK5\u001B[0m  \u001B[0mA5\u001B[0m  \u001B[0mNaN\u001B[0m\u001B[1;33m\u001B[0m\u001B[1;33m\u001B[0m\u001B[0m\n\u001B[0;32m   7207\u001B[0m         \"\"\"\n\u001B[1;32m-> 7208\u001B[1;33m         return self._join_compat(\n\u001B[0m\u001B[0;32m   7209\u001B[0m             \u001B[0mother\u001B[0m\u001B[1;33m,\u001B[0m \u001B[0mon\u001B[0m\u001B[1;33m=\u001B[0m\u001B[0mon\u001B[0m\u001B[1;33m,\u001B[0m \u001B[0mhow\u001B[0m\u001B[1;33m=\u001B[0m\u001B[0mhow\u001B[0m\u001B[1;33m,\u001B[0m \u001B[0mlsuffix\u001B[0m\u001B[1;33m=\u001B[0m\u001B[0mlsuffix\u001B[0m\u001B[1;33m,\u001B[0m \u001B[0mrsuffix\u001B[0m\u001B[1;33m=\u001B[0m\u001B[0mrsuffix\u001B[0m\u001B[1;33m,\u001B[0m \u001B[0msort\u001B[0m\u001B[1;33m=\u001B[0m\u001B[0msort\u001B[0m\u001B[1;33m\u001B[0m\u001B[1;33m\u001B[0m\u001B[0m\n\u001B[0;32m   7210\u001B[0m         )\n",
      "\u001B[1;32mc:\\users\\stewarsa\\pycharmprojects\\subway-delay\\venv\\lib\\site-packages\\pandas\\core\\frame.py\u001B[0m in \u001B[0;36m_join_compat\u001B[1;34m(self, other, on, how, lsuffix, rsuffix, sort)\u001B[0m\n\u001B[0;32m   7222\u001B[0m \u001B[1;33m\u001B[0m\u001B[0m\n\u001B[0;32m   7223\u001B[0m         \u001B[1;32mif\u001B[0m \u001B[0misinstance\u001B[0m\u001B[1;33m(\u001B[0m\u001B[0mother\u001B[0m\u001B[1;33m,\u001B[0m \u001B[0mDataFrame\u001B[0m\u001B[1;33m)\u001B[0m\u001B[1;33m:\u001B[0m\u001B[1;33m\u001B[0m\u001B[1;33m\u001B[0m\u001B[0m\n\u001B[1;32m-> 7224\u001B[1;33m             return merge(\n\u001B[0m\u001B[0;32m   7225\u001B[0m                 \u001B[0mself\u001B[0m\u001B[1;33m,\u001B[0m\u001B[1;33m\u001B[0m\u001B[1;33m\u001B[0m\u001B[0m\n\u001B[0;32m   7226\u001B[0m                 \u001B[0mother\u001B[0m\u001B[1;33m,\u001B[0m\u001B[1;33m\u001B[0m\u001B[1;33m\u001B[0m\u001B[0m\n",
      "\u001B[1;32mc:\\users\\stewarsa\\pycharmprojects\\subway-delay\\venv\\lib\\site-packages\\pandas\\core\\reshape\\merge.py\u001B[0m in \u001B[0;36mmerge\u001B[1;34m(left, right, how, on, left_on, right_on, left_index, right_index, sort, suffixes, copy, indicator, validate)\u001B[0m\n\u001B[0;32m     71\u001B[0m     \u001B[0mvalidate\u001B[0m\u001B[1;33m=\u001B[0m\u001B[1;32mNone\u001B[0m\u001B[1;33m,\u001B[0m\u001B[1;33m\u001B[0m\u001B[1;33m\u001B[0m\u001B[0m\n\u001B[0;32m     72\u001B[0m ) -> \"DataFrame\":\n\u001B[1;32m---> 73\u001B[1;33m     op = _MergeOperation(\n\u001B[0m\u001B[0;32m     74\u001B[0m         \u001B[0mleft\u001B[0m\u001B[1;33m,\u001B[0m\u001B[1;33m\u001B[0m\u001B[1;33m\u001B[0m\u001B[0m\n\u001B[0;32m     75\u001B[0m         \u001B[0mright\u001B[0m\u001B[1;33m,\u001B[0m\u001B[1;33m\u001B[0m\u001B[1;33m\u001B[0m\u001B[0m\n",
      "\u001B[1;32mc:\\users\\stewarsa\\pycharmprojects\\subway-delay\\venv\\lib\\site-packages\\pandas\\core\\reshape\\merge.py\u001B[0m in \u001B[0;36m__init__\u001B[1;34m(self, left, right, how, on, left_on, right_on, axis, left_index, right_index, sort, suffixes, copy, indicator, validate)\u001B[0m\n\u001B[0;32m    625\u001B[0m             \u001B[0mself\u001B[0m\u001B[1;33m.\u001B[0m\u001B[0mright_join_keys\u001B[0m\u001B[1;33m,\u001B[0m\u001B[1;33m\u001B[0m\u001B[1;33m\u001B[0m\u001B[0m\n\u001B[0;32m    626\u001B[0m             \u001B[0mself\u001B[0m\u001B[1;33m.\u001B[0m\u001B[0mjoin_names\u001B[0m\u001B[1;33m,\u001B[0m\u001B[1;33m\u001B[0m\u001B[1;33m\u001B[0m\u001B[0m\n\u001B[1;32m--> 627\u001B[1;33m         ) = self._get_merge_keys()\n\u001B[0m\u001B[0;32m    628\u001B[0m \u001B[1;33m\u001B[0m\u001B[0m\n\u001B[0;32m    629\u001B[0m         \u001B[1;31m# validate the merge keys dtypes. We may need to coerce\u001B[0m\u001B[1;33m\u001B[0m\u001B[1;33m\u001B[0m\u001B[1;33m\u001B[0m\u001B[0m\n",
      "\u001B[1;32mc:\\users\\stewarsa\\pycharmprojects\\subway-delay\\venv\\lib\\site-packages\\pandas\\core\\reshape\\merge.py\u001B[0m in \u001B[0;36m_get_merge_keys\u001B[1;34m(self)\u001B[0m\n\u001B[0;32m   1006\u001B[0m                     \u001B[0mjoin_names\u001B[0m\u001B[1;33m.\u001B[0m\u001B[0mappend\u001B[0m\u001B[1;33m(\u001B[0m\u001B[1;32mNone\u001B[0m\u001B[1;33m)\u001B[0m\u001B[1;33m\u001B[0m\u001B[1;33m\u001B[0m\u001B[0m\n\u001B[0;32m   1007\u001B[0m                 \u001B[1;32melse\u001B[0m\u001B[1;33m:\u001B[0m\u001B[1;33m\u001B[0m\u001B[1;33m\u001B[0m\u001B[0m\n\u001B[1;32m-> 1008\u001B[1;33m                     \u001B[0mleft_keys\u001B[0m\u001B[1;33m.\u001B[0m\u001B[0mappend\u001B[0m\u001B[1;33m(\u001B[0m\u001B[0mleft\u001B[0m\u001B[1;33m.\u001B[0m\u001B[0m_get_label_or_level_values\u001B[0m\u001B[1;33m(\u001B[0m\u001B[0mk\u001B[0m\u001B[1;33m)\u001B[0m\u001B[1;33m)\u001B[0m\u001B[1;33m\u001B[0m\u001B[1;33m\u001B[0m\u001B[0m\n\u001B[0m\u001B[0;32m   1009\u001B[0m                     \u001B[0mjoin_names\u001B[0m\u001B[1;33m.\u001B[0m\u001B[0mappend\u001B[0m\u001B[1;33m(\u001B[0m\u001B[0mk\u001B[0m\u001B[1;33m)\u001B[0m\u001B[1;33m\u001B[0m\u001B[1;33m\u001B[0m\u001B[0m\n\u001B[0;32m   1010\u001B[0m             \u001B[1;32mif\u001B[0m \u001B[0misinstance\u001B[0m\u001B[1;33m(\u001B[0m\u001B[0mself\u001B[0m\u001B[1;33m.\u001B[0m\u001B[0mright\u001B[0m\u001B[1;33m.\u001B[0m\u001B[0mindex\u001B[0m\u001B[1;33m,\u001B[0m \u001B[0mMultiIndex\u001B[0m\u001B[1;33m)\u001B[0m\u001B[1;33m:\u001B[0m\u001B[1;33m\u001B[0m\u001B[1;33m\u001B[0m\u001B[0m\n",
      "\u001B[1;32mc:\\users\\stewarsa\\pycharmprojects\\subway-delay\\venv\\lib\\site-packages\\pandas\\core\\generic.py\u001B[0m in \u001B[0;36m_get_label_or_level_values\u001B[1;34m(self, key, axis)\u001B[0m\n\u001B[0;32m   1690\u001B[0m             \u001B[0mvalues\u001B[0m \u001B[1;33m=\u001B[0m \u001B[0mself\u001B[0m\u001B[1;33m.\u001B[0m\u001B[0maxes\u001B[0m\u001B[1;33m[\u001B[0m\u001B[0maxis\u001B[0m\u001B[1;33m]\u001B[0m\u001B[1;33m.\u001B[0m\u001B[0mget_level_values\u001B[0m\u001B[1;33m(\u001B[0m\u001B[0mkey\u001B[0m\u001B[1;33m)\u001B[0m\u001B[1;33m.\u001B[0m\u001B[0m_values\u001B[0m\u001B[1;33m\u001B[0m\u001B[1;33m\u001B[0m\u001B[0m\n\u001B[0;32m   1691\u001B[0m         \u001B[1;32melse\u001B[0m\u001B[1;33m:\u001B[0m\u001B[1;33m\u001B[0m\u001B[1;33m\u001B[0m\u001B[0m\n\u001B[1;32m-> 1692\u001B[1;33m             \u001B[1;32mraise\u001B[0m \u001B[0mKeyError\u001B[0m\u001B[1;33m(\u001B[0m\u001B[0mkey\u001B[0m\u001B[1;33m)\u001B[0m\u001B[1;33m\u001B[0m\u001B[1;33m\u001B[0m\u001B[0m\n\u001B[0m\u001B[0;32m   1693\u001B[0m \u001B[1;33m\u001B[0m\u001B[0m\n\u001B[0;32m   1694\u001B[0m         \u001B[1;31m# Check for duplicates\u001B[0m\u001B[1;33m\u001B[0m\u001B[1;33m\u001B[0m\u001B[1;33m\u001B[0m\u001B[0m\n",
      "\u001B[1;31mKeyError\u001B[0m: 'stop_name'"
     ]
    }
   ],
   "source": [
    "names = pd.read_csv('stop_names.csv', index_col=0, dtype={'stop_index': 'Int32'}).set_index('stop_name')\n",
    "trip = trip.join(names, on='stop_name')"
   ],
   "metadata": {
    "collapsed": false,
    "pycharm": {
     "name": "#%%\n"
    }
   }
  },
  {
   "cell_type": "code",
   "execution_count": 58,
   "outputs": [
    {
     "data": {
      "text/plain": "                              stop_time  stop_index\norigin_time                                        \n2020-08-05 11:34:00 2020-08-05 11:34:30           0\n2020-08-05 11:34:00 2020-08-05 11:37:00           1\n2020-08-05 11:34:00 2020-08-05 11:38:00           2\n2020-08-05 11:34:00 2020-08-05 11:39:00           3\n2020-08-05 11:34:00 2020-08-05 11:40:00           4\n2020-08-05 11:34:00 2020-08-05 11:41:00           5\n2020-08-05 11:34:00 2020-08-05 11:43:00           6\n2020-08-05 11:34:00 2020-08-05 11:44:30           7\n2020-08-05 11:34:00 2020-08-05 11:46:00           8\n2020-08-05 11:34:00 2020-08-05 11:47:00           9\n2020-08-05 11:34:00 2020-08-05 11:48:00          10\n2020-08-05 11:34:00 2020-08-05 11:49:00          11\n2020-08-05 11:34:00 2020-08-05 11:50:00          12\n2020-08-05 11:34:00 2020-08-05 11:51:30          13\n2020-08-05 11:34:00 2020-08-05 11:53:30          14\n2020-08-05 11:34:00 2020-08-05 11:55:30          15\n2020-08-05 11:34:00 2020-08-05 11:57:00          16\n2020-08-05 11:34:00 2020-08-05 11:58:00          17\n2020-08-05 11:34:00 2020-08-05 12:00:00          18\n2020-08-05 11:34:00 2020-08-05 12:01:00          19\n2020-08-05 11:34:00 2020-08-05 12:03:00          20\n2020-08-05 11:34:00 2020-08-05 12:04:30          21\n2020-08-05 11:34:00 2020-08-05 12:06:00          22\n2020-08-05 11:34:00 2020-08-05 12:07:00          23\n2020-08-05 11:34:00 2020-08-05 12:09:30          24\n2020-08-05 11:34:00 2020-08-05 12:11:30          25\n2020-08-05 11:34:00 2020-08-05 12:13:00          26\n2020-08-05 11:34:00 2020-08-05 12:15:00          27\n2020-08-05 11:34:00 2020-08-05 12:16:30          28\n2020-08-05 11:34:00 2020-08-05 12:18:30          29\n2020-08-05 11:34:00 2020-08-05 12:20:00          30\n2020-08-05 11:34:00 2020-08-05 12:21:00          31\n2020-08-05 11:34:00 2020-08-05 12:22:30          32\n2020-08-05 11:34:00 2020-08-05 12:24:00          33\n2020-08-05 11:34:00 2020-08-05 12:25:30          34\n2020-08-05 11:34:00 2020-08-05 12:27:00          35\n2020-08-05 11:34:00 2020-08-05 12:28:30          36\n2020-08-05 11:34:00 2020-08-05 12:32:30          37",
      "text/html": "<div>\n<style scoped>\n    .dataframe tbody tr th:only-of-type {\n        vertical-align: middle;\n    }\n\n    .dataframe tbody tr th {\n        vertical-align: top;\n    }\n\n    .dataframe thead th {\n        text-align: right;\n    }\n</style>\n<table border=\"1\" class=\"dataframe\">\n  <thead>\n    <tr style=\"text-align: right;\">\n      <th></th>\n      <th>stop_time</th>\n      <th>stop_index</th>\n    </tr>\n    <tr>\n      <th>origin_time</th>\n      <th></th>\n      <th></th>\n    </tr>\n  </thead>\n  <tbody>\n    <tr>\n      <th>2020-08-05 11:34:00</th>\n      <td>2020-08-05 11:34:30</td>\n      <td>0</td>\n    </tr>\n    <tr>\n      <th>2020-08-05 11:34:00</th>\n      <td>2020-08-05 11:37:00</td>\n      <td>1</td>\n    </tr>\n    <tr>\n      <th>2020-08-05 11:34:00</th>\n      <td>2020-08-05 11:38:00</td>\n      <td>2</td>\n    </tr>\n    <tr>\n      <th>2020-08-05 11:34:00</th>\n      <td>2020-08-05 11:39:00</td>\n      <td>3</td>\n    </tr>\n    <tr>\n      <th>2020-08-05 11:34:00</th>\n      <td>2020-08-05 11:40:00</td>\n      <td>4</td>\n    </tr>\n    <tr>\n      <th>2020-08-05 11:34:00</th>\n      <td>2020-08-05 11:41:00</td>\n      <td>5</td>\n    </tr>\n    <tr>\n      <th>2020-08-05 11:34:00</th>\n      <td>2020-08-05 11:43:00</td>\n      <td>6</td>\n    </tr>\n    <tr>\n      <th>2020-08-05 11:34:00</th>\n      <td>2020-08-05 11:44:30</td>\n      <td>7</td>\n    </tr>\n    <tr>\n      <th>2020-08-05 11:34:00</th>\n      <td>2020-08-05 11:46:00</td>\n      <td>8</td>\n    </tr>\n    <tr>\n      <th>2020-08-05 11:34:00</th>\n      <td>2020-08-05 11:47:00</td>\n      <td>9</td>\n    </tr>\n    <tr>\n      <th>2020-08-05 11:34:00</th>\n      <td>2020-08-05 11:48:00</td>\n      <td>10</td>\n    </tr>\n    <tr>\n      <th>2020-08-05 11:34:00</th>\n      <td>2020-08-05 11:49:00</td>\n      <td>11</td>\n    </tr>\n    <tr>\n      <th>2020-08-05 11:34:00</th>\n      <td>2020-08-05 11:50:00</td>\n      <td>12</td>\n    </tr>\n    <tr>\n      <th>2020-08-05 11:34:00</th>\n      <td>2020-08-05 11:51:30</td>\n      <td>13</td>\n    </tr>\n    <tr>\n      <th>2020-08-05 11:34:00</th>\n      <td>2020-08-05 11:53:30</td>\n      <td>14</td>\n    </tr>\n    <tr>\n      <th>2020-08-05 11:34:00</th>\n      <td>2020-08-05 11:55:30</td>\n      <td>15</td>\n    </tr>\n    <tr>\n      <th>2020-08-05 11:34:00</th>\n      <td>2020-08-05 11:57:00</td>\n      <td>16</td>\n    </tr>\n    <tr>\n      <th>2020-08-05 11:34:00</th>\n      <td>2020-08-05 11:58:00</td>\n      <td>17</td>\n    </tr>\n    <tr>\n      <th>2020-08-05 11:34:00</th>\n      <td>2020-08-05 12:00:00</td>\n      <td>18</td>\n    </tr>\n    <tr>\n      <th>2020-08-05 11:34:00</th>\n      <td>2020-08-05 12:01:00</td>\n      <td>19</td>\n    </tr>\n    <tr>\n      <th>2020-08-05 11:34:00</th>\n      <td>2020-08-05 12:03:00</td>\n      <td>20</td>\n    </tr>\n    <tr>\n      <th>2020-08-05 11:34:00</th>\n      <td>2020-08-05 12:04:30</td>\n      <td>21</td>\n    </tr>\n    <tr>\n      <th>2020-08-05 11:34:00</th>\n      <td>2020-08-05 12:06:00</td>\n      <td>22</td>\n    </tr>\n    <tr>\n      <th>2020-08-05 11:34:00</th>\n      <td>2020-08-05 12:07:00</td>\n      <td>23</td>\n    </tr>\n    <tr>\n      <th>2020-08-05 11:34:00</th>\n      <td>2020-08-05 12:09:30</td>\n      <td>24</td>\n    </tr>\n    <tr>\n      <th>2020-08-05 11:34:00</th>\n      <td>2020-08-05 12:11:30</td>\n      <td>25</td>\n    </tr>\n    <tr>\n      <th>2020-08-05 11:34:00</th>\n      <td>2020-08-05 12:13:00</td>\n      <td>26</td>\n    </tr>\n    <tr>\n      <th>2020-08-05 11:34:00</th>\n      <td>2020-08-05 12:15:00</td>\n      <td>27</td>\n    </tr>\n    <tr>\n      <th>2020-08-05 11:34:00</th>\n      <td>2020-08-05 12:16:30</td>\n      <td>28</td>\n    </tr>\n    <tr>\n      <th>2020-08-05 11:34:00</th>\n      <td>2020-08-05 12:18:30</td>\n      <td>29</td>\n    </tr>\n    <tr>\n      <th>2020-08-05 11:34:00</th>\n      <td>2020-08-05 12:20:00</td>\n      <td>30</td>\n    </tr>\n    <tr>\n      <th>2020-08-05 11:34:00</th>\n      <td>2020-08-05 12:21:00</td>\n      <td>31</td>\n    </tr>\n    <tr>\n      <th>2020-08-05 11:34:00</th>\n      <td>2020-08-05 12:22:30</td>\n      <td>32</td>\n    </tr>\n    <tr>\n      <th>2020-08-05 11:34:00</th>\n      <td>2020-08-05 12:24:00</td>\n      <td>33</td>\n    </tr>\n    <tr>\n      <th>2020-08-05 11:34:00</th>\n      <td>2020-08-05 12:25:30</td>\n      <td>34</td>\n    </tr>\n    <tr>\n      <th>2020-08-05 11:34:00</th>\n      <td>2020-08-05 12:27:00</td>\n      <td>35</td>\n    </tr>\n    <tr>\n      <th>2020-08-05 11:34:00</th>\n      <td>2020-08-05 12:28:30</td>\n      <td>36</td>\n    </tr>\n    <tr>\n      <th>2020-08-05 11:34:00</th>\n      <td>2020-08-05 12:32:30</td>\n      <td>37</td>\n    </tr>\n  </tbody>\n</table>\n</div>"
     },
     "execution_count": 58,
     "metadata": {},
     "output_type": "execute_result"
    }
   ],
   "source": [],
   "metadata": {
    "collapsed": false,
    "pycharm": {
     "name": "#%%\n"
    }
   }
  },
  {
   "cell_type": "code",
   "execution_count": 122,
   "outputs": [],
   "source": [
    "trip = trip.drop(['stop_id', 'stop_name', 'stop_index'],axis=1)"
   ],
   "metadata": {
    "collapsed": false,
    "pycharm": {
     "name": "#%%\n"
    }
   }
  },
  {
   "cell_type": "code",
   "execution_count": 123,
   "outputs": [
    {
     "data": {
      "text/plain": "Timestamp('2020-08-05 00:00:00')"
     },
     "execution_count": 123,
     "metadata": {},
     "output_type": "execute_result"
    }
   ],
   "source": [
    "trip_date = trip['origin_time'][0].floor('d')\n",
    "trip_date"
   ],
   "metadata": {
    "collapsed": false,
    "pycharm": {
     "name": "#%%\n"
    }
   }
  },
  {
   "cell_type": "code",
   "execution_count": 124,
   "outputs": [],
   "source": [
    "trip = trip + pd.Timedelta(minutes=17) - trip_date"
   ],
   "metadata": {
    "collapsed": false,
    "pycharm": {
     "name": "#%%\n"
    }
   }
  },
  {
   "cell_type": "code",
   "execution_count": 126,
   "outputs": [
    {
     "data": {
      "text/plain": "   origin_time stop_time\n0     11:51:00  11:51:30\n1     11:51:00  11:54:00\n2     11:51:00  11:55:00\n3     11:51:00  11:56:00\n4     11:51:00  11:57:00\n5     11:51:00  11:58:00\n6     11:51:00  12:00:00\n7     11:51:00  12:01:30\n8     11:51:00  12:03:00\n9     11:51:00  12:04:00\n10    11:51:00  12:05:00\n11    11:51:00  12:06:00\n12    11:51:00  12:07:00\n13    11:51:00  12:08:30\n14    11:51:00  12:10:30\n15    11:51:00  12:12:30\n16    11:51:00  12:14:00\n17    11:51:00  12:15:00\n18    11:51:00  12:17:00\n19    11:51:00  12:18:00\n20    11:51:00  12:20:00\n21    11:51:00  12:21:30\n22    11:51:00  12:23:00\n23    11:51:00  12:24:00\n24    11:51:00  12:26:30\n25    11:51:00  12:28:30\n26    11:51:00  12:30:00\n27    11:51:00  12:32:00\n28    11:51:00  12:33:30\n29    11:51:00  12:35:30\n30    11:51:00  12:37:00\n31    11:51:00  12:38:00\n32    11:51:00  12:39:30\n33    11:51:00  12:41:00\n34    11:51:00  12:42:30\n35    11:51:00  12:44:00\n36    11:51:00  12:45:30\n37    11:51:00  12:49:30",
      "text/html": "<div>\n<style scoped>\n    .dataframe tbody tr th:only-of-type {\n        vertical-align: middle;\n    }\n\n    .dataframe tbody tr th {\n        vertical-align: top;\n    }\n\n    .dataframe thead th {\n        text-align: right;\n    }\n</style>\n<table border=\"1\" class=\"dataframe\">\n  <thead>\n    <tr style=\"text-align: right;\">\n      <th></th>\n      <th>origin_time</th>\n      <th>stop_time</th>\n    </tr>\n  </thead>\n  <tbody>\n    <tr>\n      <th>0</th>\n      <td>11:51:00</td>\n      <td>11:51:30</td>\n    </tr>\n    <tr>\n      <th>1</th>\n      <td>11:51:00</td>\n      <td>11:54:00</td>\n    </tr>\n    <tr>\n      <th>2</th>\n      <td>11:51:00</td>\n      <td>11:55:00</td>\n    </tr>\n    <tr>\n      <th>3</th>\n      <td>11:51:00</td>\n      <td>11:56:00</td>\n    </tr>\n    <tr>\n      <th>4</th>\n      <td>11:51:00</td>\n      <td>11:57:00</td>\n    </tr>\n    <tr>\n      <th>5</th>\n      <td>11:51:00</td>\n      <td>11:58:00</td>\n    </tr>\n    <tr>\n      <th>6</th>\n      <td>11:51:00</td>\n      <td>12:00:00</td>\n    </tr>\n    <tr>\n      <th>7</th>\n      <td>11:51:00</td>\n      <td>12:01:30</td>\n    </tr>\n    <tr>\n      <th>8</th>\n      <td>11:51:00</td>\n      <td>12:03:00</td>\n    </tr>\n    <tr>\n      <th>9</th>\n      <td>11:51:00</td>\n      <td>12:04:00</td>\n    </tr>\n    <tr>\n      <th>10</th>\n      <td>11:51:00</td>\n      <td>12:05:00</td>\n    </tr>\n    <tr>\n      <th>11</th>\n      <td>11:51:00</td>\n      <td>12:06:00</td>\n    </tr>\n    <tr>\n      <th>12</th>\n      <td>11:51:00</td>\n      <td>12:07:00</td>\n    </tr>\n    <tr>\n      <th>13</th>\n      <td>11:51:00</td>\n      <td>12:08:30</td>\n    </tr>\n    <tr>\n      <th>14</th>\n      <td>11:51:00</td>\n      <td>12:10:30</td>\n    </tr>\n    <tr>\n      <th>15</th>\n      <td>11:51:00</td>\n      <td>12:12:30</td>\n    </tr>\n    <tr>\n      <th>16</th>\n      <td>11:51:00</td>\n      <td>12:14:00</td>\n    </tr>\n    <tr>\n      <th>17</th>\n      <td>11:51:00</td>\n      <td>12:15:00</td>\n    </tr>\n    <tr>\n      <th>18</th>\n      <td>11:51:00</td>\n      <td>12:17:00</td>\n    </tr>\n    <tr>\n      <th>19</th>\n      <td>11:51:00</td>\n      <td>12:18:00</td>\n    </tr>\n    <tr>\n      <th>20</th>\n      <td>11:51:00</td>\n      <td>12:20:00</td>\n    </tr>\n    <tr>\n      <th>21</th>\n      <td>11:51:00</td>\n      <td>12:21:30</td>\n    </tr>\n    <tr>\n      <th>22</th>\n      <td>11:51:00</td>\n      <td>12:23:00</td>\n    </tr>\n    <tr>\n      <th>23</th>\n      <td>11:51:00</td>\n      <td>12:24:00</td>\n    </tr>\n    <tr>\n      <th>24</th>\n      <td>11:51:00</td>\n      <td>12:26:30</td>\n    </tr>\n    <tr>\n      <th>25</th>\n      <td>11:51:00</td>\n      <td>12:28:30</td>\n    </tr>\n    <tr>\n      <th>26</th>\n      <td>11:51:00</td>\n      <td>12:30:00</td>\n    </tr>\n    <tr>\n      <th>27</th>\n      <td>11:51:00</td>\n      <td>12:32:00</td>\n    </tr>\n    <tr>\n      <th>28</th>\n      <td>11:51:00</td>\n      <td>12:33:30</td>\n    </tr>\n    <tr>\n      <th>29</th>\n      <td>11:51:00</td>\n      <td>12:35:30</td>\n    </tr>\n    <tr>\n      <th>30</th>\n      <td>11:51:00</td>\n      <td>12:37:00</td>\n    </tr>\n    <tr>\n      <th>31</th>\n      <td>11:51:00</td>\n      <td>12:38:00</td>\n    </tr>\n    <tr>\n      <th>32</th>\n      <td>11:51:00</td>\n      <td>12:39:30</td>\n    </tr>\n    <tr>\n      <th>33</th>\n      <td>11:51:00</td>\n      <td>12:41:00</td>\n    </tr>\n    <tr>\n      <th>34</th>\n      <td>11:51:00</td>\n      <td>12:42:30</td>\n    </tr>\n    <tr>\n      <th>35</th>\n      <td>11:51:00</td>\n      <td>12:44:00</td>\n    </tr>\n    <tr>\n      <th>36</th>\n      <td>11:51:00</td>\n      <td>12:45:30</td>\n    </tr>\n    <tr>\n      <th>37</th>\n      <td>11:51:00</td>\n      <td>12:49:30</td>\n    </tr>\n  </tbody>\n</table>\n</div>"
     },
     "execution_count": 126,
     "metadata": {},
     "output_type": "execute_result"
    }
   ],
   "source": [
    "trip"
   ],
   "metadata": {
    "collapsed": false,
    "pycharm": {
     "name": "#%%\n"
    }
   }
  },
  {
   "cell_type": "code",
   "execution_count": 110,
   "outputs": [
    {
     "data": {
      "text/plain": "TimedeltaIndex(['00:00:00', '00:06:00', '00:12:00', '00:18:00', '00:24:00',\n                '00:30:00', '00:36:00', '00:42:00', '00:48:00'],\n               dtype='timedelta64[ns]', freq='6T')"
     },
     "execution_count": 110,
     "metadata": {},
     "output_type": "execute_result"
    }
   ],
   "source": [
    "# will be ten trips per day across all the days\n",
    "expected_starts = pd.timedelta_range(start='00:00:00',\n",
    "                                     periods=9, freq='6T')\n",
    "expected_starts"
   ],
   "metadata": {
    "collapsed": false,
    "pycharm": {
     "name": "#%%\n"
    }
   }
  },
  {
   "cell_type": "code",
   "execution_count": 113,
   "outputs": [
    {
     "data": {
      "text/plain": "Timestamp('2020-01-10 00:00:00')"
     },
     "execution_count": 113,
     "metadata": {},
     "output_type": "execute_result"
    }
   ],
   "source": [],
   "metadata": {
    "collapsed": false,
    "pycharm": {
     "name": "#%%\n"
    }
   }
  },
  {
   "cell_type": "code",
   "execution_count": 128,
   "outputs": [
    {
     "data": {
      "text/plain": "DatetimeIndex(['2020-01-10', '2020-01-13', '2020-01-14', '2020-01-15',\n               '2020-01-16', '2020-01-17', '2020-01-20', '2020-01-21',\n               '2020-01-22', '2020-01-23', '2020-01-24', '2020-01-27',\n               '2020-01-28', '2020-01-29', '2020-01-30', '2020-01-31',\n               '2020-02-03', '2020-02-04', '2020-02-05', '2020-02-06',\n               '2020-02-07', '2020-02-10', '2020-02-11', '2020-02-12',\n               '2020-02-13', '2020-02-14', '2020-02-17', '2020-02-18',\n               '2020-02-19', '2020-02-20', '2020-02-21', '2020-02-24',\n               '2020-02-25', '2020-02-26', '2020-02-27', '2020-02-28',\n               '2020-03-02', '2020-03-03', '2020-03-04', '2020-03-05',\n               '2020-03-06', '2020-03-09', '2020-03-10', '2020-03-11',\n               '2020-03-12', '2020-03-13', '2020-03-16'],\n              dtype='datetime64[ns]', freq='B')"
     },
     "execution_count": 128,
     "metadata": {},
     "output_type": "execute_result"
    }
   ],
   "source": [
    "days = pd.date_range(afternoon.index[0].floor('d'),\n",
    "               afternoon.index[-1].floor('d'),\\\n",
    "               freq='B')"
   ],
   "metadata": {
    "collapsed": false,
    "pycharm": {
     "name": "#%%\n"
    }
   }
  },
  {
   "cell_type": "code",
   "execution_count": 135,
   "outputs": [],
   "source": [
    "all_times = pd.concat([min_delta + day_delta + trip\n",
    "           for day_delta in days\n",
    "           for min_delta in expected_starts], axis=0)"
   ],
   "metadata": {
    "collapsed": false,
    "pycharm": {
     "name": "#%%\n"
    }
   }
  },
  {
   "cell_type": "code",
   "execution_count": 141,
   "outputs": [],
   "source": [
    "all_times['stop_index'] = all_times.index\n",
    "all_times = all_times.pivot(index='origin_time', columns='stop_index')"
   ],
   "metadata": {
    "collapsed": false,
    "pycharm": {
     "name": "#%%\n"
    }
   }
  },
  {
   "cell_type": "code",
   "execution_count": 152,
   "outputs": [
    {
     "ename": "ValueError",
     "evalue": "Cannot remove 1 levels from an index with 1 levels: at least one level must be left.",
     "output_type": "error",
     "traceback": [
      "\u001B[1;31m---------------------------------------------------------------------------\u001B[0m",
      "\u001B[1;31mValueError\u001B[0m                                Traceback (most recent call last)",
      "\u001B[1;32m<ipython-input-152-e4ad14bd4d59>\u001B[0m in \u001B[0;36m<module>\u001B[1;34m\u001B[0m\n\u001B[1;32m----> 1\u001B[1;33m \u001B[0mall_times\u001B[0m\u001B[1;33m.\u001B[0m\u001B[0mcolumns\u001B[0m \u001B[1;33m=\u001B[0m \u001B[0mall_times\u001B[0m\u001B[1;33m.\u001B[0m\u001B[0mcolumns\u001B[0m\u001B[1;33m.\u001B[0m\u001B[0mdroplevel\u001B[0m\u001B[1;33m(\u001B[0m\u001B[0mlevel\u001B[0m\u001B[1;33m=\u001B[0m\u001B[1;36m0\u001B[0m\u001B[1;33m)\u001B[0m\u001B[1;33m\u001B[0m\u001B[1;33m\u001B[0m\u001B[0m\n\u001B[0m\u001B[0;32m      2\u001B[0m \u001B[0mall_times\u001B[0m\u001B[1;33m.\u001B[0m\u001B[0mindex\u001B[0m\u001B[1;33m.\u001B[0m\u001B[0mname\u001B[0m \u001B[1;33m=\u001B[0m \u001B[1;32mNone\u001B[0m\u001B[1;33m\u001B[0m\u001B[1;33m\u001B[0m\u001B[0m\n\u001B[0;32m      3\u001B[0m \u001B[0mall_times\u001B[0m\u001B[1;33m.\u001B[0m\u001B[0mcolumns\u001B[0m\u001B[1;33m.\u001B[0m\u001B[0mname\u001B[0m \u001B[1;33m=\u001B[0m \u001B[1;32mNone\u001B[0m\u001B[1;33m\u001B[0m\u001B[1;33m\u001B[0m\u001B[0m\n",
      "\u001B[1;32mc:\\users\\stewarsa\\pycharmprojects\\subway-delay\\venv\\lib\\site-packages\\pandas\\core\\indexes\\base.py\u001B[0m in \u001B[0;36mdroplevel\u001B[1;34m(self, level)\u001B[0m\n\u001B[0;32m   1509\u001B[0m             \u001B[1;32mreturn\u001B[0m \u001B[0mself\u001B[0m\u001B[1;33m\u001B[0m\u001B[1;33m\u001B[0m\u001B[0m\n\u001B[0;32m   1510\u001B[0m         \u001B[1;32mif\u001B[0m \u001B[0mlen\u001B[0m\u001B[1;33m(\u001B[0m\u001B[0mlevel\u001B[0m\u001B[1;33m)\u001B[0m \u001B[1;33m>=\u001B[0m \u001B[0mself\u001B[0m\u001B[1;33m.\u001B[0m\u001B[0mnlevels\u001B[0m\u001B[1;33m:\u001B[0m\u001B[1;33m\u001B[0m\u001B[1;33m\u001B[0m\u001B[0m\n\u001B[1;32m-> 1511\u001B[1;33m             raise ValueError(\n\u001B[0m\u001B[0;32m   1512\u001B[0m                 \u001B[1;34mf\"Cannot remove {len(level)} levels from an index with {self.nlevels} \"\u001B[0m\u001B[1;33m\u001B[0m\u001B[1;33m\u001B[0m\u001B[0m\n\u001B[0;32m   1513\u001B[0m                 \u001B[1;34m\"levels: at least one level must be left.\"\u001B[0m\u001B[1;33m\u001B[0m\u001B[1;33m\u001B[0m\u001B[0m\n",
      "\u001B[1;31mValueError\u001B[0m: Cannot remove 1 levels from an index with 1 levels: at least one level must be left."
     ]
    }
   ],
   "source": [
    "all_times.columns = all_times.columns.droplevel(level=0)\n",
    "all_times.index.name = None\n",
    "all_times.columns.name = None"
   ],
   "metadata": {
    "collapsed": false,
    "pycharm": {
     "name": "#%%\n"
    }
   }
  },
  {
   "cell_type": "code",
   "execution_count": 235,
   "outputs": [],
   "source": [
    "whole = afternoon.join(all_times, rsuffix='_expected')\n",
    "whole.to_pickle('expected_and_actual.pkl')"
   ],
   "metadata": {
    "collapsed": false,
    "pycharm": {
     "name": "#%%\n"
    }
   }
  },
  {
   "cell_type": "code",
   "execution_count": 236,
   "outputs": [],
   "source": [
    "expected = whole.columns.str.contains('expected')\n",
    "actual = whole.loc[:, ~expected]\n",
    "hoped = whole.loc[:, expected]\n",
    "hoped.to_pickle('hoped.pkl')\n",
    "actual.to_pickle('actual.pkl')"
   ],
   "metadata": {
    "collapsed": false,
    "pycharm": {
     "name": "#%%\n"
    }
   }
  },
  {
   "cell_type": "code",
   "execution_count": 239,
   "outputs": [],
   "source": [
    "# get rid of suffix\n",
    "hoped.columns = hoped.columns.str.strip('_expected')"
   ],
   "metadata": {
    "collapsed": false,
    "pycharm": {
     "name": "#%%\n"
    }
   }
  },
  {
   "cell_type": "code",
   "execution_count": 241,
   "outputs": [],
   "source": [
    "diffs = (actual - hoped)"
   ],
   "metadata": {
    "collapsed": false,
    "pycharm": {
     "name": "#%%\n"
    }
   }
  },
  {
   "cell_type": "code",
   "execution_count": 265,
   "outputs": [
    {
     "data": {
      "text/plain": "-78.63966480446928"
     },
     "execution_count": 265,
     "metadata": {},
     "output_type": "execute_result"
    }
   ],
   "source": [
    "pd.options.plotting.backend = \"plotly\"\n",
    "\n",
    "diffs.apply(lambda c: c.dt.total_seconds(), axis=0)['37'].mean()"
   ],
   "metadata": {
    "collapsed": false,
    "pycharm": {
     "name": "#%%\n"
    }
   }
  },
  {
   "cell_type": "code",
   "execution_count": 266,
   "outputs": [
    {
     "data": {
      "application/vnd.plotly.v1+json": {
       "config": {
        "plotlyServerURL": "https://plot.ly"
       },
       "data": [
        {
         "alignmentgroup": "True",
         "bingroup": "x",
         "hovertemplate": "variable=37<br>value=%{x}<br>count=%{y}<extra></extra>",
         "legendgroup": "37",
         "marker": {
          "color": "#636efa"
         },
         "name": "37",
         "offsetgroup": "37",
         "orientation": "v",
         "showlegend": true,
         "type": "histogram",
         "x": [
          -11.0,
          266.0,
          67.0,
          121.00000000000001,
          35.0,
          240.00000000000003,
          95.0,
          -91.0,
          -89.0,
          42.0,
          -29.000000000000004,
          -109.0,
          -148.0,
          null,
          null,
          15.000000000000002,
          -4.0,
          -97.0,
          -86.0,
          123.00000000000001,
          129.0,
          -30.000000000000004,
          -175.0,
          296.0,
          125.00000000000001,
          143.0,
          -98.0,
          123.00000000000001,
          103.0,
          138.0,
          35.0,
          -100.0,
          -25.0,
          59.00000000000001,
          -143.0,
          20.0,
          -121.00000000000001,
          130.0,
          -29.000000000000004,
          -123.00000000000001,
          110.0,
          -84.0,
          -11.0,
          -14.0,
          -216.0,
          -48.0,
          -165.0,
          -196.0,
          -199.0,
          -148.0,
          -85.0,
          73.0,
          -185.0,
          -171.0,
          102.0,
          -141.0,
          -184.0,
          -126.00000000000001,
          -24.0,
          -140.0,
          122.00000000000001,
          -129.0,
          -116.00000000000001,
          -174.0,
          -110.0,
          54.0,
          -151.0,
          -31.000000000000004,
          -59.00000000000001,
          90.0,
          -144.0,
          -181.0,
          -209.0,
          61.00000000000001,
          -201.0,
          -65.0,
          159.0,
          191.0,
          46.0,
          -185.0,
          -162.0,
          -221.0,
          -138.0,
          -76.0,
          -168.0,
          -79.0,
          -192.0,
          -92.0,
          -181.0,
          -246.00000000000003,
          -226.0,
          -247.00000000000003,
          -273.0,
          -19.0,
          -238.00000000000003,
          65.0,
          -179.0,
          -202.0,
          94.0,
          42.0,
          -14.0,
          -150.0,
          -182.0,
          226.0,
          -36.0,
          158.0,
          -106.0,
          69.0,
          120.00000000000001,
          139.0,
          29.000000000000004,
          -162.0,
          0.0,
          106.0,
          44.0,
          -199.0,
          136.0,
          -66.0,
          -95.0,
          -176.0,
          -267.0,
          4.0,
          -238.00000000000003,
          72.0,
          -157.0,
          -59.00000000000001,
          -258.0,
          77.0,
          -160.0,
          -233.00000000000003,
          -44.0,
          -201.0,
          -159.0,
          -245.00000000000003,
          -160.0,
          -184.0,
          -118.00000000000001,
          -255.00000000000003,
          -223.0,
          63.00000000000001,
          -174.0,
          -11.0,
          -159.0,
          null,
          -41.0,
          99.0,
          46.0,
          107.0,
          -125.00000000000001,
          -55.0,
          -152.0,
          -218.0,
          -39.0,
          null,
          null,
          null,
          -248.00000000000003,
          -120.00000000000001,
          -167.0,
          143.0,
          132.0,
          -258.0,
          -103.0,
          -65.0,
          -226.0,
          -271.0,
          -99.0,
          -245.00000000000003,
          -172.0,
          -85.0,
          null,
          null,
          null,
          null,
          null,
          null,
          668.0,
          454.0,
          642.0,
          null,
          null,
          36.0,
          -196.0,
          -219.0,
          138.0,
          -54.0,
          172.0,
          -84.0,
          -116.00000000000001,
          -195.0,
          -35.0,
          -144.0,
          -88.0,
          -175.0,
          -151.0,
          -139.0,
          -149.0,
          -225.0,
          -102.0,
          -71.0,
          -240.00000000000003,
          -251.00000000000003,
          -120.00000000000001,
          null,
          null,
          null,
          -200.0,
          -168.0,
          -91.0,
          -198.0,
          -144.0,
          -20.0,
          -244.00000000000003,
          79.0,
          -181.0,
          -181.0,
          -165.0,
          -192.0,
          -199.0,
          143.0,
          null,
          null,
          null,
          -198.0,
          -204.0,
          102.0,
          -151.0,
          -233.00000000000003,
          -134.0,
          -204.0,
          -195.0,
          71.0,
          -178.0,
          33.0,
          -109.0,
          -254.00000000000003,
          -139.0,
          null,
          null,
          null,
          -129.0,
          -261.0,
          -10.0,
          -125.00000000000001,
          -250.00000000000003,
          -121.00000000000001,
          68.0,
          -137.0,
          -20.0,
          -165.0,
          119.00000000000001,
          -121.00000000000001,
          114.0,
          -97.0,
          176.0,
          -3.0,
          -166.0,
          310.0,
          62.00000000000001,
          -228.0,
          -159.0,
          -172.0,
          -246.00000000000003,
          -275.0,
          22.0,
          -197.0,
          -76.0,
          -226.0,
          -98.0,
          -225.0,
          -79.0,
          154.0,
          107.0,
          -16.0,
          -244.00000000000003,
          null,
          null,
          184.0,
          137.0,
          -29.000000000000004,
          null,
          null,
          -73.0,
          -36.0,
          138.0,
          -123.00000000000001,
          -76.0,
          -99.0,
          -113.0,
          -204.0,
          -264.0,
          -143.0,
          -111.0,
          -185.0,
          -250.00000000000003,
          69.0,
          100.0,
          112.0,
          102.0,
          -138.0,
          -63.00000000000001,
          -160.0,
          -261.0,
          -200.0,
          null,
          null,
          null,
          -3.0,
          -11.0,
          88.0,
          26.0,
          50.0,
          -161.0,
          -190.0,
          8.0,
          -134.0,
          -160.0,
          -228.0,
          -175.0,
          -184.0,
          -131.0,
          -223.0,
          104.0,
          16.0,
          -79.0,
          114.0,
          104.0,
          127.00000000000001,
          null,
          null,
          -216.0,
          -142.0,
          -208.0,
          -212.0,
          -199.0,
          -42.0,
          -164.0,
          null,
          -215.0,
          -156.0,
          -53.0,
          -128.0,
          -185.0,
          -168.0,
          -53.0,
          -198.0,
          -181.0,
          -177.0,
          -248.00000000000003,
          -7.0,
          -112.0,
          -232.00000000000003,
          -212.0,
          -96.0,
          -190.0,
          86.0,
          -155.0,
          -210.0,
          -119.00000000000001,
          133.0,
          -132.0,
          -265.0,
          -133.0,
          -263.0,
          null,
          null,
          -151.0,
          -110.0,
          -151.0,
          -246.00000000000003,
          -238.00000000000003,
          -27.0,
          -213.0,
          -113.0,
          -210.0,
          -253.00000000000003,
          -223.0,
          -213.0,
          -255.00000000000003,
          -243.00000000000003,
          -139.0,
          -209.0,
          -258.0,
          -84.0,
          90.0,
          -8.0,
          89.0,
          152.0,
          99.0,
          10.0,
          -155.0,
          -121.00000000000001,
          -246.00000000000003
         ],
         "xaxis": "x",
         "yaxis": "y"
        }
       ],
       "layout": {
        "barmode": "relative",
        "legend": {
         "title": {
          "text": "variable"
         },
         "tracegroupgap": 0
        },
        "margin": {
         "t": 60
        },
        "template": {
         "data": {
          "bar": [
           {
            "error_x": {
             "color": "#2a3f5f"
            },
            "error_y": {
             "color": "#2a3f5f"
            },
            "marker": {
             "line": {
              "color": "#E5ECF6",
              "width": 0.5
             }
            },
            "type": "bar"
           }
          ],
          "barpolar": [
           {
            "marker": {
             "line": {
              "color": "#E5ECF6",
              "width": 0.5
             }
            },
            "type": "barpolar"
           }
          ],
          "carpet": [
           {
            "aaxis": {
             "endlinecolor": "#2a3f5f",
             "gridcolor": "white",
             "linecolor": "white",
             "minorgridcolor": "white",
             "startlinecolor": "#2a3f5f"
            },
            "baxis": {
             "endlinecolor": "#2a3f5f",
             "gridcolor": "white",
             "linecolor": "white",
             "minorgridcolor": "white",
             "startlinecolor": "#2a3f5f"
            },
            "type": "carpet"
           }
          ],
          "choropleth": [
           {
            "colorbar": {
             "outlinewidth": 0,
             "ticks": ""
            },
            "type": "choropleth"
           }
          ],
          "contour": [
           {
            "colorbar": {
             "outlinewidth": 0,
             "ticks": ""
            },
            "colorscale": [
             [
              0.0,
              "#0d0887"
             ],
             [
              0.1111111111111111,
              "#46039f"
             ],
             [
              0.2222222222222222,
              "#7201a8"
             ],
             [
              0.3333333333333333,
              "#9c179e"
             ],
             [
              0.4444444444444444,
              "#bd3786"
             ],
             [
              0.5555555555555556,
              "#d8576b"
             ],
             [
              0.6666666666666666,
              "#ed7953"
             ],
             [
              0.7777777777777778,
              "#fb9f3a"
             ],
             [
              0.8888888888888888,
              "#fdca26"
             ],
             [
              1.0,
              "#f0f921"
             ]
            ],
            "type": "contour"
           }
          ],
          "contourcarpet": [
           {
            "colorbar": {
             "outlinewidth": 0,
             "ticks": ""
            },
            "type": "contourcarpet"
           }
          ],
          "heatmap": [
           {
            "colorbar": {
             "outlinewidth": 0,
             "ticks": ""
            },
            "colorscale": [
             [
              0.0,
              "#0d0887"
             ],
             [
              0.1111111111111111,
              "#46039f"
             ],
             [
              0.2222222222222222,
              "#7201a8"
             ],
             [
              0.3333333333333333,
              "#9c179e"
             ],
             [
              0.4444444444444444,
              "#bd3786"
             ],
             [
              0.5555555555555556,
              "#d8576b"
             ],
             [
              0.6666666666666666,
              "#ed7953"
             ],
             [
              0.7777777777777778,
              "#fb9f3a"
             ],
             [
              0.8888888888888888,
              "#fdca26"
             ],
             [
              1.0,
              "#f0f921"
             ]
            ],
            "type": "heatmap"
           }
          ],
          "heatmapgl": [
           {
            "colorbar": {
             "outlinewidth": 0,
             "ticks": ""
            },
            "colorscale": [
             [
              0.0,
              "#0d0887"
             ],
             [
              0.1111111111111111,
              "#46039f"
             ],
             [
              0.2222222222222222,
              "#7201a8"
             ],
             [
              0.3333333333333333,
              "#9c179e"
             ],
             [
              0.4444444444444444,
              "#bd3786"
             ],
             [
              0.5555555555555556,
              "#d8576b"
             ],
             [
              0.6666666666666666,
              "#ed7953"
             ],
             [
              0.7777777777777778,
              "#fb9f3a"
             ],
             [
              0.8888888888888888,
              "#fdca26"
             ],
             [
              1.0,
              "#f0f921"
             ]
            ],
            "type": "heatmapgl"
           }
          ],
          "histogram": [
           {
            "marker": {
             "colorbar": {
              "outlinewidth": 0,
              "ticks": ""
             }
            },
            "type": "histogram"
           }
          ],
          "histogram2d": [
           {
            "colorbar": {
             "outlinewidth": 0,
             "ticks": ""
            },
            "colorscale": [
             [
              0.0,
              "#0d0887"
             ],
             [
              0.1111111111111111,
              "#46039f"
             ],
             [
              0.2222222222222222,
              "#7201a8"
             ],
             [
              0.3333333333333333,
              "#9c179e"
             ],
             [
              0.4444444444444444,
              "#bd3786"
             ],
             [
              0.5555555555555556,
              "#d8576b"
             ],
             [
              0.6666666666666666,
              "#ed7953"
             ],
             [
              0.7777777777777778,
              "#fb9f3a"
             ],
             [
              0.8888888888888888,
              "#fdca26"
             ],
             [
              1.0,
              "#f0f921"
             ]
            ],
            "type": "histogram2d"
           }
          ],
          "histogram2dcontour": [
           {
            "colorbar": {
             "outlinewidth": 0,
             "ticks": ""
            },
            "colorscale": [
             [
              0.0,
              "#0d0887"
             ],
             [
              0.1111111111111111,
              "#46039f"
             ],
             [
              0.2222222222222222,
              "#7201a8"
             ],
             [
              0.3333333333333333,
              "#9c179e"
             ],
             [
              0.4444444444444444,
              "#bd3786"
             ],
             [
              0.5555555555555556,
              "#d8576b"
             ],
             [
              0.6666666666666666,
              "#ed7953"
             ],
             [
              0.7777777777777778,
              "#fb9f3a"
             ],
             [
              0.8888888888888888,
              "#fdca26"
             ],
             [
              1.0,
              "#f0f921"
             ]
            ],
            "type": "histogram2dcontour"
           }
          ],
          "mesh3d": [
           {
            "colorbar": {
             "outlinewidth": 0,
             "ticks": ""
            },
            "type": "mesh3d"
           }
          ],
          "parcoords": [
           {
            "line": {
             "colorbar": {
              "outlinewidth": 0,
              "ticks": ""
             }
            },
            "type": "parcoords"
           }
          ],
          "pie": [
           {
            "automargin": true,
            "type": "pie"
           }
          ],
          "scatter": [
           {
            "marker": {
             "colorbar": {
              "outlinewidth": 0,
              "ticks": ""
             }
            },
            "type": "scatter"
           }
          ],
          "scatter3d": [
           {
            "line": {
             "colorbar": {
              "outlinewidth": 0,
              "ticks": ""
             }
            },
            "marker": {
             "colorbar": {
              "outlinewidth": 0,
              "ticks": ""
             }
            },
            "type": "scatter3d"
           }
          ],
          "scattercarpet": [
           {
            "marker": {
             "colorbar": {
              "outlinewidth": 0,
              "ticks": ""
             }
            },
            "type": "scattercarpet"
           }
          ],
          "scattergeo": [
           {
            "marker": {
             "colorbar": {
              "outlinewidth": 0,
              "ticks": ""
             }
            },
            "type": "scattergeo"
           }
          ],
          "scattergl": [
           {
            "marker": {
             "colorbar": {
              "outlinewidth": 0,
              "ticks": ""
             }
            },
            "type": "scattergl"
           }
          ],
          "scattermapbox": [
           {
            "marker": {
             "colorbar": {
              "outlinewidth": 0,
              "ticks": ""
             }
            },
            "type": "scattermapbox"
           }
          ],
          "scatterpolar": [
           {
            "marker": {
             "colorbar": {
              "outlinewidth": 0,
              "ticks": ""
             }
            },
            "type": "scatterpolar"
           }
          ],
          "scatterpolargl": [
           {
            "marker": {
             "colorbar": {
              "outlinewidth": 0,
              "ticks": ""
             }
            },
            "type": "scatterpolargl"
           }
          ],
          "scatterternary": [
           {
            "marker": {
             "colorbar": {
              "outlinewidth": 0,
              "ticks": ""
             }
            },
            "type": "scatterternary"
           }
          ],
          "surface": [
           {
            "colorbar": {
             "outlinewidth": 0,
             "ticks": ""
            },
            "colorscale": [
             [
              0.0,
              "#0d0887"
             ],
             [
              0.1111111111111111,
              "#46039f"
             ],
             [
              0.2222222222222222,
              "#7201a8"
             ],
             [
              0.3333333333333333,
              "#9c179e"
             ],
             [
              0.4444444444444444,
              "#bd3786"
             ],
             [
              0.5555555555555556,
              "#d8576b"
             ],
             [
              0.6666666666666666,
              "#ed7953"
             ],
             [
              0.7777777777777778,
              "#fb9f3a"
             ],
             [
              0.8888888888888888,
              "#fdca26"
             ],
             [
              1.0,
              "#f0f921"
             ]
            ],
            "type": "surface"
           }
          ],
          "table": [
           {
            "cells": {
             "fill": {
              "color": "#EBF0F8"
             },
             "line": {
              "color": "white"
             }
            },
            "header": {
             "fill": {
              "color": "#C8D4E3"
             },
             "line": {
              "color": "white"
             }
            },
            "type": "table"
           }
          ]
         },
         "layout": {
          "annotationdefaults": {
           "arrowcolor": "#2a3f5f",
           "arrowhead": 0,
           "arrowwidth": 1
          },
          "coloraxis": {
           "colorbar": {
            "outlinewidth": 0,
            "ticks": ""
           }
          },
          "colorscale": {
           "diverging": [
            [
             0,
             "#8e0152"
            ],
            [
             0.1,
             "#c51b7d"
            ],
            [
             0.2,
             "#de77ae"
            ],
            [
             0.3,
             "#f1b6da"
            ],
            [
             0.4,
             "#fde0ef"
            ],
            [
             0.5,
             "#f7f7f7"
            ],
            [
             0.6,
             "#e6f5d0"
            ],
            [
             0.7,
             "#b8e186"
            ],
            [
             0.8,
             "#7fbc41"
            ],
            [
             0.9,
             "#4d9221"
            ],
            [
             1,
             "#276419"
            ]
           ],
           "sequential": [
            [
             0.0,
             "#0d0887"
            ],
            [
             0.1111111111111111,
             "#46039f"
            ],
            [
             0.2222222222222222,
             "#7201a8"
            ],
            [
             0.3333333333333333,
             "#9c179e"
            ],
            [
             0.4444444444444444,
             "#bd3786"
            ],
            [
             0.5555555555555556,
             "#d8576b"
            ],
            [
             0.6666666666666666,
             "#ed7953"
            ],
            [
             0.7777777777777778,
             "#fb9f3a"
            ],
            [
             0.8888888888888888,
             "#fdca26"
            ],
            [
             1.0,
             "#f0f921"
            ]
           ],
           "sequentialminus": [
            [
             0.0,
             "#0d0887"
            ],
            [
             0.1111111111111111,
             "#46039f"
            ],
            [
             0.2222222222222222,
             "#7201a8"
            ],
            [
             0.3333333333333333,
             "#9c179e"
            ],
            [
             0.4444444444444444,
             "#bd3786"
            ],
            [
             0.5555555555555556,
             "#d8576b"
            ],
            [
             0.6666666666666666,
             "#ed7953"
            ],
            [
             0.7777777777777778,
             "#fb9f3a"
            ],
            [
             0.8888888888888888,
             "#fdca26"
            ],
            [
             1.0,
             "#f0f921"
            ]
           ]
          },
          "colorway": [
           "#636efa",
           "#EF553B",
           "#00cc96",
           "#ab63fa",
           "#FFA15A",
           "#19d3f3",
           "#FF6692",
           "#B6E880",
           "#FF97FF",
           "#FECB52"
          ],
          "font": {
           "color": "#2a3f5f"
          },
          "geo": {
           "bgcolor": "white",
           "lakecolor": "white",
           "landcolor": "#E5ECF6",
           "showlakes": true,
           "showland": true,
           "subunitcolor": "white"
          },
          "hoverlabel": {
           "align": "left"
          },
          "hovermode": "closest",
          "mapbox": {
           "style": "light"
          },
          "paper_bgcolor": "white",
          "plot_bgcolor": "#E5ECF6",
          "polar": {
           "angularaxis": {
            "gridcolor": "white",
            "linecolor": "white",
            "ticks": ""
           },
           "bgcolor": "#E5ECF6",
           "radialaxis": {
            "gridcolor": "white",
            "linecolor": "white",
            "ticks": ""
           }
          },
          "scene": {
           "xaxis": {
            "backgroundcolor": "#E5ECF6",
            "gridcolor": "white",
            "gridwidth": 2,
            "linecolor": "white",
            "showbackground": true,
            "ticks": "",
            "zerolinecolor": "white"
           },
           "yaxis": {
            "backgroundcolor": "#E5ECF6",
            "gridcolor": "white",
            "gridwidth": 2,
            "linecolor": "white",
            "showbackground": true,
            "ticks": "",
            "zerolinecolor": "white"
           },
           "zaxis": {
            "backgroundcolor": "#E5ECF6",
            "gridcolor": "white",
            "gridwidth": 2,
            "linecolor": "white",
            "showbackground": true,
            "ticks": "",
            "zerolinecolor": "white"
           }
          },
          "shapedefaults": {
           "line": {
            "color": "#2a3f5f"
           }
          },
          "ternary": {
           "aaxis": {
            "gridcolor": "white",
            "linecolor": "white",
            "ticks": ""
           },
           "baxis": {
            "gridcolor": "white",
            "linecolor": "white",
            "ticks": ""
           },
           "bgcolor": "#E5ECF6",
           "caxis": {
            "gridcolor": "white",
            "linecolor": "white",
            "ticks": ""
           }
          },
          "title": {
           "x": 0.05
          },
          "xaxis": {
           "automargin": true,
           "gridcolor": "white",
           "linecolor": "white",
           "ticks": "",
           "title": {
            "standoff": 15
           },
           "zerolinecolor": "white",
           "zerolinewidth": 2
          },
          "yaxis": {
           "automargin": true,
           "gridcolor": "white",
           "linecolor": "white",
           "ticks": "",
           "title": {
            "standoff": 15
           },
           "zerolinecolor": "white",
           "zerolinewidth": 2
          }
         }
        },
        "xaxis": {
         "anchor": "y",
         "domain": [
          0.0,
          1.0
         ],
         "title": {
          "text": "value"
         }
        },
        "yaxis": {
         "anchor": "x",
         "domain": [
          0.0,
          1.0
         ],
         "title": {
          "text": "count"
         }
        }
       }
      },
      "text/html": "<div>\n        \n        \n            <div id=\"9b3ac479-db44-47ca-b26c-f6313a687526\" class=\"plotly-graph-div\" style=\"height:525px; width:100%;\"></div>\n            <script type=\"text/javascript\">\n                require([\"plotly\"], function(Plotly) {\n                    window.PLOTLYENV=window.PLOTLYENV || {};\n                    \n                if (document.getElementById(\"9b3ac479-db44-47ca-b26c-f6313a687526\")) {\n                    Plotly.newPlot(\n                        '9b3ac479-db44-47ca-b26c-f6313a687526',\n                        [{\"alignmentgroup\": \"True\", \"bingroup\": \"x\", \"hovertemplate\": \"variable=37<br>value=%{x}<br>count=%{y}<extra></extra>\", \"legendgroup\": \"37\", \"marker\": {\"color\": \"#636efa\"}, \"name\": \"37\", \"offsetgroup\": \"37\", \"orientation\": \"v\", \"showlegend\": true, \"type\": \"histogram\", \"x\": [-11.0, 266.0, 67.0, 121.00000000000001, 35.0, 240.00000000000003, 95.0, -91.0, -89.0, 42.0, -29.000000000000004, -109.0, -148.0, null, null, 15.000000000000002, -4.0, -97.0, -86.0, 123.00000000000001, 129.0, -30.000000000000004, -175.0, 296.0, 125.00000000000001, 143.0, -98.0, 123.00000000000001, 103.0, 138.0, 35.0, -100.0, -25.0, 59.00000000000001, -143.0, 20.0, -121.00000000000001, 130.0, -29.000000000000004, -123.00000000000001, 110.0, -84.0, -11.0, -14.0, -216.0, -48.0, -165.0, -196.0, -199.0, -148.0, -85.0, 73.0, -185.0, -171.0, 102.0, -141.0, -184.0, -126.00000000000001, -24.0, -140.0, 122.00000000000001, -129.0, -116.00000000000001, -174.0, -110.0, 54.0, -151.0, -31.000000000000004, -59.00000000000001, 90.0, -144.0, -181.0, -209.0, 61.00000000000001, -201.0, -65.0, 159.0, 191.0, 46.0, -185.0, -162.0, -221.0, -138.0, -76.0, -168.0, -79.0, -192.0, -92.0, -181.0, -246.00000000000003, -226.0, -247.00000000000003, -273.0, -19.0, -238.00000000000003, 65.0, -179.0, -202.0, 94.0, 42.0, -14.0, -150.0, -182.0, 226.0, -36.0, 158.0, -106.0, 69.0, 120.00000000000001, 139.0, 29.000000000000004, -162.0, 0.0, 106.0, 44.0, -199.0, 136.0, -66.0, -95.0, -176.0, -267.0, 4.0, -238.00000000000003, 72.0, -157.0, -59.00000000000001, -258.0, 77.0, -160.0, -233.00000000000003, -44.0, -201.0, -159.0, -245.00000000000003, -160.0, -184.0, -118.00000000000001, -255.00000000000003, -223.0, 63.00000000000001, -174.0, -11.0, -159.0, null, -41.0, 99.0, 46.0, 107.0, -125.00000000000001, -55.0, -152.0, -218.0, -39.0, null, null, null, -248.00000000000003, -120.00000000000001, -167.0, 143.0, 132.0, -258.0, -103.0, -65.0, -226.0, -271.0, -99.0, -245.00000000000003, -172.0, -85.0, null, null, null, null, null, null, 668.0, 454.0, 642.0, null, null, 36.0, -196.0, -219.0, 138.0, -54.0, 172.0, -84.0, -116.00000000000001, -195.0, -35.0, -144.0, -88.0, -175.0, -151.0, -139.0, -149.0, -225.0, -102.0, -71.0, -240.00000000000003, -251.00000000000003, -120.00000000000001, null, null, null, -200.0, -168.0, -91.0, -198.0, -144.0, -20.0, -244.00000000000003, 79.0, -181.0, -181.0, -165.0, -192.0, -199.0, 143.0, null, null, null, -198.0, -204.0, 102.0, -151.0, -233.00000000000003, -134.0, -204.0, -195.0, 71.0, -178.0, 33.0, -109.0, -254.00000000000003, -139.0, null, null, null, -129.0, -261.0, -10.0, -125.00000000000001, -250.00000000000003, -121.00000000000001, 68.0, -137.0, -20.0, -165.0, 119.00000000000001, -121.00000000000001, 114.0, -97.0, 176.0, -3.0, -166.0, 310.0, 62.00000000000001, -228.0, -159.0, -172.0, -246.00000000000003, -275.0, 22.0, -197.0, -76.0, -226.0, -98.0, -225.0, -79.0, 154.0, 107.0, -16.0, -244.00000000000003, null, null, 184.0, 137.0, -29.000000000000004, null, null, -73.0, -36.0, 138.0, -123.00000000000001, -76.0, -99.0, -113.0, -204.0, -264.0, -143.0, -111.0, -185.0, -250.00000000000003, 69.0, 100.0, 112.0, 102.0, -138.0, -63.00000000000001, -160.0, -261.0, -200.0, null, null, null, -3.0, -11.0, 88.0, 26.0, 50.0, -161.0, -190.0, 8.0, -134.0, -160.0, -228.0, -175.0, -184.0, -131.0, -223.0, 104.0, 16.0, -79.0, 114.0, 104.0, 127.00000000000001, null, null, -216.0, -142.0, -208.0, -212.0, -199.0, -42.0, -164.0, null, -215.0, -156.0, -53.0, -128.0, -185.0, -168.0, -53.0, -198.0, -181.0, -177.0, -248.00000000000003, -7.0, -112.0, -232.00000000000003, -212.0, -96.0, -190.0, 86.0, -155.0, -210.0, -119.00000000000001, 133.0, -132.0, -265.0, -133.0, -263.0, null, null, -151.0, -110.0, -151.0, -246.00000000000003, -238.00000000000003, -27.0, -213.0, -113.0, -210.0, -253.00000000000003, -223.0, -213.0, -255.00000000000003, -243.00000000000003, -139.0, -209.0, -258.0, -84.0, 90.0, -8.0, 89.0, 152.0, 99.0, 10.0, -155.0, -121.00000000000001, -246.00000000000003], \"xaxis\": \"x\", \"yaxis\": \"y\"}],\n                        {\"barmode\": \"relative\", \"legend\": {\"title\": {\"text\": \"variable\"}, \"tracegroupgap\": 0}, \"margin\": {\"t\": 60}, \"template\": {\"data\": {\"bar\": [{\"error_x\": {\"color\": \"#2a3f5f\"}, \"error_y\": {\"color\": \"#2a3f5f\"}, \"marker\": {\"line\": {\"color\": \"#E5ECF6\", \"width\": 0.5}}, \"type\": \"bar\"}], \"barpolar\": [{\"marker\": {\"line\": {\"color\": \"#E5ECF6\", \"width\": 0.5}}, \"type\": \"barpolar\"}], \"carpet\": [{\"aaxis\": {\"endlinecolor\": \"#2a3f5f\", \"gridcolor\": \"white\", \"linecolor\": \"white\", \"minorgridcolor\": \"white\", \"startlinecolor\": \"#2a3f5f\"}, \"baxis\": {\"endlinecolor\": \"#2a3f5f\", \"gridcolor\": \"white\", \"linecolor\": \"white\", \"minorgridcolor\": \"white\", \"startlinecolor\": \"#2a3f5f\"}, \"type\": \"carpet\"}], \"choropleth\": [{\"colorbar\": {\"outlinewidth\": 0, \"ticks\": \"\"}, \"type\": \"choropleth\"}], \"contour\": [{\"colorbar\": {\"outlinewidth\": 0, \"ticks\": \"\"}, \"colorscale\": [[0.0, \"#0d0887\"], [0.1111111111111111, \"#46039f\"], [0.2222222222222222, \"#7201a8\"], [0.3333333333333333, \"#9c179e\"], [0.4444444444444444, \"#bd3786\"], [0.5555555555555556, \"#d8576b\"], [0.6666666666666666, \"#ed7953\"], [0.7777777777777778, \"#fb9f3a\"], [0.8888888888888888, \"#fdca26\"], [1.0, \"#f0f921\"]], \"type\": \"contour\"}], \"contourcarpet\": [{\"colorbar\": {\"outlinewidth\": 0, \"ticks\": \"\"}, \"type\": \"contourcarpet\"}], \"heatmap\": [{\"colorbar\": {\"outlinewidth\": 0, \"ticks\": \"\"}, \"colorscale\": [[0.0, \"#0d0887\"], [0.1111111111111111, \"#46039f\"], [0.2222222222222222, \"#7201a8\"], [0.3333333333333333, \"#9c179e\"], [0.4444444444444444, \"#bd3786\"], [0.5555555555555556, \"#d8576b\"], [0.6666666666666666, \"#ed7953\"], [0.7777777777777778, \"#fb9f3a\"], [0.8888888888888888, \"#fdca26\"], [1.0, \"#f0f921\"]], \"type\": \"heatmap\"}], \"heatmapgl\": [{\"colorbar\": {\"outlinewidth\": 0, \"ticks\": \"\"}, \"colorscale\": [[0.0, \"#0d0887\"], [0.1111111111111111, \"#46039f\"], [0.2222222222222222, \"#7201a8\"], [0.3333333333333333, \"#9c179e\"], [0.4444444444444444, \"#bd3786\"], [0.5555555555555556, \"#d8576b\"], [0.6666666666666666, \"#ed7953\"], [0.7777777777777778, \"#fb9f3a\"], [0.8888888888888888, \"#fdca26\"], [1.0, \"#f0f921\"]], \"type\": \"heatmapgl\"}], \"histogram\": [{\"marker\": {\"colorbar\": {\"outlinewidth\": 0, \"ticks\": \"\"}}, \"type\": \"histogram\"}], \"histogram2d\": [{\"colorbar\": {\"outlinewidth\": 0, \"ticks\": \"\"}, \"colorscale\": [[0.0, \"#0d0887\"], [0.1111111111111111, \"#46039f\"], [0.2222222222222222, \"#7201a8\"], [0.3333333333333333, \"#9c179e\"], [0.4444444444444444, \"#bd3786\"], [0.5555555555555556, \"#d8576b\"], [0.6666666666666666, \"#ed7953\"], [0.7777777777777778, \"#fb9f3a\"], [0.8888888888888888, \"#fdca26\"], [1.0, \"#f0f921\"]], \"type\": \"histogram2d\"}], \"histogram2dcontour\": [{\"colorbar\": {\"outlinewidth\": 0, \"ticks\": \"\"}, \"colorscale\": [[0.0, \"#0d0887\"], [0.1111111111111111, \"#46039f\"], [0.2222222222222222, \"#7201a8\"], [0.3333333333333333, \"#9c179e\"], [0.4444444444444444, \"#bd3786\"], [0.5555555555555556, \"#d8576b\"], [0.6666666666666666, \"#ed7953\"], [0.7777777777777778, \"#fb9f3a\"], [0.8888888888888888, \"#fdca26\"], [1.0, \"#f0f921\"]], \"type\": \"histogram2dcontour\"}], \"mesh3d\": [{\"colorbar\": {\"outlinewidth\": 0, \"ticks\": \"\"}, \"type\": \"mesh3d\"}], \"parcoords\": [{\"line\": {\"colorbar\": {\"outlinewidth\": 0, \"ticks\": \"\"}}, \"type\": \"parcoords\"}], \"pie\": [{\"automargin\": true, \"type\": \"pie\"}], \"scatter\": [{\"marker\": {\"colorbar\": {\"outlinewidth\": 0, \"ticks\": \"\"}}, \"type\": \"scatter\"}], \"scatter3d\": [{\"line\": {\"colorbar\": {\"outlinewidth\": 0, \"ticks\": \"\"}}, \"marker\": {\"colorbar\": {\"outlinewidth\": 0, \"ticks\": \"\"}}, \"type\": \"scatter3d\"}], \"scattercarpet\": [{\"marker\": {\"colorbar\": {\"outlinewidth\": 0, \"ticks\": \"\"}}, \"type\": \"scattercarpet\"}], \"scattergeo\": [{\"marker\": {\"colorbar\": {\"outlinewidth\": 0, \"ticks\": \"\"}}, \"type\": \"scattergeo\"}], \"scattergl\": [{\"marker\": {\"colorbar\": {\"outlinewidth\": 0, \"ticks\": \"\"}}, \"type\": \"scattergl\"}], \"scattermapbox\": [{\"marker\": {\"colorbar\": {\"outlinewidth\": 0, \"ticks\": \"\"}}, \"type\": \"scattermapbox\"}], \"scatterpolar\": [{\"marker\": {\"colorbar\": {\"outlinewidth\": 0, \"ticks\": \"\"}}, \"type\": \"scatterpolar\"}], \"scatterpolargl\": [{\"marker\": {\"colorbar\": {\"outlinewidth\": 0, \"ticks\": \"\"}}, \"type\": \"scatterpolargl\"}], \"scatterternary\": [{\"marker\": {\"colorbar\": {\"outlinewidth\": 0, \"ticks\": \"\"}}, \"type\": \"scatterternary\"}], \"surface\": [{\"colorbar\": {\"outlinewidth\": 0, \"ticks\": \"\"}, \"colorscale\": [[0.0, \"#0d0887\"], [0.1111111111111111, \"#46039f\"], [0.2222222222222222, \"#7201a8\"], [0.3333333333333333, \"#9c179e\"], [0.4444444444444444, \"#bd3786\"], [0.5555555555555556, \"#d8576b\"], [0.6666666666666666, \"#ed7953\"], [0.7777777777777778, \"#fb9f3a\"], [0.8888888888888888, \"#fdca26\"], [1.0, \"#f0f921\"]], \"type\": \"surface\"}], \"table\": [{\"cells\": {\"fill\": {\"color\": \"#EBF0F8\"}, \"line\": {\"color\": \"white\"}}, \"header\": {\"fill\": {\"color\": \"#C8D4E3\"}, \"line\": {\"color\": \"white\"}}, \"type\": \"table\"}]}, \"layout\": {\"annotationdefaults\": {\"arrowcolor\": \"#2a3f5f\", \"arrowhead\": 0, \"arrowwidth\": 1}, \"coloraxis\": {\"colorbar\": {\"outlinewidth\": 0, \"ticks\": \"\"}}, \"colorscale\": {\"diverging\": [[0, \"#8e0152\"], [0.1, \"#c51b7d\"], [0.2, \"#de77ae\"], [0.3, \"#f1b6da\"], [0.4, \"#fde0ef\"], [0.5, \"#f7f7f7\"], [0.6, \"#e6f5d0\"], [0.7, \"#b8e186\"], [0.8, \"#7fbc41\"], [0.9, \"#4d9221\"], [1, \"#276419\"]], \"sequential\": [[0.0, \"#0d0887\"], [0.1111111111111111, \"#46039f\"], [0.2222222222222222, \"#7201a8\"], [0.3333333333333333, \"#9c179e\"], [0.4444444444444444, \"#bd3786\"], [0.5555555555555556, \"#d8576b\"], [0.6666666666666666, \"#ed7953\"], [0.7777777777777778, \"#fb9f3a\"], [0.8888888888888888, \"#fdca26\"], [1.0, \"#f0f921\"]], \"sequentialminus\": [[0.0, \"#0d0887\"], [0.1111111111111111, \"#46039f\"], [0.2222222222222222, \"#7201a8\"], [0.3333333333333333, \"#9c179e\"], [0.4444444444444444, \"#bd3786\"], [0.5555555555555556, \"#d8576b\"], [0.6666666666666666, \"#ed7953\"], [0.7777777777777778, \"#fb9f3a\"], [0.8888888888888888, \"#fdca26\"], [1.0, \"#f0f921\"]]}, \"colorway\": [\"#636efa\", \"#EF553B\", \"#00cc96\", \"#ab63fa\", \"#FFA15A\", \"#19d3f3\", \"#FF6692\", \"#B6E880\", \"#FF97FF\", \"#FECB52\"], \"font\": {\"color\": \"#2a3f5f\"}, \"geo\": {\"bgcolor\": \"white\", \"lakecolor\": \"white\", \"landcolor\": \"#E5ECF6\", \"showlakes\": true, \"showland\": true, \"subunitcolor\": \"white\"}, \"hoverlabel\": {\"align\": \"left\"}, \"hovermode\": \"closest\", \"mapbox\": {\"style\": \"light\"}, \"paper_bgcolor\": \"white\", \"plot_bgcolor\": \"#E5ECF6\", \"polar\": {\"angularaxis\": {\"gridcolor\": \"white\", \"linecolor\": \"white\", \"ticks\": \"\"}, \"bgcolor\": \"#E5ECF6\", \"radialaxis\": {\"gridcolor\": \"white\", \"linecolor\": \"white\", \"ticks\": \"\"}}, \"scene\": {\"xaxis\": {\"backgroundcolor\": \"#E5ECF6\", \"gridcolor\": \"white\", \"gridwidth\": 2, \"linecolor\": \"white\", \"showbackground\": true, \"ticks\": \"\", \"zerolinecolor\": \"white\"}, \"yaxis\": {\"backgroundcolor\": \"#E5ECF6\", \"gridcolor\": \"white\", \"gridwidth\": 2, \"linecolor\": \"white\", \"showbackground\": true, \"ticks\": \"\", \"zerolinecolor\": \"white\"}, \"zaxis\": {\"backgroundcolor\": \"#E5ECF6\", \"gridcolor\": \"white\", \"gridwidth\": 2, \"linecolor\": \"white\", \"showbackground\": true, \"ticks\": \"\", \"zerolinecolor\": \"white\"}}, \"shapedefaults\": {\"line\": {\"color\": \"#2a3f5f\"}}, \"ternary\": {\"aaxis\": {\"gridcolor\": \"white\", \"linecolor\": \"white\", \"ticks\": \"\"}, \"baxis\": {\"gridcolor\": \"white\", \"linecolor\": \"white\", \"ticks\": \"\"}, \"bgcolor\": \"#E5ECF6\", \"caxis\": {\"gridcolor\": \"white\", \"linecolor\": \"white\", \"ticks\": \"\"}}, \"title\": {\"x\": 0.05}, \"xaxis\": {\"automargin\": true, \"gridcolor\": \"white\", \"linecolor\": \"white\", \"ticks\": \"\", \"title\": {\"standoff\": 15}, \"zerolinecolor\": \"white\", \"zerolinewidth\": 2}, \"yaxis\": {\"automargin\": true, \"gridcolor\": \"white\", \"linecolor\": \"white\", \"ticks\": \"\", \"title\": {\"standoff\": 15}, \"zerolinecolor\": \"white\", \"zerolinewidth\": 2}}}, \"xaxis\": {\"anchor\": \"y\", \"domain\": [0.0, 1.0], \"title\": {\"text\": \"value\"}}, \"yaxis\": {\"anchor\": \"x\", \"domain\": [0.0, 1.0], \"title\": {\"text\": \"count\"}}},\n                        {\"responsive\": true}\n                    ).then(function(){\n                            \nvar gd = document.getElementById('9b3ac479-db44-47ca-b26c-f6313a687526');\nvar x = new MutationObserver(function (mutations, observer) {{\n        var display = window.getComputedStyle(gd).display;\n        if (!display || display === 'none') {{\n            console.log([gd, 'removed!']);\n            Plotly.purge(gd);\n            observer.disconnect();\n        }}\n}});\n\n// Listen for the removal of the full notebook cells\nvar notebookContainer = gd.closest('#notebook-container');\nif (notebookContainer) {{\n    x.observe(notebookContainer, {childList: true});\n}}\n\n// Listen for the clearing of the current output cell\nvar outputEl = gd.closest('.output');\nif (outputEl) {{\n    x.observe(outputEl, {childList: true});\n}}\n\n                        })\n                };\n                });\n            </script>\n        </div>"
     },
     "metadata": {},
     "output_type": "display_data"
    }
   ],
   "source": [
    "diffs.apply(lambda c: c.dt.total_seconds(), axis=0)['37'].hist()\n",
    "# things to fix: NaN and NAT esp in csv parsing\n",
    "# better way truncate dates?\n",
    "#"
   ],
   "metadata": {
    "collapsed": false,
    "pycharm": {
     "name": "#%%\n"
    }
   }
  },
  {
   "cell_type": "code",
   "execution_count": 279,
   "outputs": [],
   "source": [
    "barchart_data = pd.concat([\n",
    "pd.DataFrame(data={'type': 'delayed',\n",
    "                   'count':diffs.apply(lambda c: (c.dt.total_seconds() > 0).sum(), axis=0)\n",
    "                   }),\n",
    "    pd.DataFrame(data=\n",
    "                 {'type': 'not delayed',\n",
    "                   'count':diffs.apply(lambda c: (c.dt.total_seconds() < 0).sum(), axis=0)\n",
    "                   })])"
   ],
   "metadata": {
    "collapsed": false,
    "pycharm": {
     "name": "#%%\n"
    }
   }
  },
  {
   "cell_type": "code",
   "execution_count": 288,
   "outputs": [
    {
     "data": {
      "text/plain": "                         0      1      2      3      4      5      6      7  \\\n2020-01-10 11:51:00  False  False  False  False  False  False  False  False   \n2020-01-10 11:57:00  False  False  False  False  False  False  False  False   \n2020-01-10 12:03:00  False  False  False  False  False  False  False  False   \n2020-01-10 12:09:00  False  False  False  False  False  False  False  False   \n2020-01-10 12:15:00  False  False  False  False  False  False  False  False   \n...                    ...    ...    ...    ...    ...    ...    ...    ...   \n2020-03-16 12:15:00  False  False  False  False  False  False  False  False   \n2020-03-16 12:21:00  False  False  False  False  False  False  False  False   \n2020-03-16 12:27:00  False  False  False  False  False  False  False  False   \n2020-03-16 12:33:00  False  False  False  False  False  False  False  False   \n2020-03-16 12:39:00  False  False  False  False  False  False  False  False   \n\n                         8      9  ...     28     29     30     31     32  \\\n2020-01-10 11:51:00  False  False  ...  False  False  False  False   True   \n2020-01-10 11:57:00  False  False  ...  False  False  False   True   True   \n2020-01-10 12:03:00  False  False  ...   True   True   True   True   True   \n2020-01-10 12:09:00  False  False  ...  False  False  False  False  False   \n2020-01-10 12:15:00  False  False  ...   True   True   True   True   True   \n...                    ...    ...  ...    ...    ...    ...    ...    ...   \n2020-03-16 12:15:00  False  False  ...  False  False  False  False  False   \n2020-03-16 12:21:00  False  False  ...  False  False  False  False  False   \n2020-03-16 12:27:00  False  False  ...  False  False  False  False  False   \n2020-03-16 12:33:00  False  False  ...  False  False  False  False  False   \n2020-03-16 12:39:00  False  False  ...  False  False  False  False  False   \n\n                        33     34     35     36     37  \n2020-01-10 11:51:00  False  False  False  False  False  \n2020-01-10 11:57:00   True  False  False  False   True  \n2020-01-10 12:03:00   True  False  False  False   True  \n2020-01-10 12:09:00  False  False  False  False   True  \n2020-01-10 12:15:00   True  False  False  False   True  \n...                    ...    ...    ...    ...    ...  \n2020-03-16 12:15:00  False  False  False  False   True  \n2020-03-16 12:21:00  False   True   True   True  False  \n2020-03-16 12:27:00  False  False  False  False  False  \n2020-03-16 12:33:00  False  False  False  False  False  \n2020-03-16 12:39:00  False  False  False  False  False  \n\n[393 rows x 38 columns]",
      "text/html": "<div>\n<style scoped>\n    .dataframe tbody tr th:only-of-type {\n        vertical-align: middle;\n    }\n\n    .dataframe tbody tr th {\n        vertical-align: top;\n    }\n\n    .dataframe thead th {\n        text-align: right;\n    }\n</style>\n<table border=\"1\" class=\"dataframe\">\n  <thead>\n    <tr style=\"text-align: right;\">\n      <th></th>\n      <th>0</th>\n      <th>1</th>\n      <th>2</th>\n      <th>3</th>\n      <th>4</th>\n      <th>5</th>\n      <th>6</th>\n      <th>7</th>\n      <th>8</th>\n      <th>9</th>\n      <th>...</th>\n      <th>28</th>\n      <th>29</th>\n      <th>30</th>\n      <th>31</th>\n      <th>32</th>\n      <th>33</th>\n      <th>34</th>\n      <th>35</th>\n      <th>36</th>\n      <th>37</th>\n    </tr>\n  </thead>\n  <tbody>\n    <tr>\n      <th>2020-01-10 11:51:00</th>\n      <td>False</td>\n      <td>False</td>\n      <td>False</td>\n      <td>False</td>\n      <td>False</td>\n      <td>False</td>\n      <td>False</td>\n      <td>False</td>\n      <td>False</td>\n      <td>False</td>\n      <td>...</td>\n      <td>False</td>\n      <td>False</td>\n      <td>False</td>\n      <td>False</td>\n      <td>True</td>\n      <td>False</td>\n      <td>False</td>\n      <td>False</td>\n      <td>False</td>\n      <td>False</td>\n    </tr>\n    <tr>\n      <th>2020-01-10 11:57:00</th>\n      <td>False</td>\n      <td>False</td>\n      <td>False</td>\n      <td>False</td>\n      <td>False</td>\n      <td>False</td>\n      <td>False</td>\n      <td>False</td>\n      <td>False</td>\n      <td>False</td>\n      <td>...</td>\n      <td>False</td>\n      <td>False</td>\n      <td>False</td>\n      <td>True</td>\n      <td>True</td>\n      <td>True</td>\n      <td>False</td>\n      <td>False</td>\n      <td>False</td>\n      <td>True</td>\n    </tr>\n    <tr>\n      <th>2020-01-10 12:03:00</th>\n      <td>False</td>\n      <td>False</td>\n      <td>False</td>\n      <td>False</td>\n      <td>False</td>\n      <td>False</td>\n      <td>False</td>\n      <td>False</td>\n      <td>False</td>\n      <td>False</td>\n      <td>...</td>\n      <td>True</td>\n      <td>True</td>\n      <td>True</td>\n      <td>True</td>\n      <td>True</td>\n      <td>True</td>\n      <td>False</td>\n      <td>False</td>\n      <td>False</td>\n      <td>True</td>\n    </tr>\n    <tr>\n      <th>2020-01-10 12:09:00</th>\n      <td>False</td>\n      <td>False</td>\n      <td>False</td>\n      <td>False</td>\n      <td>False</td>\n      <td>False</td>\n      <td>False</td>\n      <td>False</td>\n      <td>False</td>\n      <td>False</td>\n      <td>...</td>\n      <td>False</td>\n      <td>False</td>\n      <td>False</td>\n      <td>False</td>\n      <td>False</td>\n      <td>False</td>\n      <td>False</td>\n      <td>False</td>\n      <td>False</td>\n      <td>True</td>\n    </tr>\n    <tr>\n      <th>2020-01-10 12:15:00</th>\n      <td>False</td>\n      <td>False</td>\n      <td>False</td>\n      <td>False</td>\n      <td>False</td>\n      <td>False</td>\n      <td>False</td>\n      <td>False</td>\n      <td>False</td>\n      <td>False</td>\n      <td>...</td>\n      <td>True</td>\n      <td>True</td>\n      <td>True</td>\n      <td>True</td>\n      <td>True</td>\n      <td>True</td>\n      <td>False</td>\n      <td>False</td>\n      <td>False</td>\n      <td>True</td>\n    </tr>\n    <tr>\n      <th>...</th>\n      <td>...</td>\n      <td>...</td>\n      <td>...</td>\n      <td>...</td>\n      <td>...</td>\n      <td>...</td>\n      <td>...</td>\n      <td>...</td>\n      <td>...</td>\n      <td>...</td>\n      <td>...</td>\n      <td>...</td>\n      <td>...</td>\n      <td>...</td>\n      <td>...</td>\n      <td>...</td>\n      <td>...</td>\n      <td>...</td>\n      <td>...</td>\n      <td>...</td>\n      <td>...</td>\n    </tr>\n    <tr>\n      <th>2020-03-16 12:15:00</th>\n      <td>False</td>\n      <td>False</td>\n      <td>False</td>\n      <td>False</td>\n      <td>False</td>\n      <td>False</td>\n      <td>False</td>\n      <td>False</td>\n      <td>False</td>\n      <td>False</td>\n      <td>...</td>\n      <td>False</td>\n      <td>False</td>\n      <td>False</td>\n      <td>False</td>\n      <td>False</td>\n      <td>False</td>\n      <td>False</td>\n      <td>False</td>\n      <td>False</td>\n      <td>True</td>\n    </tr>\n    <tr>\n      <th>2020-03-16 12:21:00</th>\n      <td>False</td>\n      <td>False</td>\n      <td>False</td>\n      <td>False</td>\n      <td>False</td>\n      <td>False</td>\n      <td>False</td>\n      <td>False</td>\n      <td>False</td>\n      <td>False</td>\n      <td>...</td>\n      <td>False</td>\n      <td>False</td>\n      <td>False</td>\n      <td>False</td>\n      <td>False</td>\n      <td>False</td>\n      <td>True</td>\n      <td>True</td>\n      <td>True</td>\n      <td>False</td>\n    </tr>\n    <tr>\n      <th>2020-03-16 12:27:00</th>\n      <td>False</td>\n      <td>False</td>\n      <td>False</td>\n      <td>False</td>\n      <td>False</td>\n      <td>False</td>\n      <td>False</td>\n      <td>False</td>\n      <td>False</td>\n      <td>False</td>\n      <td>...</td>\n      <td>False</td>\n      <td>False</td>\n      <td>False</td>\n      <td>False</td>\n      <td>False</td>\n      <td>False</td>\n      <td>False</td>\n      <td>False</td>\n      <td>False</td>\n      <td>False</td>\n    </tr>\n    <tr>\n      <th>2020-03-16 12:33:00</th>\n      <td>False</td>\n      <td>False</td>\n      <td>False</td>\n      <td>False</td>\n      <td>False</td>\n      <td>False</td>\n      <td>False</td>\n      <td>False</td>\n      <td>False</td>\n      <td>False</td>\n      <td>...</td>\n      <td>False</td>\n      <td>False</td>\n      <td>False</td>\n      <td>False</td>\n      <td>False</td>\n      <td>False</td>\n      <td>False</td>\n      <td>False</td>\n      <td>False</td>\n      <td>False</td>\n    </tr>\n    <tr>\n      <th>2020-03-16 12:39:00</th>\n      <td>False</td>\n      <td>False</td>\n      <td>False</td>\n      <td>False</td>\n      <td>False</td>\n      <td>False</td>\n      <td>False</td>\n      <td>False</td>\n      <td>False</td>\n      <td>False</td>\n      <td>...</td>\n      <td>False</td>\n      <td>False</td>\n      <td>False</td>\n      <td>False</td>\n      <td>False</td>\n      <td>False</td>\n      <td>False</td>\n      <td>False</td>\n      <td>False</td>\n      <td>False</td>\n    </tr>\n  </tbody>\n</table>\n<p>393 rows × 38 columns</p>\n</div>"
     },
     "execution_count": 288,
     "metadata": {},
     "output_type": "execute_result"
    }
   ],
   "source": [
    "diffs.apply(lambda c: (c.dt.total_seconds() > 30), axis=0)"
   ],
   "metadata": {
    "collapsed": false,
    "pycharm": {
     "name": "#%%\n"
    }
   }
  },
  {
   "cell_type": "code",
   "execution_count": null,
   "outputs": [],
   "source": [
    "fig = go.Figure(data=[\n",
    "    go.Scatter(mode='lines+markers',\n",
    "name='Delay',\n",
    "y=(late_trip - (onetime_trip + (late_trip[1] - onetime_trip[1])) ) + pd.to_datetime('2020-08-04'),\n",
    "x=arrivals_and_expected.columns)])\n",
    "\n",
    "# same as taking difference of trip lengths?\n",
    "# I think so I'm just not seeing it\n",
    "# (E_1 - S_1) - (E_2 - S_2)\n",
    "# (E_2 - E_1) - (S_2 - S_1)\n",
    "fig.add_trace(go.Scatter(mode='lines+markers',\n",
    "name='Derivative',\n",
    "y=(late_trip - (onetime_trip + (late_trip[1] - onetime_trip[1])) ).diff()+ pd.to_datetime('2020-08-04'),\n",
    "x=arrivals_and_expected.columns))\n",
    "\n",
    "fig.update_layout(\n",
    "    title=f'Delays',\n",
    "    xaxis_title=f'Station',\n",
    "    yaxis_title=f'Difference'\n",
    ")"
   ],
   "metadata": {
    "collapsed": false,
    "pycharm": {
     "name": "#%%\n"
    }
   }
  },
  {
   "cell_type": "code",
   "execution_count": 285,
   "outputs": [],
   "source": [
    "barchart_data['station'] = barchart_data.index\n",
    "px.bar(barchart_data, x='station', y='count', color='type', title='Delays by Station').write_html('delays_by_station.html')"
   ],
   "metadata": {
    "collapsed": false,
    "pycharm": {
     "name": "#%%\n"
    }
   }
  },
  {
   "cell_type": "code",
   "execution_count": 269,
   "outputs": [
    {
     "data": {
      "text/plain": "        nation   medal  count\n0  South Korea    gold     24\n1        China    gold     10\n2       Canada    gold      9\n3  South Korea  silver     13\n4        China  silver     15\n5       Canada  silver     12\n6  South Korea  bronze     11\n7        China  bronze      8\n8       Canada  bronze     12",
      "text/html": "<div>\n<style scoped>\n    .dataframe tbody tr th:only-of-type {\n        vertical-align: middle;\n    }\n\n    .dataframe tbody tr th {\n        vertical-align: top;\n    }\n\n    .dataframe thead th {\n        text-align: right;\n    }\n</style>\n<table border=\"1\" class=\"dataframe\">\n  <thead>\n    <tr style=\"text-align: right;\">\n      <th></th>\n      <th>nation</th>\n      <th>medal</th>\n      <th>count</th>\n    </tr>\n  </thead>\n  <tbody>\n    <tr>\n      <th>0</th>\n      <td>South Korea</td>\n      <td>gold</td>\n      <td>24</td>\n    </tr>\n    <tr>\n      <th>1</th>\n      <td>China</td>\n      <td>gold</td>\n      <td>10</td>\n    </tr>\n    <tr>\n      <th>2</th>\n      <td>Canada</td>\n      <td>gold</td>\n      <td>9</td>\n    </tr>\n    <tr>\n      <th>3</th>\n      <td>South Korea</td>\n      <td>silver</td>\n      <td>13</td>\n    </tr>\n    <tr>\n      <th>4</th>\n      <td>China</td>\n      <td>silver</td>\n      <td>15</td>\n    </tr>\n    <tr>\n      <th>5</th>\n      <td>Canada</td>\n      <td>silver</td>\n      <td>12</td>\n    </tr>\n    <tr>\n      <th>6</th>\n      <td>South Korea</td>\n      <td>bronze</td>\n      <td>11</td>\n    </tr>\n    <tr>\n      <th>7</th>\n      <td>China</td>\n      <td>bronze</td>\n      <td>8</td>\n    </tr>\n    <tr>\n      <th>8</th>\n      <td>Canada</td>\n      <td>bronze</td>\n      <td>12</td>\n    </tr>\n  </tbody>\n</table>\n</div>"
     },
     "execution_count": 269,
     "metadata": {},
     "output_type": "execute_result"
    }
   ],
   "source": [
    "import plotly.express as px\n",
    "px.data.medals_long()\n",
    "px.bar(barchart_data[['station', 'type', 'count']])"
   ],
   "metadata": {
    "collapsed": false,
    "pycharm": {
     "name": "#%%\n"
    }
   }
  }
 ],
 "metadata": {
  "kernelspec": {
   "display_name": "Python 3",
   "language": "python",
   "name": "python3"
  },
  "language_info": {
   "codemirror_mode": {
    "name": "ipython",
    "version": 2
   },
   "file_extension": ".py",
   "mimetype": "text/x-python",
   "name": "python",
   "nbconvert_exporter": "python",
   "pygments_lexer": "ipython2",
   "version": "2.7.6"
  }
 },
 "nbformat": 4,
 "nbformat_minor": 0
}