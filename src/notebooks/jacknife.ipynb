{
 "cells": [
  {
   "cell_type": "code",
   "execution_count": 1,
   "metadata": {
    "collapsed": true,
    "pycharm": {
     "is_executing": false
    }
   },
   "outputs": [],
   "source": [
    "import pandas as pd\n",
    "import numpy as np\n",
    "\n",
    "pd.options.plotting.backend = \"plotly\"\n",
    "\n",
    "# simple example of lightspeeds\n",
    "\n",
    "speeds = np.array([28, -44, 29, 30, 26, 27, 22, 23, 33, 16, 24, 29, 24,\n",
    "40 , 21, 31, 34, -2, 25, 19])"
   ]
  },
  {
   "cell_type": "code",
   "execution_count": 19,
   "outputs": [],
   "source": [
    "# should be 33.02\n",
    "# sample is light.mean() = 21.75\n",
    "\n",
    "# jackknife is earlier version of bootstrap: let's\n",
    "# us estimate moments of estimator \n",
    "# simple jacknife holds out on data point\n",
    "# psuedo = est + (n - 1)(est - est_{one data point removed}) \n",
    "\n",
    "# difference between bootstrap and cross validation?\n",
    "# bootstrap for estimating errors of estimators (as is jacknife)\n",
    "# cross validation is for estimating model generalization\n",
    "# how is jacknife a special case of bootstrap?\n",
    "\n",
    "# the estimator of a sample parameter\n",
    "est = lambda x: x.mean()\n",
    "\n",
    "def jacknife_first_moment_est(x, est):\n",
    "    n = len(x)\n",
    "    idx = np.arange(n)\n",
    "    return np.sum([est(x) \n",
    "                   + (n - 1)*(est(x) - est(x[idx != i]))\n",
    "                    for i in range(n) ]) / n\n",
    "\n",
    "def jacknife_second_moment(x, est):\n",
    "    n = len(x)\n",
    "    idx = np.arange(n)\n",
    "    mean = jacknife_first_moment_est(x, est)\n",
    "    return np.sum([(\n",
    "                    est(x) \n",
    "                   + (n - 1)*(est(x) - est(x[idx != i]\n",
    "                                           )) - mean)**2\n",
    "                    for i in range(n) ]) / (n - 1)"
   ],
   "metadata": {
    "collapsed": false,
    "pycharm": {
     "name": "#%%\n",
     "is_executing": false
    }
   }
  },
  {
   "cell_type": "code",
   "execution_count": 32,
   "outputs": [
    {
     "data": {
      "text/plain": "15.923365543043044"
     },
     "metadata": {},
     "output_type": "execute_result",
     "execution_count": 32
    }
   ],
   "source": [
    "# bootstrap means\n",
    "np.random.choice(speeds, (1000, 20))\\\n",
    "    .mean(axis=1)\\\n",
    "    .var(ddof=1)"
   ],
   "metadata": {
    "collapsed": false,
    "pycharm": {
     "name": "#%%\n",
     "is_executing": false
    }
   }
  },
  {
   "cell_type": "code",
   "execution_count": 18,
   "outputs": [
    {
     "data": {
      "text/plain": "20"
     },
     "metadata": {},
     "output_type": "execute_result",
     "execution_count": 18
    }
   ],
   "source": [
    "len(speeds)"
   ],
   "metadata": {
    "collapsed": false,
    "pycharm": {
     "name": "#%%\n",
     "is_executing": false
    }
   }
  },
  {
   "cell_type": "code",
   "execution_count": 26,
   "outputs": [
    {
     "data": {
      "text/plain": "21.75"
     },
     "metadata": {},
     "output_type": "execute_result",
     "execution_count": 26
    }
   ],
   "source": [
    "speeds.mean()"
   ],
   "metadata": {
    "collapsed": false,
    "pycharm": {
     "name": "#%%\n",
     "is_executing": false
    }
   }
  },
  {
   "cell_type": "code",
   "execution_count": 20,
   "outputs": [
    {
     "data": {
      "text/plain": "21.749999999999996"
     },
     "metadata": {},
     "output_type": "execute_result",
     "execution_count": 20
    }
   ],
   "source": [
    "jacknife_first_moment_est(speeds, np.mean)"
   ],
   "metadata": {
    "collapsed": false,
    "pycharm": {
     "name": "#%%\n",
     "is_executing": false
    }
   }
  },
  {
   "cell_type": "code",
   "execution_count": 31,
   "outputs": [
    {
     "data": {
      "text/plain": "15.536184210526304"
     },
     "metadata": {},
     "output_type": "execute_result",
     "execution_count": 31
    }
   ],
   "source": [
    "jacknife_second_moment(speeds, np.mean)/20"
   ],
   "metadata": {
    "collapsed": false,
    "pycharm": {
     "name": "#%%\n",
     "is_executing": false
    }
   }
  },
  {
   "cell_type": "code",
   "execution_count": 15,
   "outputs": [
    {
     "data": {
      "text/plain": "array([[2, 3, 4],\n       [1, 3, 4],\n       [1, 2, 4],\n       [1, 2, 3]])"
     },
     "metadata": {},
     "output_type": "execute_result",
     "execution_count": 15
    }
   ],
   "source": [
    "#to_holdout\n",
    "#np.identity(2)"
   ],
   "metadata": {
    "collapsed": false,
    "pycharm": {
     "name": "#%%\n",
     "is_executing": false
    }
   }
  }
 ],
 "metadata": {
  "kernelspec": {
   "display_name": "Python 3",
   "language": "python",
   "name": "python3"
  },
  "language_info": {
   "codemirror_mode": {
    "name": "ipython",
    "version": 2
   },
   "file_extension": ".py",
   "mimetype": "text/x-python",
   "name": "python",
   "nbconvert_exporter": "python",
   "pygments_lexer": "ipython2",
   "version": "2.7.6"
  },
  "pycharm": {
   "stem_cell": {
    "cell_type": "raw",
    "source": [],
    "metadata": {
     "collapsed": false
    }
   }
  }
 },
 "nbformat": 4,
 "nbformat_minor": 0
}