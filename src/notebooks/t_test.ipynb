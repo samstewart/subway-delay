{
 "cells": [
  {
   "cell_type": "code",
   "execution_count": 3,
   "metadata": {
    "collapsed": true,
    "pycharm": {
     "is_executing": false
    }
   },
   "outputs": [],
   "source": [
    "import pandas as pd\n",
    "import numpy as np\n",
    "from scipy.stats import t\n",
    "import math\n",
    "pd.options.plotting.backend = \"plotly\""
   ]
  },
  {
   "cell_type": "code",
   "execution_count": 6,
   "outputs": [
    {
     "data": {
      "text/plain": "0.1911420676837155"
     },
     "metadata": {},
     "output_type": "execute_result",
     "execution_count": 6
    }
   ],
   "source": [
    "n = 20 \n",
    "mu1 = 108\n",
    "mu0 = 110\n",
    "sigma1 = 10\n",
    "se = sigma1/math.sqrt(n)\n",
    "dof = n - 1\n",
    "sig_level = .01\n",
    "# p-value\n",
    "t_stat = (mu1 - mu0) / se\n",
    "\n",
    "p_val = t.cdf(t_stat,dof)\n",
    "p_val"
   ],
   "metadata": {
    "collapsed": false,
    "pycharm": {
     "name": "#%%\n",
     "is_executing": false
    }
   }
  },
  {
   "cell_type": "code",
   "execution_count": 17,
   "outputs": [
    {
     "data": {
      "text/plain": "(102.3215429580505, inf)"
     },
     "metadata": {},
     "output_type": "execute_result",
     "execution_count": 17
    }
   ],
   "source": [
    "# confidence interval\n",
    "# if we are testing < hypothesis, we get lower bound.\n",
    "t_crit = t.ppf(sig_level, dof) \n",
    "# we think true mean is in this interval with 95% prob\n",
    "(mu1 + t_crit * se, np.inf)"
   ],
   "metadata": {
    "collapsed": false,
    "pycharm": {
     "name": "#%%\n",
     "is_executing": false
    }
   }
  },
  {
   "cell_type": "code",
   "execution_count": 27,
   "outputs": [
    {
     "data": {
      "text/plain": "0.9983426962478585"
     },
     "metadata": {},
     "output_type": "execute_result",
     "execution_count": 27
    }
   ],
   "source": [
    "from statsmodels.stats.power import tt_ind_solve_power\n",
    "# with our sample size very low chance of false negative\n",
    "1 - tt_ind_solve_power(effect_size=2.0/10.0, alpha=0.01, \n",
    "                   nobs1=20, ratio=1, \n",
    "                   alternative='smaller')\n",
    "\n",
    "# sig level and power are dual / symmetric.\n",
    "# p value is for a given sample\n",
    "# can think of hypothesis test as a classifier.\n",
    "# think of designing test and then performing realizations\n",
    "# of it. we are \"sampling\" from the test.\n",
    "# hypothesis test is an estimator for the truthfulness\n",
    "# of a proposition.\n",
    "\n",
    "# type I error and type II error are calculated with\n",
    "# null distribution and alternative distribution resp.\n",
    "# for T test I think it so happens that both distributions\n",
    "# are the same?\n",
    "# nice answer using risk function:\n",
    "# https://stats.stackexchange.com/questions/436226/difference-relationship-between-power-and-significance\n",
    "# good answer on why classification is not the same as hyp testing\n",
    "# (hyp testing is assymetric because we bias risk towards ignorning true signals, type II)\n",
    "# https://stats.stackexchange.com/questions/240138/why-is-binary-classification-not-a-hypothesis-test\n",
    "# good answer: https://stats.stackexchange.com/a/436264\n",
    "# note that both hypotheses are actually collections of distributions\n",
    "# so p-value is really a way of measuring distance between distributions\n",
    "# inference vs estimation:\n",
    "# https://stats.stackexchange.com/questions/130867/inference-vs-estimation\n",
    "\n",
    "# does confidence interval rely on dist being symmetric? \n",
    "# type I error: sig level = CDF_T(T_crit)\n",
    "# type II error: CDF_T(T_crit - effect size * sqrt(n))"
   ],
   "metadata": {
    "collapsed": false,
    "pycharm": {
     "name": "#%% power analysis\n",
     "is_executing": false
    }
   }
  }
 ],
 "metadata": {
  "kernelspec": {
   "display_name": "Python 3",
   "language": "python",
   "name": "python3"
  },
  "language_info": {
   "codemirror_mode": {
    "name": "ipython",
    "version": 2
   },
   "file_extension": ".py",
   "mimetype": "text/x-python",
   "name": "python",
   "nbconvert_exporter": "python",
   "pygments_lexer": "ipython2",
   "version": "2.7.6"
  },
  "pycharm": {
   "stem_cell": {
    "cell_type": "raw",
    "source": [],
    "metadata": {
     "collapsed": false
    }
   }
  }
 },
 "nbformat": 4,
 "nbformat_minor": 0
}